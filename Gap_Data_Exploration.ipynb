{
  "nbformat": 4,
  "nbformat_minor": 0,
  "metadata": {
    "colab": {
      "name": "Gap_Data_Exploration.ipynb",
      "provenance": [],
      "include_colab_link": true
    },
    "kernelspec": {
      "name": "python3",
      "display_name": "Python 3"
    }
  },
  "cells": [
    {
      "cell_type": "markdown",
      "metadata": {
        "id": "view-in-github",
        "colab_type": "text"
      },
      "source": [
        "<a href=\"https://colab.research.google.com/github/INLANA01/capstone_project_coref_with_transformers/blob/main/Gap_Data_Exploration.ipynb\" target=\"_parent\"><img src=\"https://colab.research.google.com/assets/colab-badge.svg\" alt=\"Open In Colab\"/></a>"
      ]
    },
    {
      "cell_type": "code",
      "metadata": {
        "colab": {
          "base_uri": "https://localhost:8080/"
        },
        "id": "xg68r-3cztAz",
        "outputId": "1127e05d-7cc1-4714-9d11-0b4d8715d893"
      },
      "source": [
        "import re\r\n",
        "import pandas as pd\r\n",
        "import spacy\r\n",
        "from spacy.symbols import PROPN, PERSON\r\n",
        "from __future__ import unicode_literals, print_function\r\n",
        "import nltk\r\n",
        "nltk.download('punkt')\r\n",
        "nltk.download('averaged_perceptron_tagger')\r\n",
        "from collections import defaultdict\r\n",
        "import matplotlib.pyplot as plt"
      ],
      "execution_count": null,
      "outputs": [
        {
          "output_type": "stream",
          "text": [
            "[nltk_data] Downloading package punkt to /root/nltk_data...\n",
            "[nltk_data]   Package punkt is already up-to-date!\n",
            "[nltk_data] Downloading package averaged_perceptron_tagger to\n",
            "[nltk_data]     /root/nltk_data...\n",
            "[nltk_data]   Package averaged_perceptron_tagger is already up-to-\n",
            "[nltk_data]       date!\n"
          ],
          "name": "stdout"
        }
      ]
    },
    {
      "cell_type": "code",
      "metadata": {
        "id": "VrXi20cxzj6Z"
      },
      "source": [
        "train = pd.read_csv('gap-development.tsv', sep='\\t')\r\n",
        "valid = pd.read_csv('gap-validation.tsv', sep='\\t')\r\n",
        "test = pd.read_csv('gap-test.tsv', sep='\\t')"
      ],
      "execution_count": null,
      "outputs": []
    },
    {
      "cell_type": "code",
      "metadata": {
        "colab": {
          "base_uri": "https://localhost:8080/",
          "height": 191
        },
        "id": "VPlZ9LgHzvYG",
        "outputId": "18d5aba5-61f6-4c26-92a8-173da457d98e"
      },
      "source": [
        "train.head()"
      ],
      "execution_count": null,
      "outputs": [
        {
          "output_type": "execute_result",
          "data": {
            "text/html": [
              "<div>\n",
              "<style scoped>\n",
              "    .dataframe tbody tr th:only-of-type {\n",
              "        vertical-align: middle;\n",
              "    }\n",
              "\n",
              "    .dataframe tbody tr th {\n",
              "        vertical-align: top;\n",
              "    }\n",
              "\n",
              "    .dataframe thead th {\n",
              "        text-align: right;\n",
              "    }\n",
              "</style>\n",
              "<table border=\"1\" class=\"dataframe\">\n",
              "  <thead>\n",
              "    <tr style=\"text-align: right;\">\n",
              "      <th></th>\n",
              "      <th>ID</th>\n",
              "      <th>Text</th>\n",
              "      <th>Pronoun</th>\n",
              "      <th>Pronoun-offset</th>\n",
              "      <th>A</th>\n",
              "      <th>A-offset</th>\n",
              "      <th>A-coref</th>\n",
              "      <th>B</th>\n",
              "      <th>B-offset</th>\n",
              "      <th>B-coref</th>\n",
              "      <th>URL</th>\n",
              "    </tr>\n",
              "  </thead>\n",
              "  <tbody>\n",
              "    <tr>\n",
              "      <th>0</th>\n",
              "      <td>development-1</td>\n",
              "      <td>Zoe Telford -- played the police officer girlf...</td>\n",
              "      <td>her</td>\n",
              "      <td>274</td>\n",
              "      <td>Cheryl Cassidy</td>\n",
              "      <td>191</td>\n",
              "      <td>True</td>\n",
              "      <td>Pauline</td>\n",
              "      <td>207</td>\n",
              "      <td>False</td>\n",
              "      <td>http://en.wikipedia.org/wiki/List_of_Teachers_...</td>\n",
              "    </tr>\n",
              "    <tr>\n",
              "      <th>1</th>\n",
              "      <td>development-2</td>\n",
              "      <td>He grew up in Evanston, Illinois the second ol...</td>\n",
              "      <td>His</td>\n",
              "      <td>284</td>\n",
              "      <td>MacKenzie</td>\n",
              "      <td>228</td>\n",
              "      <td>True</td>\n",
              "      <td>Bernard Leach</td>\n",
              "      <td>251</td>\n",
              "      <td>False</td>\n",
              "      <td>http://en.wikipedia.org/wiki/Warren_MacKenzie</td>\n",
              "    </tr>\n",
              "    <tr>\n",
              "      <th>2</th>\n",
              "      <td>development-3</td>\n",
              "      <td>He had been reelected to Congress, but resigne...</td>\n",
              "      <td>his</td>\n",
              "      <td>265</td>\n",
              "      <td>Angeloz</td>\n",
              "      <td>173</td>\n",
              "      <td>False</td>\n",
              "      <td>De la Sota</td>\n",
              "      <td>246</td>\n",
              "      <td>True</td>\n",
              "      <td>http://en.wikipedia.org/wiki/Jos%C3%A9_Manuel_...</td>\n",
              "    </tr>\n",
              "    <tr>\n",
              "      <th>3</th>\n",
              "      <td>development-4</td>\n",
              "      <td>The current members of Crime have also perform...</td>\n",
              "      <td>his</td>\n",
              "      <td>321</td>\n",
              "      <td>Hell</td>\n",
              "      <td>174</td>\n",
              "      <td>False</td>\n",
              "      <td>Henry Rosenthal</td>\n",
              "      <td>336</td>\n",
              "      <td>True</td>\n",
              "      <td>http://en.wikipedia.org/wiki/Crime_(band)</td>\n",
              "    </tr>\n",
              "    <tr>\n",
              "      <th>4</th>\n",
              "      <td>development-5</td>\n",
              "      <td>Her Santa Fe Opera debut in 2005 was as Nuria ...</td>\n",
              "      <td>She</td>\n",
              "      <td>437</td>\n",
              "      <td>Kitty Oppenheimer</td>\n",
              "      <td>219</td>\n",
              "      <td>False</td>\n",
              "      <td>Rivera</td>\n",
              "      <td>294</td>\n",
              "      <td>True</td>\n",
              "      <td>http://en.wikipedia.org/wiki/Jessica_Rivera</td>\n",
              "    </tr>\n",
              "  </tbody>\n",
              "</table>\n",
              "</div>"
            ],
            "text/plain": [
              "              ID  ...                                                URL\n",
              "0  development-1  ...  http://en.wikipedia.org/wiki/List_of_Teachers_...\n",
              "1  development-2  ...      http://en.wikipedia.org/wiki/Warren_MacKenzie\n",
              "2  development-3  ...  http://en.wikipedia.org/wiki/Jos%C3%A9_Manuel_...\n",
              "3  development-4  ...          http://en.wikipedia.org/wiki/Crime_(band)\n",
              "4  development-5  ...        http://en.wikipedia.org/wiki/Jessica_Rivera\n",
              "\n",
              "[5 rows x 11 columns]"
            ]
          },
          "metadata": {
            "tags": []
          },
          "execution_count": 151
        }
      ]
    },
    {
      "cell_type": "code",
      "metadata": {
        "colab": {
          "base_uri": "https://localhost:8080/"
        },
        "id": "y7SZ7qlT0Y_W",
        "outputId": "5e4cb31a-3d46-4415-c111-72c1bd795b06"
      },
      "source": [
        "print(train.iloc[0]['Text'])"
      ],
      "execution_count": null,
      "outputs": [
        {
          "output_type": "stream",
          "text": [
            "Zoe Telford -- played the police officer girlfriend of Simon, Maggie. Dumped by Simon in the final episode of series 1, after he slept with Jenny, and is not seen again. Phoebe Thomas played Cheryl Cassidy, Pauline's friend and also a year 11 pupil in Simon's class. Dumped her boyfriend following Simon's advice after he wouldn't have sex with her but later realised this was due to him catching crabs off her friend Pauline.\n"
          ],
          "name": "stdout"
        }
      ]
    },
    {
      "cell_type": "markdown",
      "metadata": {
        "id": "6BxojoDt0M1v"
      },
      "source": [
        "## Get Names"
      ]
    },
    {
      "cell_type": "code",
      "metadata": {
        "id": "-uEWR6Yj0PDo"
      },
      "source": [
        "def GetNamesandFreq(dataset):\r\n",
        "    def preprocess(sent):\r\n",
        "        sent = nltk.word_tokenize(sent)\r\n",
        "        sent = nltk.pos_tag(sent)\r\n",
        "        return sent\r\n",
        "    names = defaultdict(int)\r\n",
        "    for row in range(len(dataset)):\r\n",
        "        for name, typ in preprocess(dataset.iloc[row]['Text']):\r\n",
        "            if typ == 'NNP' and name != 'New':\r\n",
        "                names[name] += 1\r\n",
        "    freq = defaultdict(list)\r\n",
        "    for k, v in names.items():\r\n",
        "        freq[v].append(k)\r\n",
        "    keys = list(freq.keys())\r\n",
        "    keys.sort()\r\n",
        "    vals = []\r\n",
        "    for key in keys:\r\n",
        "        vals.append(len(freq[key]))\r\n",
        "    return freq, keys, vals, names"
      ],
      "execution_count": null,
      "outputs": []
    },
    {
      "cell_type": "code",
      "metadata": {
        "id": "EhFCQcDn7sxl"
      },
      "source": [
        "frequency_dictionary_train, frequency_of_names_train, quantity_of_names_train, names_train = GetNamesandFreq(train)\r\n",
        "frequency_dictionary_validation, frequency_of_names_validation, quantity_of_names_validation, names_validation = GetNamesandFreq(valid)\r\n",
        "frequency_dictionary_test, frequency_of_names_test, quantity_of_names_test, names_test = GetNamesandFreq(test)"
      ],
      "execution_count": null,
      "outputs": []
    },
    {
      "cell_type": "markdown",
      "metadata": {
        "id": "ZaiixaqZ89WZ"
      },
      "source": [
        "## Frequency Spectrum of names"
      ]
    },
    {
      "cell_type": "code",
      "metadata": {
        "colab": {
          "base_uri": "https://localhost:8080/",
          "height": 311
        },
        "id": "CC5PO55a31Sf",
        "outputId": "6625eadc-0abd-4419-ca97-ccd1e40e3b2e"
      },
      "source": [
        "plt.ylabel('Frequency')\r\n",
        "plt.xlabel('Names')\r\n",
        "plt.title('Frequency Spectrum of names (Train)')\r\n",
        "plt.plot(quantity_of_names_train, frequency_of_names_train)\r\n"
      ],
      "execution_count": null,
      "outputs": [
        {
          "output_type": "execute_result",
          "data": {
            "text/plain": [
              "[<matplotlib.lines.Line2D at 0x7f45d486dd68>]"
            ]
          },
          "metadata": {
            "tags": []
          },
          "execution_count": 155
        },
        {
          "output_type": "display_data",
          "data": {
            "image/png": "[encoded data removed]",
            "text/plain": [
              "<Figure size 432x288 with 1 Axes>"
            ]
          },
          "metadata": {
            "tags": [],
            "needs_background": "light"
          }
        }
      ]
    },
    {
      "cell_type": "code",
      "metadata": {
        "colab": {
          "base_uri": "https://localhost:8080/",
          "height": 311
        },
        "id": "9j8E8zgx5S4s",
        "outputId": "c53ba1a3-41f5-4a15-9982-dd4af78bb8ba"
      },
      "source": [
        "plt.ylabel('Frequency')\r\n",
        "plt.xlabel('Names')\r\n",
        "plt.title('Frequency Spectrum of names (Validation)')\r\n",
        "plt.plot(quantity_of_names_validation, frequency_of_names_validation)\r\n"
      ],
      "execution_count": null,
      "outputs": [
        {
          "output_type": "execute_result",
          "data": {
            "text/plain": [
              "[<matplotlib.lines.Line2D at 0x7f45d486de48>]"
            ]
          },
          "metadata": {
            "tags": []
          },
          "execution_count": 156
        },
        {
          "output_type": "display_data",
          "data": {
            "image/png": "[encoded data removed]",
            "text/plain": [
              "<Figure size 432x288 with 1 Axes>"
            ]
          },
          "metadata": {
            "tags": [],
            "needs_background": "light"
          }
        }
      ]
    },
    {
      "cell_type": "code",
      "metadata": {
        "colab": {
          "base_uri": "https://localhost:8080/",
          "height": 311
        },
        "id": "Q_SfcP6F5hsA",
        "outputId": "8a16b0e5-0b57-4cd0-f469-c0d573d871b1"
      },
      "source": [
        "plt.ylabel('Frequency')\r\n",
        "plt.xlabel('Names')\r\n",
        "plt.title('Frequency Spectrum of names (Test)')\r\n",
        "plt.plot(quantity_of_names_test, frequency_of_names_test)\r\n"
      ],
      "execution_count": null,
      "outputs": [
        {
          "output_type": "execute_result",
          "data": {
            "text/plain": [
              "[<matplotlib.lines.Line2D at 0x7f45d486d9e8>]"
            ]
          },
          "metadata": {
            "tags": []
          },
          "execution_count": 157
        },
        {
          "output_type": "display_data",
          "data": {
            "image/png": "[encoded data removed]",
            "text/plain": [
              "<Figure size 432x288 with 1 Axes>"
            ]
          },
          "metadata": {
            "tags": [],
            "needs_background": "light"
          }
        }
      ]
    },
    {
      "cell_type": "markdown",
      "metadata": {
        "id": "WBCKvX6287lJ"
      },
      "source": [
        "## Most frequent names"
      ]
    },
    {
      "cell_type": "markdown",
      "metadata": {
        "id": "z6FjEPHE0KUl"
      },
      "source": [
        "### Train Dataset"
      ]
    },
    {
      "cell_type": "code",
      "metadata": {
        "colab": {
          "base_uri": "https://localhost:8080/"
        },
        "id": "OjdGlbSx9Uoc",
        "outputId": "a90ca2b5-e6a0-45d9-df43-7170e13788e6"
      },
      "source": [
        "print(\"The most frequent name was {} it occured {} times in this set.\".format(frequency_dictionary_train[frequency_of_names_train[-1]][0], names_train[frequency_dictionary_train[frequency_of_names_train[-1]][0]]))"
      ],
      "execution_count": null,
      "outputs": [
        {
          "output_type": "stream",
          "text": [
            "The most frequent name was John it occured 140 times in this set.\n"
          ],
          "name": "stdout"
        }
      ]
    },
    {
      "cell_type": "markdown",
      "metadata": {
        "id": "-WeFYyZD9MkH"
      },
      "source": [
        "### Validation Dataset"
      ]
    },
    {
      "cell_type": "code",
      "metadata": {
        "colab": {
          "base_uri": "https://localhost:8080/"
        },
        "id": "e3Xch-IM9ovD",
        "outputId": "7c2e2101-a2c8-4a84-b163-935f42d2feb6"
      },
      "source": [
        "print(\"The most frequent name was {} it occured {} times in this set.\".format(frequency_dictionary_validation[frequency_of_names_validation[-1]][0], names_validation[frequency_dictionary_validation[frequency_of_names_validation[-1]][0]]))"
      ],
      "execution_count": null,
      "outputs": [
        {
          "output_type": "stream",
          "text": [
            "The most frequent name was John it occured 36 times in this set.\n"
          ],
          "name": "stdout"
        }
      ]
    },
    {
      "cell_type": "markdown",
      "metadata": {
        "id": "p_oGcfkj9Mmc"
      },
      "source": [
        "### Test Dataset"
      ]
    },
    {
      "cell_type": "code",
      "metadata": {
        "colab": {
          "base_uri": "https://localhost:8080/"
        },
        "id": "g4poMJFI9Tn4",
        "outputId": "adf4bfa6-8a9d-4611-a927-8816f118e1bd"
      },
      "source": [
        "print(\"The most frequent name was {} it occured {} times in this set.\".format(frequency_dictionary_test[frequency_of_names_test[-1]][0], names_test[frequency_dictionary_test[frequency_of_names_test[-1]][0]]))"
      ],
      "execution_count": null,
      "outputs": [
        {
          "output_type": "stream",
          "text": [
            "The most frequent name was John it occured 172 times in this set.\n"
          ],
          "name": "stdout"
        }
      ]
    },
    {
      "cell_type": "code",
      "metadata": {
        "id": "j9GjBpK19we7"
      },
      "source": [
        "## Least Frequent Names"
      ],
      "execution_count": null,
      "outputs": []
    },
    {
      "cell_type": "markdown",
      "metadata": {
        "id": "IZm8jeX6AtUV"
      },
      "source": [
        "##Other Frequent Names"
      ]
    },
    {
      "cell_type": "markdown",
      "metadata": {
        "id": "j65YEp49EA63"
      },
      "source": [
        "### Train Dataset"
      ]
    },
    {
      "cell_type": "code",
      "metadata": {
        "colab": {
          "base_uri": "https://localhost:8080/"
        },
        "id": "rBiDXCjgCd9C",
        "outputId": "3a1c4efb-43b4-4832-8433-37c172ab50c5"
      },
      "source": [
        "for i in range(2, 11):\r\n",
        "    for name in frequency_dictionary_train[frequency_of_names_train[-i]]:\r\n",
        "        print(\"{} : {} times\".format(name, names_train[name]))"
      ],
      "execution_count": null,
      "outputs": [
        {
          "output_type": "stream",
          "text": [
            "York : 97 times\n",
            "William : 91 times\n",
            "University : 89 times\n",
            "Mary : 86 times\n",
            "World : 85 times\n",
            "May : 79 times\n",
            "August : 74 times\n",
            "George : 73 times\n",
            "Paul : 72 times\n"
          ],
          "name": "stdout"
        }
      ]
    },
    {
      "cell_type": "markdown",
      "metadata": {
        "id": "qYSa9v2UEGRQ"
      },
      "source": [
        "### Validation Dataset"
      ]
    },
    {
      "cell_type": "code",
      "metadata": {
        "colab": {
          "base_uri": "https://localhost:8080/"
        },
        "id": "2NaWqkClCv-X",
        "outputId": "31d2c57b-95ca-429d-a020-88e51c789109"
      },
      "source": [
        "for i in range(2, 11):\r\n",
        "    for name in frequency_dictionary_validation[frequency_of_names_validation[-i]]:\r\n",
        "        print(\"{} : {} times\".format(name, names_validation[name]))"
      ],
      "execution_count": null,
      "outputs": [
        {
          "output_type": "stream",
          "text": [
            "Elizabeth : 32 times\n",
            "Mary : 27 times\n",
            "Michael : 24 times\n",
            "York : 23 times\n",
            "King : 21 times\n",
            "George : 21 times\n",
            "Peter : 18 times\n",
            "James : 18 times\n",
            "David : 18 times\n",
            "Charles : 18 times\n",
            "London : 17 times\n",
            "Sir : 17 times\n",
            "II : 17 times\n",
            "Joe : 16 times\n",
            "Jim : 15 times\n",
            "William : 15 times\n",
            "Sarah : 15 times\n"
          ],
          "name": "stdout"
        }
      ]
    },
    {
      "cell_type": "markdown",
      "metadata": {
        "id": "UfzMxm7ZEH6L"
      },
      "source": [
        "### Test Dataset"
      ]
    },
    {
      "cell_type": "code",
      "metadata": {
        "colab": {
          "base_uri": "https://localhost:8080/"
        },
        "id": "tPlP3Q-NC4UO",
        "outputId": "b48421cb-8ded-41b9-fe89-2fbd77986c10"
      },
      "source": [
        "for i in range(2, 11):\r\n",
        "    for name in frequency_dictionary_test[frequency_of_names_test[-i]]:\r\n",
        "        print(\"{} : {} times\".format(name, names_train[name]))"
      ],
      "execution_count": null,
      "outputs": [
        {
          "output_type": "stream",
          "text": [
            "York : 97 times\n",
            "University : 89 times\n",
            "World : 85 times\n",
            "William : 91 times\n",
            "July : 58 times\n",
            "James : 67 times\n",
            "October : 43 times\n",
            "January : 65 times\n",
            "December : 50 times\n",
            "United : 65 times\n",
            "May : 79 times\n"
          ],
          "name": "stdout"
        }
      ]
    },
    {
      "cell_type": "markdown",
      "metadata": {
        "id": "-yMS5ccOEYXS"
      },
      "source": [
        "##Least Frequent Names"
      ]
    },
    {
      "cell_type": "markdown",
      "metadata": {
        "id": "glo3-uxEEebL"
      },
      "source": [
        "### Train Dataset"
      ]
    },
    {
      "cell_type": "code",
      "metadata": {
        "colab": {
          "base_uri": "https://localhost:8080/"
        },
        "id": "jljVN5kZEnF3",
        "outputId": "aa3af03e-da5e-42c6-9972-7fbf36b54235"
      },
      "source": [
        "print(\"Some of the Least frequent names were: \\n {}, etc. \\n that occured {} times\".format(', '.join(frequency_dictionary_train[frequency_of_names_train[0]][:20]), frequency_of_names_train[0]))"
      ],
      "execution_count": null,
      "outputs": [
        {
          "output_type": "stream",
          "text": [
            "Some of the Least frequent names were: \n",
            " Phoebe, Evanston, Peppy, Trier, Winnetka, Leach, Shoji, Hamada, Kanjiro, Kawai, Angeloz, Justicialist, Menem, Viewers, Humming, Came, Rank, Nuria, Golijov, Ainadamar, etc. \n",
            " that occured 1 times\n"
          ],
          "name": "stdout"
        }
      ]
    },
    {
      "cell_type": "markdown",
      "metadata": {
        "id": "n2eoK1wHEfi-"
      },
      "source": [
        "### Validation Dataset"
      ]
    },
    {
      "cell_type": "code",
      "metadata": {
        "colab": {
          "base_uri": "https://localhost:8080/"
        },
        "id": "V5pywzVqEne3",
        "outputId": "7dc7dd0e-7ddc-4c18-f599-0c7a2f4a3fec"
      },
      "source": [
        "print(\"Some of the Least frequent names were: \\n {}, etc. \\n that occured {} times\".format(', '.join(frequency_dictionary_validation[frequency_of_names_validation[0]][:20]), frequency_of_names_validation[0]))"
      ],
      "execution_count": null,
      "outputs": [
        {
          "output_type": "stream",
          "text": [
            "Some of the Least frequent names were: \n",
            " ZTE, Speaker, Abalos, NBN, Nott, Camberwell, Brixton, Datchelor, Kaleo, Five-0, Fryer, Asner, Election, Speedos, Sorry, Lovell, Nairobi, Skeptic, Dictionary, Randi, etc. \n",
            " that occured 1 times\n"
          ],
          "name": "stdout"
        }
      ]
    },
    {
      "cell_type": "markdown",
      "metadata": {
        "id": "Srrq0wX9EgcF"
      },
      "source": [
        "### Test Dataset"
      ]
    },
    {
      "cell_type": "code",
      "metadata": {
        "colab": {
          "base_uri": "https://localhost:8080/"
        },
        "id": "9a9SNvCkEoKg",
        "outputId": "6c3eb1c2-72d0-4a34-ef76-42aaa92b8da4"
      },
      "source": [
        "print(\"Some of the Least frequent names were: \\n {}, etc. \\n that occured {} times\".format(', '.join(frequency_dictionary_test[frequency_of_names_test[0]][:20]), frequency_of_names_test[0]))"
      ],
      "execution_count": null,
      "outputs": [
        {
          "output_type": "stream",
          "text": [
            "Some of the Least frequent names were: \n",
            " Kontinental, Finland, Wolfsburg, NHLer, Olympic-medalist, Alonso-, Luque, Carrasco-, Ram*n, Copa, Libertadores, Nacional, Alfredo, St*fano, Vieta, Kamel, Hussien, Saddam, Iraqi, Signor, etc. \n",
            " that occured 1 times\n"
          ],
          "name": "stdout"
        }
      ]
    },
    {
      "cell_type": "code",
      "metadata": {
        "id": "vHxQPQW1Ea6Y"
      },
      "source": [
        ""
      ],
      "execution_count": null,
      "outputs": []
    },
    {
      "cell_type": "markdown",
      "metadata": {
        "id": "sgaBEccDInBX"
      },
      "source": [
        "## Data Set Summary"
      ]
    },
    {
      "cell_type": "code",
      "metadata": {
        "id": "oVoZ06M6ItTd"
      },
      "source": [
        "def text_len(dataset):\r\n",
        "    dataset['text_length'] = dataset.Text.str.len()"
      ],
      "execution_count": null,
      "outputs": []
    },
    {
      "cell_type": "code",
      "metadata": {
        "id": "0tzlI961JuM7"
      },
      "source": [
        "def column_summary(dataset, target_column, dataset_name):\r\n",
        "    summary = pd.DataFrame(dataset[target_column].describe()).round(2)\r\n",
        "    summary.columns = [dataset_name]\r\n",
        "    return summary"
      ],
      "execution_count": null,
      "outputs": []
    },
    {
      "cell_type": "code",
      "metadata": {
        "id": "UwNiAo6pJ3nE"
      },
      "source": [
        "text_len(train)\r\n",
        "text_len(valid)\r\n",
        "text_len(test)"
      ],
      "execution_count": null,
      "outputs": []
    },
    {
      "cell_type": "markdown",
      "metadata": {
        "id": "S6WFOYWvJ3AE"
      },
      "source": [
        "### Number of Instances in Train, Validation and Test Set"
      ]
    },
    {
      "cell_type": "code",
      "metadata": {
        "colab": {
          "base_uri": "https://localhost:8080/"
        },
        "id": "wzT5im_LJxIL",
        "outputId": "bb045d9d-043f-4232-c588-18781bb941e2"
      },
      "source": [
        "df_train = column_summary(train, 'text_length', 'Train')\r\n",
        "df_test = column_summary(test, 'text_length', 'Test')\r\n",
        "df_valid = column_summary(valid, 'text_length', 'Validation')\r\n",
        "text_length_summary = pd.concat([df_train, df_valid, df_test], axis=1)\r\n",
        "print(text_length_summary)"
      ],
      "execution_count": null,
      "outputs": [
        {
          "output_type": "stream",
          "text": [
            "         Train  Validation     Test\n",
            "count  2000.00      454.00  2000.00\n",
            "mean    426.92      426.39   430.61\n",
            "std     124.63      112.64   130.72\n",
            "min     104.00      147.00    69.00\n",
            "25%     346.00      354.00   344.00\n",
            "50%     410.00      408.50   412.00\n",
            "75%     493.00      487.75   500.00\n",
            "max    1270.00     1012.00  1347.00\n"
          ],
          "name": "stdout"
        }
      ]
    },
    {
      "cell_type": "markdown",
      "metadata": {
        "id": "TJS7NOTsKf_Y"
      },
      "source": [
        "## Number and Percent of Pronouns"
      ]
    },
    {
      "cell_type": "code",
      "metadata": {
        "id": "g1e_rzKOKu8W"
      },
      "source": [
        "def column_value_counts(dataset, target_column, dataset_name):\r\n",
        "    df_value_counts = dataset[target_column].value_counts()\r\n",
        "    dataset = pd.DataFrame(df_value_counts)\r\n",
        "    dataset.columns = [dataset_name]\r\n",
        "    dataset[dataset_name+' %'] = 100*dataset[dataset_name] / dataset[dataset_name].sum()\r\n",
        "    return dataset"
      ],
      "execution_count": null,
      "outputs": []
    },
    {
      "cell_type": "markdown",
      "metadata": {
        "id": "AnuNh6sOSDWG"
      },
      "source": [
        "## Number and Percentages of Target Pronouns"
      ]
    },
    {
      "cell_type": "code",
      "metadata": {
        "colab": {
          "base_uri": "https://localhost:8080/"
        },
        "id": "u5K_uxvcdpsU",
        "outputId": "0a9979a2-6484-48e5-8a8b-3e91f4fc5183"
      },
      "source": [
        "df_train = column_value_counts(train, 'Pronoun', 'Train')\r\n",
        "df_test = column_value_counts(test, 'Pronoun', 'Test')\r\n",
        "df_valid = column_value_counts(valid, 'Pronoun', 'Validation')\r\n",
        "\r\n",
        "pronoun_count = pd.concat([df_train, df_valid, df_test], axis=1)\r\n",
        "pronoun_count = pronoun_count.round(2)\r\n",
        "print(pronoun_count.sort_values(by=['Train'], ascending=False))\r\n"
      ],
      "execution_count": null,
      "outputs": [
        {
          "output_type": "stream",
          "text": [
            "      Train  Train %  Validation  Validation %  Test  Test %\n",
            "her   534.0    26.70       132.0         29.07   566   28.30\n",
            "his   496.0    24.80       102.0         22.47   528   26.40\n",
            "she   249.0    12.45        62.0         13.66   237   11.85\n",
            "he    235.0    11.75        67.0         14.76   221   11.05\n",
            "She   179.0     8.95        25.0          5.51   159    7.95\n",
            "He    138.0     6.90        26.0          5.73   127    6.35\n",
            "him    98.0     4.90        26.0          5.73    96    4.80\n",
            "Her    38.0     1.90         8.0          1.76    37    1.85\n",
            "His    33.0     1.65         6.0          1.32    28    1.40\n",
            "hers    NaN      NaN         NaN           NaN     1    0.05\n"
          ],
          "name": "stdout"
        }
      ]
    },
    {
      "cell_type": "code",
      "metadata": {
        "id": "InLZAf6tRwIY"
      },
      "source": [
        "def GetPronounsandFreq(dataset):\r\n",
        "    def preprocess(sent):\r\n",
        "        sent = nltk.word_tokenize(sent)\r\n",
        "        sent = nltk.pos_tag(sent)\r\n",
        "        return sent\r\n",
        "    pronouns  = defaultdict(int)\r\n",
        "    for row in range(len(dataset)):\r\n",
        "        for pronoun, typ in preprocess(dataset.iloc[row]['Text']):\r\n",
        "            if typ == 'PRP$':\r\n",
        "                pronouns[pronoun] += 1\r\n",
        "    freq = defaultdict(list)\r\n",
        "    for k, v in pronouns.items():\r\n",
        "        freq[v].append(k)\r\n",
        "    keys = list(freq.keys())\r\n",
        "    keys.sort()\r\n",
        "    vals = []\r\n",
        "    for key in keys:\r\n",
        "        vals.append(len(freq[key]))\r\n",
        "    return freq, keys, vals, pronouns"
      ],
      "execution_count": null,
      "outputs": []
    },
    {
      "cell_type": "code",
      "metadata": {
        "id": "jHjnXP_fSVlj"
      },
      "source": [
        "frequency_dictionary_pronoun_train, frequency_of_pronounss_train, quantity_of_pronounss_train, pronouns_train = GetPronounsandFreq(train)\r\n",
        "frequency_dictionary_pronoun_validation, frequency_of_pronounss_validation, quantity_of_pronounss_validation, pronouns_validation = GetPronounsandFreq(valid)\r\n",
        "frequency_dictionary_pronoun_test, frequency_of_pronounss_test, quantity_of_pronounss_test, pronouns_test = GetPronounsandFreq(test)"
      ],
      "execution_count": null,
      "outputs": []
    },
    {
      "cell_type": "code",
      "metadata": {
        "colab": {
          "base_uri": "https://localhost:8080/"
        },
        "id": "aWpmWUVFS-z-",
        "outputId": "066fc9f9-05a7-46ff-90a9-1e68cf3cb753"
      },
      "source": [
        "print(pronouns_train)\r\n",
        "print(pronouns_validation)\r\n",
        "print(pronouns_test)"
      ],
      "execution_count": null,
      "outputs": [
        {
          "output_type": "stream",
          "text": [
            "defaultdict(<class 'int'>, {'her': 1375, 'his': 1451, 'His': 94, 'Her': 82, 'its': 72, 'their': 204, 'Their': 8, 'heir': 1, 'our': 14, 'My': 4, 'my': 21, 'Heather': 1, 'Your': 3, 'Its': 4, 'your': 10, 'Our': 3})\n",
            "defaultdict(<class 'int'>, {'his': 319, 'Her': 18, 'her': 349, 'their': 76, 'its': 15, 'my': 7, 'His': 25, 'Their': 2, 'our': 1, 'Your': 1, 'your': 1})\n",
            "defaultdict(<class 'int'>, {'their': 236, 'His': 97, 'his': 1441, 'her': 1335, 'its': 79, 'My': 8, 'our': 13, 'my': 17, 'Her': 110, 'your': 7, 'hagiographer': 1, 'Their': 9, 'Our': 3, 'gather': 1, 'Your': 2, 'Its': 1, 'Yu': 1})\n"
          ],
          "name": "stdout"
        }
      ]
    },
    {
      "cell_type": "code",
      "metadata": {
        "colab": {
          "base_uri": "https://localhost:8080/"
        },
        "id": "-dgU0e2tY1Vi",
        "outputId": "12b14f03-f915-47f8-c854-27d71665ee1b"
      },
      "source": [
        "print('|'.join(pronouns_train))"
      ],
      "execution_count": null,
      "outputs": [
        {
          "output_type": "stream",
          "text": [
            "her|his|His|Her|its|their|Their|heir|our|My|my|Heather|Your|Its|your|Our\n"
          ],
          "name": "stdout"
        }
      ]
    },
    {
      "cell_type": "code",
      "metadata": {
        "id": "y9wpvJI1YQGG"
      },
      "source": [
        "def store_pronoun_count(df):\r\n",
        "    df['pronoun_count'] = df['Text'].apply(count_all_pronoun)"
      ],
      "execution_count": null,
      "outputs": []
    },
    {
      "cell_type": "code",
      "metadata": {
        "id": "JgNasGYWYswG"
      },
      "source": [
        "def count_all_pronoun(text):\r\n",
        "    return len(re.findall(r\"\\b(He|She|he|hers|him|she|her|his|His|Her|its|their|Their|heir|our|My|my|Heather|Your|Its|your|Our)\\b\", text))"
      ],
      "execution_count": null,
      "outputs": []
    },
    {
      "cell_type": "code",
      "metadata": {
        "id": "niz6zGrwZSSl"
      },
      "source": [
        "store_pronoun_count(train)\r\n",
        "store_pronoun_count(valid)\r\n",
        "store_pronoun_count(test)"
      ],
      "execution_count": null,
      "outputs": []
    },
    {
      "cell_type": "markdown",
      "metadata": {
        "id": "GZ30f63-cgb4"
      },
      "source": [
        "## Summary of Pronouns in Text"
      ]
    },
    {
      "cell_type": "code",
      "metadata": {
        "colab": {
          "base_uri": "https://localhost:8080/"
        },
        "id": "TJKd-RaxaUC-",
        "outputId": "3db8f035-c040-4f40-ca49-e830bde84a19"
      },
      "source": [
        "df_train = column_summary(train, 'pronoun_count', 'Train')\r\n",
        "df_test = column_summary(test, 'pronoun_count', 'Test')\r\n",
        "df_valid = column_summary(valid, 'pronoun_count', 'Validation')\r\n",
        "\r\n",
        "pronoun_count_summary = pd.concat([df_train, df_valid, df_test], axis=1)\r\n",
        "print(pronoun_count_summary)"
      ],
      "execution_count": null,
      "outputs": [
        {
          "output_type": "stream",
          "text": [
            "         Train  Validation     Test\n",
            "count  2000.00      454.00  2000.00\n",
            "mean      3.30        3.64     3.23\n",
            "std       2.11        2.43     2.04\n",
            "min       1.00        1.00     1.00\n",
            "25%       2.00        2.00     2.00\n",
            "50%       3.00        3.00     3.00\n",
            "75%       4.00        5.00     4.00\n",
            "max      17.00       16.00    15.00\n"
          ],
          "name": "stdout"
        }
      ]
    },
    {
      "cell_type": "code",
      "metadata": {
        "id": "z3a0oB9XdDYj"
      },
      "source": [
        ""
      ],
      "execution_count": null,
      "outputs": []
    }
  ]
}