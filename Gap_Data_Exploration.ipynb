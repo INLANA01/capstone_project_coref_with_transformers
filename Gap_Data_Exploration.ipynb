{
  "nbformat": 4,
  "nbformat_minor": 0,
  "metadata": {
    "colab": {
      "name": "Gap Data Exploration.ipynb",
      "provenance": [],
      "collapsed_sections": [
        "-WeFYyZD9MkH",
        "p_oGcfkj9Mmc",
        "j65YEp49EA63",
        "qYSa9v2UEGRQ",
        "UfzMxm7ZEH6L",
        "glo3-uxEEebL",
        "n2eoK1wHEfi-",
        "Srrq0wX9EgcF",
        "S6WFOYWvJ3AE"
      ],
      "toc_visible": true,
      "authorship_tag": "ABX9TyOm86myAs+PzxJ5ckZYrGg2",
      "include_colab_link": true
    },
    "kernelspec": {
      "display_name": "Python 3",
      "name": "python3"
    }
  },
  "cells": [
    {
      "cell_type": "markdown",
      "metadata": {
        "id": "view-in-github",
        "colab_type": "text"
      },
      "source": [
        "<a href=\"https://colab.research.google.com/github/INLANA01/capstone_project_coref_with_transformers/blob/main/Gap_Data_Exploration.ipynb\" target=\"_parent\"><img src=\"https://colab.research.google.com/assets/colab-badge.svg\" alt=\"Open In Colab\"/></a>"
      ]
    },
    {
      "cell_type": "code",
      "metadata": {
        "colab": {
          "base_uri": "https://localhost:8080/"
        },
        "id": "xg68r-3cztAz",
        "outputId": "7e0d0506-de47-488b-e498-eb19e5621478"
      },
      "source": [
        "import re\n",
        "import pandas as pd\n",
        "import spacy\n",
        "from spacy.symbols import PROPN, PERSON\n",
        "from __future__ import unicode_literals, print_function\n",
        "import nltk\n",
        "nltk.download('punkt')\n",
        "nltk.download('averaged_perceptron_tagger')\n",
        "from collections import defaultdict\n",
        "import matplotlib.pyplot as plt"
      ],
      "execution_count": null,
      "outputs": [
        {
          "output_type": "stream",
          "text": [
            "[nltk_data] Downloading package punkt to /root/nltk_data...\n",
            "[nltk_data]   Unzipping tokenizers/punkt.zip.\n",
            "[nltk_data] Downloading package averaged_perceptron_tagger to\n",
            "[nltk_data]     /root/nltk_data...\n",
            "[nltk_data]   Unzipping taggers/averaged_perceptron_tagger.zip.\n"
          ],
          "name": "stdout"
        }
      ]
    },
    {
      "cell_type": "code",
      "metadata": {
        "colab": {
          "base_uri": "https://localhost:8080/"
        },
        "id": "Q3eixL4RTT3h",
        "outputId": "724f6598-76fe-482b-8395-7717d399a4e2"
      },
      "source": [
        "! git clone https://github.com/google-research-datasets/gap-coreference"
      ],
      "execution_count": null,
      "outputs": [
        {
          "output_type": "stream",
          "text": [
            "Cloning into 'gap-coreference'...\n",
            "remote: Enumerating objects: 19, done.\u001b[K\n",
            "remote: Total 19 (delta 0), reused 0 (delta 0), pack-reused 19\u001b[K\n",
            "Unpacking objects: 100% (19/19), done.\n"
          ],
          "name": "stdout"
        }
      ]
    },
    {
      "cell_type": "code",
      "metadata": {
        "id": "VrXi20cxzj6Z"
      },
      "source": [
        "train = pd.read_csv('./gap-coreference/gap-development.tsv', sep='\\t')\n",
        "valid = pd.read_csv('./gap-coreference/gap-validation.tsv', sep='\\t')\n",
        "test = pd.read_csv('./gap-coreference/gap-test.tsv', sep='\\t')"
      ],
      "execution_count": null,
      "outputs": []
    },
    {
      "cell_type": "code",
      "metadata": {
        "colab": {
          "base_uri": "https://localhost:8080/",
          "height": 306
        },
        "id": "VPlZ9LgHzvYG",
        "outputId": "56612cca-eba4-4586-8d86-d5889254d8b1"
      },
      "source": [
        "train.head()"
      ],
      "execution_count": null,
      "outputs": [
        {
          "output_type": "execute_result",
          "data": {
            "text/html": [
              "<div>\n",
              "<style scoped>\n",
              "    .dataframe tbody tr th:only-of-type {\n",
              "        vertical-align: middle;\n",
              "    }\n",
              "\n",
              "    .dataframe tbody tr th {\n",
              "        vertical-align: top;\n",
              "    }\n",
              "\n",
              "    .dataframe thead th {\n",
              "        text-align: right;\n",
              "    }\n",
              "</style>\n",
              "<table border=\"1\" class=\"dataframe\">\n",
              "  <thead>\n",
              "    <tr style=\"text-align: right;\">\n",
              "      <th></th>\n",
              "      <th>ID</th>\n",
              "      <th>Text</th>\n",
              "      <th>Pronoun</th>\n",
              "      <th>Pronoun-offset</th>\n",
              "      <th>A</th>\n",
              "      <th>A-offset</th>\n",
              "      <th>A-coref</th>\n",
              "      <th>B</th>\n",
              "      <th>B-offset</th>\n",
              "      <th>B-coref</th>\n",
              "      <th>URL</th>\n",
              "    </tr>\n",
              "  </thead>\n",
              "  <tbody>\n",
              "    <tr>\n",
              "      <th>0</th>\n",
              "      <td>development-1</td>\n",
              "      <td>Zoe Telford -- played the police officer girlf...</td>\n",
              "      <td>her</td>\n",
              "      <td>274</td>\n",
              "      <td>Cheryl Cassidy</td>\n",
              "      <td>191</td>\n",
              "      <td>True</td>\n",
              "      <td>Pauline</td>\n",
              "      <td>207</td>\n",
              "      <td>False</td>\n",
              "      <td>http://en.wikipedia.org/wiki/List_of_Teachers_...</td>\n",
              "    </tr>\n",
              "    <tr>\n",
              "      <th>1</th>\n",
              "      <td>development-2</td>\n",
              "      <td>He grew up in Evanston, Illinois the second ol...</td>\n",
              "      <td>His</td>\n",
              "      <td>284</td>\n",
              "      <td>MacKenzie</td>\n",
              "      <td>228</td>\n",
              "      <td>True</td>\n",
              "      <td>Bernard Leach</td>\n",
              "      <td>251</td>\n",
              "      <td>False</td>\n",
              "      <td>http://en.wikipedia.org/wiki/Warren_MacKenzie</td>\n",
              "    </tr>\n",
              "    <tr>\n",
              "      <th>2</th>\n",
              "      <td>development-3</td>\n",
              "      <td>He had been reelected to Congress, but resigne...</td>\n",
              "      <td>his</td>\n",
              "      <td>265</td>\n",
              "      <td>Angeloz</td>\n",
              "      <td>173</td>\n",
              "      <td>False</td>\n",
              "      <td>De la Sota</td>\n",
              "      <td>246</td>\n",
              "      <td>True</td>\n",
              "      <td>http://en.wikipedia.org/wiki/Jos%C3%A9_Manuel_...</td>\n",
              "    </tr>\n",
              "    <tr>\n",
              "      <th>3</th>\n",
              "      <td>development-4</td>\n",
              "      <td>The current members of Crime have also perform...</td>\n",
              "      <td>his</td>\n",
              "      <td>321</td>\n",
              "      <td>Hell</td>\n",
              "      <td>174</td>\n",
              "      <td>False</td>\n",
              "      <td>Henry Rosenthal</td>\n",
              "      <td>336</td>\n",
              "      <td>True</td>\n",
              "      <td>http://en.wikipedia.org/wiki/Crime_(band)</td>\n",
              "    </tr>\n",
              "    <tr>\n",
              "      <th>4</th>\n",
              "      <td>development-5</td>\n",
              "      <td>Her Santa Fe Opera debut in 2005 was as Nuria ...</td>\n",
              "      <td>She</td>\n",
              "      <td>437</td>\n",
              "      <td>Kitty Oppenheimer</td>\n",
              "      <td>219</td>\n",
              "      <td>False</td>\n",
              "      <td>Rivera</td>\n",
              "      <td>294</td>\n",
              "      <td>True</td>\n",
              "      <td>http://en.wikipedia.org/wiki/Jessica_Rivera</td>\n",
              "    </tr>\n",
              "  </tbody>\n",
              "</table>\n",
              "</div>"
            ],
            "text/plain": [
              "              ID  ...                                                URL\n",
              "0  development-1  ...  http://en.wikipedia.org/wiki/List_of_Teachers_...\n",
              "1  development-2  ...      http://en.wikipedia.org/wiki/Warren_MacKenzie\n",
              "2  development-3  ...  http://en.wikipedia.org/wiki/Jos%C3%A9_Manuel_...\n",
              "3  development-4  ...          http://en.wikipedia.org/wiki/Crime_(band)\n",
              "4  development-5  ...        http://en.wikipedia.org/wiki/Jessica_Rivera\n",
              "\n",
              "[5 rows x 11 columns]"
            ]
          },
          "metadata": {
            "tags": []
          },
          "execution_count": 4
        }
      ]
    },
    {
      "cell_type": "code",
      "metadata": {
        "colab": {
          "base_uri": "https://localhost:8080/"
        },
        "id": "y7SZ7qlT0Y_W",
        "outputId": "a35d1ac2-f403-4bbe-e3e2-3ab98e87dcbc"
      },
      "source": [
        "print(train.iloc[0]['Text'])"
      ],
      "execution_count": null,
      "outputs": [
        {
          "output_type": "stream",
          "text": [
            "Zoe Telford -- played the police officer girlfriend of Simon, Maggie. Dumped by Simon in the final episode of series 1, after he slept with Jenny, and is not seen again. Phoebe Thomas played Cheryl Cassidy, Pauline's friend and also a year 11 pupil in Simon's class. Dumped her boyfriend following Simon's advice after he wouldn't have sex with her but later realised this was due to him catching crabs off her friend Pauline.\n"
          ],
          "name": "stdout"
        }
      ]
    },
    {
      "cell_type": "markdown",
      "metadata": {
        "id": "6BxojoDt0M1v"
      },
      "source": [
        "## Get Names"
      ]
    },
    {
      "cell_type": "code",
      "metadata": {
        "id": "-uEWR6Yj0PDo"
      },
      "source": [
        "def GetNamesandFreq(dataset):\n",
        "    def preprocess(sent):\n",
        "        sent = nltk.word_tokenize(sent)\n",
        "        sent = nltk.pos_tag(sent)\n",
        "        return sent\n",
        "    names = defaultdict(int)\n",
        "    for row in range(len(dataset)):\n",
        "        for name, typ in preprocess(dataset.iloc[row]['Text']):\n",
        "            if typ == 'NNP' and name != 'New':\n",
        "                names[name] += 1\n",
        "    freq = defaultdict(list)\n",
        "    for k, v in names.items():\n",
        "        freq[v].append(k)\n",
        "    keys = list(freq.keys())\n",
        "    keys.sort()\n",
        "    vals = []\n",
        "    for key in keys:\n",
        "        vals.append(len(freq[key]))\n",
        "    return freq, keys, vals, names"
      ],
      "execution_count": null,
      "outputs": []
    },
    {
      "cell_type": "code",
      "metadata": {
        "id": "EhFCQcDn7sxl"
      },
      "source": [
        "frequency_dictionary_train, frequency_of_names_train, quantity_of_names_train, names_train = GetNamesandFreq(train)\n",
        "frequency_dictionary_validation, frequency_of_names_validation, quantity_of_names_validation, names_validation = GetNamesandFreq(valid)\n",
        "frequency_dictionary_test, frequency_of_names_test, quantity_of_names_test, names_test = GetNamesandFreq(test)"
      ],
      "execution_count": null,
      "outputs": []
    },
    {
      "cell_type": "markdown",
      "metadata": {
        "id": "ZaiixaqZ89WZ"
      },
      "source": [
        "## Frequency Spectrum of names"
      ]
    },
    {
      "cell_type": "code",
      "metadata": {
        "colab": {
          "base_uri": "https://localhost:8080/",
          "height": 312
        },
        "id": "CC5PO55a31Sf",
        "outputId": "01f84bf5-f374-4c91-c395-1e8d7a517b5f"
      },
      "source": [
        "plt.ylabel('Frequency')\n",
        "plt.xlabel('Names')\n",
        "plt.title('Frequency Spectrum of names (Train)')\n",
        "plt.plot(quantity_of_names_train, frequency_of_names_train)\n"
      ],
      "execution_count": null,
      "outputs": [
        {
          "output_type": "execute_result",
          "data": {
            "text/plain": [
              "[<matplotlib.lines.Line2D at 0x7f1c9ce656d0>]"
            ]
          },
          "metadata": {
            "tags": []
          },
          "execution_count": 8
        },
        {
          "output_type": "display_data",
          "data": {
            "image/png": "[encoded data removed]",
            "text/plain": [
              "<Figure size 432x288 with 1 Axes>"
            ]
          },
          "metadata": {
            "tags": [],
            "needs_background": "light"
          }
        }
      ]
    },
    {
      "cell_type": "code",
      "metadata": {
        "colab": {
          "base_uri": "https://localhost:8080/",
          "height": 312
        },
        "id": "9j8E8zgx5S4s",
        "outputId": "7d184399-2deb-4ad3-a2cc-d32364d44c9f"
      },
      "source": [
        "plt.ylabel('Frequency')\n",
        "plt.xlabel('Names')\n",
        "plt.title('Frequency Spectrum of names (Validation)')\n",
        "plt.plot(quantity_of_names_validation, frequency_of_names_validation)\n"
      ],
      "execution_count": null,
      "outputs": [
        {
          "output_type": "execute_result",
          "data": {
            "text/plain": [
              "[<matplotlib.lines.Line2D at 0x7f1c9c94cf50>]"
            ]
          },
          "metadata": {
            "tags": []
          },
          "execution_count": 9
        },
        {
          "output_type": "display_data",
          "data": {
            "image/png": "[encoded data removed]",
            "text/plain": [
              "<Figure size 432x288 with 1 Axes>"
            ]
          },
          "metadata": {
            "tags": [],
            "needs_background": "light"
          }
        }
      ]
    },
    {
      "cell_type": "code",
      "metadata": {
        "colab": {
          "base_uri": "https://localhost:8080/",
          "height": 312
        },
        "id": "Q_SfcP6F5hsA",
        "outputId": "78431169-b587-4f9f-922a-5daf77a9a676"
      },
      "source": [
        "plt.ylabel('Frequency')\n",
        "plt.xlabel('Names')\n",
        "plt.title('Frequency Spectrum of names (Test)')\n",
        "plt.plot(quantity_of_names_test, frequency_of_names_test)\n"
      ],
      "execution_count": null,
      "outputs": [
        {
          "output_type": "execute_result",
          "data": {
            "text/plain": [
              "[<matplotlib.lines.Line2D at 0x7f1c9c8c84d0>]"
            ]
          },
          "metadata": {
            "tags": []
          },
          "execution_count": 10
        },
        {
          "output_type": "display_data",
          "data": {
            "image/png": "[encoded data removed]",
            "text/plain": [
              "<Figure size 432x288 with 1 Axes>"
            ]
          },
          "metadata": {
            "tags": [],
            "needs_background": "light"
          }
        }
      ]
    },
    {
      "cell_type": "markdown",
      "metadata": {
        "id": "WBCKvX6287lJ"
      },
      "source": [
        "## Most frequent names"
      ]
    },
    {
      "cell_type": "markdown",
      "metadata": {
        "id": "z6FjEPHE0KUl"
      },
      "source": [
        "### Train Dataset"
      ]
    },
    {
      "cell_type": "code",
      "metadata": {
        "colab": {
          "base_uri": "https://localhost:8080/"
        },
        "id": "OjdGlbSx9Uoc",
        "outputId": "57f22036-1f75-4aa7-a9cc-a9db67cd0014"
      },
      "source": [
        "print(\"The most frequent name was {} it occured {} times in this set.\".format(frequency_dictionary_train[frequency_of_names_train[-1]][0], names_train[frequency_dictionary_train[frequency_of_names_train[-1]][0]]))"
      ],
      "execution_count": null,
      "outputs": [
        {
          "output_type": "stream",
          "text": [
            "The most frequent name was John it occured 140 times in this set.\n"
          ],
          "name": "stdout"
        }
      ]
    },
    {
      "cell_type": "markdown",
      "metadata": {
        "id": "-WeFYyZD9MkH"
      },
      "source": [
        "### Validation Dataset"
      ]
    },
    {
      "cell_type": "code",
      "metadata": {
        "colab": {
          "base_uri": "https://localhost:8080/"
        },
        "id": "e3Xch-IM9ovD",
        "outputId": "aa5419a4-3515-4033-ac93-64cbd5d80a45"
      },
      "source": [
        "print(\"The most frequent name was {} it occured {} times in this set.\".format(frequency_dictionary_validation[frequency_of_names_validation[-1]][0], names_validation[frequency_dictionary_validation[frequency_of_names_validation[-1]][0]]))"
      ],
      "execution_count": null,
      "outputs": [
        {
          "output_type": "stream",
          "text": [
            "The most frequent name was John it occured 36 times in this set.\n"
          ],
          "name": "stdout"
        }
      ]
    },
    {
      "cell_type": "markdown",
      "metadata": {
        "id": "p_oGcfkj9Mmc"
      },
      "source": [
        "### Test Dataset"
      ]
    },
    {
      "cell_type": "code",
      "metadata": {
        "colab": {
          "base_uri": "https://localhost:8080/"
        },
        "id": "g4poMJFI9Tn4",
        "outputId": "09fdb4c3-0bc0-40a1-890e-39856e9bff34"
      },
      "source": [
        "print(\"The most frequent name was {} it occured {} times in this set.\".format(frequency_dictionary_test[frequency_of_names_test[-1]][0], names_test[frequency_dictionary_test[frequency_of_names_test[-1]][0]]))"
      ],
      "execution_count": null,
      "outputs": [
        {
          "output_type": "stream",
          "text": [
            "The most frequent name was John it occured 172 times in this set.\n"
          ],
          "name": "stdout"
        }
      ]
    },
    {
      "cell_type": "code",
      "metadata": {
        "id": "j9GjBpK19we7"
      },
      "source": [
        "## Least Frequent Names"
      ],
      "execution_count": null,
      "outputs": []
    },
    {
      "cell_type": "markdown",
      "metadata": {
        "id": "IZm8jeX6AtUV"
      },
      "source": [
        "##Other Frequent Names"
      ]
    },
    {
      "cell_type": "markdown",
      "metadata": {
        "id": "j65YEp49EA63"
      },
      "source": [
        "### Train Dataset"
      ]
    },
    {
      "cell_type": "code",
      "metadata": {
        "colab": {
          "base_uri": "https://localhost:8080/"
        },
        "id": "rBiDXCjgCd9C",
        "outputId": "c367e023-df9a-49f7-8356-5b554222c87d"
      },
      "source": [
        "for i in range(2, 11):\n",
        "    for name in frequency_dictionary_train[frequency_of_names_train[-i]]:\n",
        "        print(\"{} : {} times\".format(name, names_train[name]))"
      ],
      "execution_count": null,
      "outputs": [
        {
          "output_type": "stream",
          "text": [
            "York : 97 times\n",
            "William : 91 times\n",
            "University : 89 times\n",
            "Mary : 86 times\n",
            "World : 85 times\n",
            "May : 79 times\n",
            "August : 74 times\n",
            "George : 73 times\n",
            "Paul : 72 times\n"
          ],
          "name": "stdout"
        }
      ]
    },
    {
      "cell_type": "markdown",
      "metadata": {
        "id": "qYSa9v2UEGRQ"
      },
      "source": [
        "### Validation Dataset"
      ]
    },
    {
      "cell_type": "code",
      "metadata": {
        "colab": {
          "base_uri": "https://localhost:8080/"
        },
        "id": "2NaWqkClCv-X",
        "outputId": "cd0b147e-0951-4249-8256-f76a52a3180b"
      },
      "source": [
        "for i in range(2, 11):\n",
        "    for name in frequency_dictionary_validation[frequency_of_names_validation[-i]]:\n",
        "        print(\"{} : {} times\".format(name, names_validation[name]))"
      ],
      "execution_count": null,
      "outputs": [
        {
          "output_type": "stream",
          "text": [
            "Elizabeth : 32 times\n",
            "Mary : 27 times\n",
            "Michael : 24 times\n",
            "York : 23 times\n",
            "King : 21 times\n",
            "George : 21 times\n",
            "Peter : 18 times\n",
            "James : 18 times\n",
            "David : 18 times\n",
            "Charles : 18 times\n",
            "London : 17 times\n",
            "Sir : 17 times\n",
            "II : 17 times\n",
            "Joe : 16 times\n",
            "Jim : 15 times\n",
            "William : 15 times\n",
            "Sarah : 15 times\n"
          ],
          "name": "stdout"
        }
      ]
    },
    {
      "cell_type": "markdown",
      "metadata": {
        "id": "UfzMxm7ZEH6L"
      },
      "source": [
        "### Test Dataset"
      ]
    },
    {
      "cell_type": "code",
      "metadata": {
        "colab": {
          "base_uri": "https://localhost:8080/"
        },
        "id": "tPlP3Q-NC4UO",
        "outputId": "be954230-ec2b-440f-b702-0c7ea0f64682"
      },
      "source": [
        "for i in range(2, 11):\n",
        "    for name in frequency_dictionary_test[frequency_of_names_test[-i]]:\n",
        "        print(\"{} : {} times\".format(name, names_train[name]))"
      ],
      "execution_count": null,
      "outputs": [
        {
          "output_type": "stream",
          "text": [
            "York : 97 times\n",
            "University : 89 times\n",
            "World : 85 times\n",
            "William : 91 times\n",
            "July : 58 times\n",
            "James : 67 times\n",
            "October : 43 times\n",
            "January : 65 times\n",
            "December : 50 times\n",
            "United : 65 times\n",
            "May : 79 times\n"
          ],
          "name": "stdout"
        }
      ]
    },
    {
      "cell_type": "markdown",
      "metadata": {
        "id": "-yMS5ccOEYXS"
      },
      "source": [
        "##Least Frequent Names"
      ]
    },
    {
      "cell_type": "markdown",
      "metadata": {
        "id": "glo3-uxEEebL"
      },
      "source": [
        "### Train Dataset"
      ]
    },
    {
      "cell_type": "code",
      "metadata": {
        "colab": {
          "base_uri": "https://localhost:8080/"
        },
        "id": "jljVN5kZEnF3",
        "outputId": "24b87624-be9b-44aa-ef9d-7d5789a233a1"
      },
      "source": [
        "print(\"Some of the Least frequent names were: \\n {}, etc. \\n that occured {} times\".format(', '.join(frequency_dictionary_train[frequency_of_names_train[0]][:20]), frequency_of_names_train[0]))"
      ],
      "execution_count": null,
      "outputs": [
        {
          "output_type": "stream",
          "text": [
            "Some of the Least frequent names were: \n",
            " Phoebe, Evanston, Peppy, Trier, Winnetka, Leach, Shoji, Hamada, Kanjiro, Kawai, Angeloz, Justicialist, Menem, Viewers, Humming, Came, Rank, Nuria, Golijov, Ainadamar, etc. \n",
            " that occured 1 times\n"
          ],
          "name": "stdout"
        }
      ]
    },
    {
      "cell_type": "markdown",
      "metadata": {
        "id": "n2eoK1wHEfi-"
      },
      "source": [
        "### Validation Dataset"
      ]
    },
    {
      "cell_type": "code",
      "metadata": {
        "colab": {
          "base_uri": "https://localhost:8080/"
        },
        "id": "V5pywzVqEne3",
        "outputId": "3443992b-0b89-40e3-a406-cbfa252162d1"
      },
      "source": [
        "print(\"Some of the Least frequent names were: \\n {}, etc. \\n that occured {} times\".format(', '.join(frequency_dictionary_validation[frequency_of_names_validation[0]][:20]), frequency_of_names_validation[0]))"
      ],
      "execution_count": null,
      "outputs": [
        {
          "output_type": "stream",
          "text": [
            "Some of the Least frequent names were: \n",
            " ZTE, Speaker, Abalos, NBN, Nott, Camberwell, Brixton, Datchelor, Kaleo, Five-0, Fryer, Asner, Election, Speedos, Sorry, Lovell, Nairobi, Skeptic, Dictionary, Randi, etc. \n",
            " that occured 1 times\n"
          ],
          "name": "stdout"
        }
      ]
    },
    {
      "cell_type": "markdown",
      "metadata": {
        "id": "Srrq0wX9EgcF"
      },
      "source": [
        "### Test Dataset"
      ]
    },
    {
      "cell_type": "code",
      "metadata": {
        "colab": {
          "base_uri": "https://localhost:8080/"
        },
        "id": "9a9SNvCkEoKg",
        "outputId": "d3239284-ab93-4753-d9a6-ce8bd23f9ea5"
      },
      "source": [
        "print(\"Some of the Least frequent names were: \\n {}, etc. \\n that occured {} times\".format(', '.join(frequency_dictionary_test[frequency_of_names_test[0]][:20]), frequency_of_names_test[0]))"
      ],
      "execution_count": null,
      "outputs": [
        {
          "output_type": "stream",
          "text": [
            "Some of the Least frequent names were: \n",
            " Kontinental, Finland, Wolfsburg, NHLer, Olympic-medalist, Alonso-, Luque, Carrasco-, Ram*n, Copa, Libertadores, Nacional, Alfredo, St*fano, Vieta, Kamel, Hussien, Saddam, Iraqi, Signor, etc. \n",
            " that occured 1 times\n"
          ],
          "name": "stdout"
        }
      ]
    },
    {
      "cell_type": "code",
      "metadata": {
        "colab": {
          "base_uri": "https://localhost:8080/"
        },
        "id": "vHxQPQW1Ea6Y",
        "outputId": "b9cb9b88-3d1c-46f8-95ce-17c60c57b061"
      },
      "source": [
        "print(len(frequency_dictionary_train[1]))\n",
        "print(frequency_dictionary_train[1])"
      ],
      "execution_count": null,
      "outputs": [
        {
          "output_type": "stream",
          "text": [
            "7048\n",
            "['Phoebe', 'Evanston', 'Peppy', 'Trier', 'Winnetka', 'Leach', 'Shoji', 'Hamada', 'Kanjiro', 'Kawai', 'Angeloz', 'Justicialist', 'Menem', 'Viewers', 'Humming', 'Came', 'Rank', 'Nuria', 'Golijov', 'Ainadamar', 'Deutsche', 'Grammophon', 'Nederlandse', 'Opera.', 'Ni*o', 'Kumudha', 'Flowering', 'Sellars', 'Crowned', 'Woodstock', \"'99\", 'Tranceport', 'Oakenfold', 'Perfecto', 'Chaim', 'Yaakov', 'Moishe', 'Sternbuch', 'Meshulam', 'Dovid', 'Soloveitchik', 'Rabbis', 'Shlomo', 'Akiva', 'Eiger', 'Ponevezh', 'Shmuel', 'Rozovsky', 'Mirrer', 'Kot', 'Noble', 'Christgau', 'Shaftesbury', 'UKTV', 'Kirstine', 'Shatner', 'Asner', 'Coyle', 'Mansbridge', 'Onley', 'Mowat', 'Dickinson', 'Chilton', 'Maud', 'Brunswick', 'Judicial', 'Glynn', 'Superior', 'ARTA', 'Vitantonio', 'Liuzzi', 'Mugen', 'Tomoki', 'Nojiri', 'Toshihiro', 'Kaneishi', 'Kunimitsu', 'Hideki', 'Mutoh', 'Kazuki', 'Nakajima', 'LMP1', 'Endurance', 'Uribe', 'Lautaro', 'Renata', 'Frink', 'Adalesa', 'Alma', 'Taggart', 'Eveleth', 'Agricultural', 'Smathers', 'Libraries', 'Var*ze', 'Vicomte', 'Savignac', 'Princesse', 'Courtelin', 'Comte', 'Brain', 'Heenan', 'DiBiase', 'Rumble', 'Zack', 'Greaves', 'Hurst', 'Wembley', 'Severson', 'Oahu', 'Newman', 'Lap', 'VNU', 'Hermetic', 'Nightside', 'Circles', 'Evening', 'Rockefeller', 'Hartwig', 'Ayckbourn', 'MTV', 'Bully', 'Mayhem', 'MMA', 'Alvarez', 'Niagara', 'Bantamweight', 'AAU', 'Griffiths', 'Bava', 'Xellesia', 'Fantaghir*', 'Esmeralda', 'Modes', 'Dot', 'Three-Willied', 'Spica', 'Engineer', 'Coyne', 'Peacock', 'Roughstock', 'Abramoff', 'Lim', 'Goh', 'Tong', 'Kien', 'Huat', 'Realty', 'Genting', 'Delahunt', 'Haag', 'Cornelis', 'Graeff', 'Roberta', 'Callaghan', 'Postmaster', 'Conventions', 'Thirty-first', 'Harmanson', 'Thirty-second', 'F*rst', 'Eleonore', '*ttingen-Wallerstein', 'Lacy', 'Loudon', 'Staffordshire', 'Hanbury', 'Ewart', 'Gladstone', 'Lazarus', 'Se', 'Sino', 'Dove', 'Donde', 'Pausini', 'Minx', 'Spielberg', 'Ramon', 'Spiegelman', 'Byrnes', 'Flurry', 'Tale', 'Aronson', 'Grethe', 'Holby', 'Evergreen', 'Mak', 'Kiu', 'Ming-but', 'Sapporo', 'Olympics', 'Montano', 'Battista', 'Zelotti', 'Palladio', 'Emo', 'Fanzolo', 'Anselmo', 'Canera', 'Vicentino', 'Rubini', 'Loggia', 'Capitanio', 'TH', 'Crowther', 'Weingartner', 'Hall*', 'Frere', 'Bhavnagar', 'Barton', 'Woodhouse', 'Diwan', 'Sahib', 'Samaldas', 'Classicist', \"D'Arms\", 'Consagra', 'Chatfield-Taylor', 'McKim', 'Mead', 'Catley', 'Sermanni', 'Matildas', 'Raiders', 'Bros.', 'Elka', 'Greedy', 'Translation', 'Yahoo', 'Gliatto', 'AnnaLynne', 'Charlize', 'Theron', 'Individual', 'Egelstaff', 'Lan', 'Gaius', 'Glabius', 'Flag', 'Convenience', 'Buzzcocks', 'Diggle', 'Maher', 'Farrow', 'keyboard', 'D.P', 'Granmy', 'Prabhu', 'Viswam', 'Vadivu', 'Vadivukkarasi', 'Nirmala', 'Aranmanai', 'Soosai', 'Doctrine', 'Theology', 'Cunliffe-jones', 'Cunliffe-Jones', 'Mauboy', 'Darwin', 'Footy', 'Tabu', 'Rauch', 'Varnhagen', 'Ense', 'Bowling', 'Angelo', 'Tuscola', 'Colt', 'McCoy', 'Abercromby', 'Mediterranean', 'Scotsman', 'Anstruther', 'Marmorice', 'Josh', 'McAnally', 'Dann', 'Huff', 'Yoakam', 'Snyder', 'Weather', 'Stations', 'Buhay', 'Hayaan', 'Yumabong', 'Bayan', 'Muna', 'Kontra', 'Daya', 'Cheating', 'Carmarthen', 'Astronomy', 'Grassmann', 'Forder', 'Zina', 'Provo', 'BYU', 'Humanities', 'Departments', 'Faculty', 'Excellence', 'Sex', 'Fashions', 'Olympias', 'Eurydice', 'Puri', 'Resources', 'Awareness', 'Skate', 'Mekere', 'Morauta', 'Leatherface', 'Elkus', 'Bongo', 'J*rusalem', 'Royer', 'Va*z', 'Aroldo', 'Piave', 'Balfe', 'Leopard', 'Zaffira', 'Talisman', 'Lille', 'Lefebvre', 'Collin', 'V*ronge', 'Nux', '*douard', 'Blau', 'Besson', 'Proctor', 'Muirhead', 'Ducat', 'MacArthur', \"'Occasional\", 'Cortlandt', 'Grabenhofer', 'Matson', 'Allendra', 'Letsome', 'Councilwoman', 'Duchy', 'Trachtenberg', 'Castlehaven', 'Egerton', 'Brackley', 'Althorpe', 'Kytson', 'Patriots', 'Coach', 'A.B', 'Loren', 'Babenberg', 'Leopold', 'Hohenstaufen', 'Silesia', 'Bohemia', 'Oder', 'Krap', 'Kartel', 'Alvin', 'Buju', 'Cartel', 'Bounty', 'Gal', 'Clown', 'Francophonie', 'Estrie', 'Region', 'Vice-Chair', 'Gagnon-Tremblay', 'Arcand', 'Inzunza', 'Eight', 'Councilman', 'Zucchet', 'Greenberg', 'Roc*o', 'Pantoja', 'Lucha', 'Lola', 'Beltran', 'Anka', 'Reviewer', 'yummy', 'Zacharek', 'Aquabatix', 'HMS', 'Fellowes', 'Tinning', 'Tami', 'Cawley', 'Philippa', 'Campion', 'Mistress', 'Smurf', 'Ozzie', 'Answer', 'Spillane', 'Aki', 'Blackadder', 'Baldrick', 'Stu', 'Fluffy', 'Chas', 'Lil', 'Taffy', 'Wilkes', 'Daley', 'Roland', 'Flea', 'Shi', 'Ji', 'Tianjin', 'Yang', 'Xiong', 'Aquascutum', 'Hermes', 'Jigsaw', 'A/W', 'Sportsgirl', 'Links', 'Glamour', 'Dazed', 'Japanese', 'Hercules', 'Plastique', 'Brewster', 'RC', 'Queensbridge', 'Solihull', 'Sixth', 'Rayco', 'Otis', 'Hinckley', 'Hudd', 'Emmett', 'Huddlines', 'Maplin', 'Crimpton-on-Sea', 'Hi-de-Hi', 'Winner', 'Feast', 'Liars', 'Torch', 'Ismail', 'Khalidi', 'Kirn', 'Corina', 'Knoll', 'Kobin', 'Lemon', 'Going', 'Cacciato', 'Raushenbush', 'Huffington', 'Waya', 'Unbeknownst', 'Sheeroo', 'Tughlaq', 'AH', 'Arab', 'Hari', 'Sing', 'Saheb', 'AH/1362', 'MPPs', 'Bullbrook', 'Breithaupt', 'MPs', 'Cafik', 'Bevin', 'Sununu', 'Lisman', 'Soltis', 'Smile', 'SMiLE', 'LP', 'Darian', 'Sahanaja', 'JFK', 'RFK', 'Indrajith', 'Sarath', 'Geetha', 'Drishyam', 'JobsOhio', 'DOD', 'Controlling', 'Kasich', 'Believe', 'Ballroom', 'Block', 'WNEW', 'Guilliermo', 'Guilliermos', 'Shorter', 'Personal', 'Rozelle', 'Radio-Television', 'Xan', 'Culloden', 'Davina', 'Legnano', 'Pirelli', 'Graziano', 'Funny', 'Irvington', 'NJ', 'Quaglieri', 'Nyro', 'Picnic', 'Emmie', 'JCP', 'Screenplay', 'Guay', 'DeLaurentis/Carolco', 'EUE', 'Gems', 'Wilmington', 'Lili', 'Dogfight', 'Falconetti', 'Ullman', 'Santangelo', 'Judith', 'Malina', 'Margeeve', 'Yukiko', 'Shinozaki', 'Brussels', 'Splayed', 'Appetite', 'Table', 'Magali', 'Desbazeille', 'Remote', 'Chenonceau', 'Marck', 'Bouillon', 'Largentier', 'Vijay', 'Raaz', 'Murugan', 'Jean-Claude', 'Damme', 'Target', 'Sweety', 'Supriya', 'Pilgaonkar', 'Monro', 'Morison', 'Aswin', 'Chaseiro', 'Damayanti', 'Dian', 'Iwan', 'Marwan', 'Arie', 'Nurfahd', 'Tiara', 'Spanos', 'Starship', 'Gon', 'Siva', \"'The\", 'Wanted', 'Lieutenant-Colonel', 'Duns', 'Eveline', 'Bailie', 'Berwickshire', \"'Fernhurst\", 'Pinkneys', 'Maidenhead', 'Berkshire', 'Hendrex', 'Snr.', 'Blind', 'Obadiah', 'Damascus', 'Aleppo', 'Return', 'Inn', 'Fallin', 'Worth', 'Macedon', 'Aristotle', 'Persia', 'Persian', 'Hungarian', 'Blades', 'Bramall', '+', 'Rodgers', 'Oadby', 'Norwich', 'Elms', 'Acland', 'Filleigh', 'Devon', 'Lohan', 'Nicks', 'Corsican', 'Fridays', 'JAG', 'Monk', 'Alias', 'Riotta', 'Capone', 'Barcelona', 'Herb', 'Alpert', 'Tijuana', 'Brass', 'Boonsboro', 'Ardon', 'Granby', 'Sumner', 'Ladies', 'Repository', 'Tompkins', 'Jubilees', 'Antiquities', 'Philo', 'Kitab', 'Flavius', 'Josephus', 'USSR', 'Taimanov', 'URS-ch22', 'Smyslov', '+1', '=6', 'Thin', 'DeLand', 'QB', 'Giants', 'Foucault', 'J*rgen', 'Habermas', 'Rorty', 'Vanity', 'Tramp', 'Abroad', 'Revolutionary', 'Torchetti', 'Hockey', 'Kitchen', 'RDI', 'Architecture', 'Sarajevo', 'Bosnia', 'Kaplan', 'Nightly', 'Brokaw', 'Herman', 'Izmaylovo', 'Aleksey', 'Mikhailovich', 'Oba', 'Carding', 'Corveau', 'dela', 'Riva', 'Gulong', 'Palad', 'RR', 'Chuckie', 'Dreyfus', 'Jaypee', 'Guzman', 'Gonzales', 'Glaiza', 'Herradura', 'Matet', 'Seguerra', 'Barbi', 'Petrang', 'Kabayo', 'Pilyang', 'Kuting', 'Roderick', 'Paulate', 'O*N*E', 'Demetrius', 'Leech', 'Sijun', 'Fujian', 'Graeme', 'Dott', 'ACBS', 'Under-21', 'Snooker', 'Akani', 'Songsermsawad', 'Quarterly', 'Tele-Information', 'Pavlik', 'Journalism', 'Communication', 'Malawi', 'Chibale', 'Mtegha', 'Collette', 'Lochore', 'Tie', 'Rocket', 'Audition', 'Chaos', 'Sickest', 'PXY', 'NY', 'Manson', 'Benatar', 'Hynde', 'Jett', 'Drunken', 'Clam', 'Physiology', 'Stirling', 'Advanced', 'Stanes', 'Gaetano', 'Antoniazzi', 'Sacconi', 'Violin', 'Making', 'Storioni', 'Kearney', 'Overseer', 'Ghul', 'Man-Bat', 'Macpherson', 'Mongkut', 'Chulalongkorn', 'Thiang', 'Lun', 'Tha', 'Siam', 'Romain', 'Grosjean', 'Ayrton', 'Senna', 'Op*ra', 'Montr*al', 'Radames', 'Gavin', 'Alagna', 'Israeli', 'Downer', 'Nobby', 'Boyfriend', 'Blaxland', 'Wentworth', 'Macquarie', 'Junta', 'Moreno', 'Operations', 'Sight', 'Bev', 'Bevan', 'Tandy', 'Albuquerque', 'Steung', 'Meanchey', 'CCF', 'Quincy', 'Canady', 'Marborough', 'Petter', 'Munier', 'Nations', 'XVI', 'Gustaf', 'Silvia', 'Westling', 'Salford', 'Industry', 'Principles', 'Letteratura', 'Dantesca', 'Verse', 'Canto', 'Lament', 'Vindication', 'Malatesti', 'Lamento', 'Difesa', 'Filippo', 'Scolari', 'Esercitazioni', 'Dantesche', 'Rifiuto', 'Allighieri', 'Naples', 'Conte', 'Ugolino', 'Ruggieri', 'Pisan', 'Bertrand', 'Critical', 'Contributions', 'McLuckie', 'Lanarkshire', 'Tory', 'Bianchi', 'GT40', 'Wyer', 'Lotus', 'Teri', 'Pack', 'Holliday', 'Everly', 'Revival', 'Historic', 'Throop', 'Nag', 'Bertie', 'Cypress', 'Bochner', 'Caliguiri', 'Willa', 'Cather', 'Cope', 'Filner', 'Fineman', 'Kozak', 'Lieber', 'Lucchino', 'Cowdenbeath', 'Dundee', 'Tannadice', 'Savoy', 'Esquire', 'Theme', 'Tunisia', 'Muriel', 'Patterson', 'Acts', 'Amendment', 'Abortion', 'Infants', 'A.B.', 'J.D.', '1980-1982', 'Sneed', 'Ninth', '1986-1987', 'Wachtell', 'Lipton', 'Rosen', 'Ordgar', 'Danes', '*thelwald', 'Martyr', 'Durham', 'Newcastle-on-Tyne', 'Urban', 'Rodham', 'Quiver', 'Shania', 'Anthill', 'Mob', 'Gaynor', 'Bobbie', 'Imagination', 'Nebraska', 'Yiyun', 'Years', 'Prayers', 'Chekhov', 'Munro', 'Benedictines', 'Mazarine', 'Scuderi', 'Pellisson.Il', 'Wimberley', 'Tu', 'Thalia', 'Zanetakos', 'Charismatic', 'Farish', 'Squall', 'Preakness', 'Stakes', 'Fitzalan', 'Vice-President', 'Suanzi', 'Bing', 'Yi', 'Kuaiji', 'Chong', 'Chesney', 'Yana', 'Mats', 'Sverin', 'Solveig', 'Minaj', 'Bread', 'Gorky', 'Milledgeville', 'Ringer', 'Hubbell', 'Tang', 'Xueyantuo', 'Qiao', 'Shiwang', 'Zhenzhupiqie', 'Zhenzhu', 'Mohe', 'Gobi', 'Desert', 'Huige', 'Bayegu', 'Adie', 'Tongluo', 'Pugu', 'Every', 'MCA', 'Running', 'Kind', 'Cantwell', 'Entertainer', 'Feb.', 'Leroy', 'Ledger', 'Altercatio', 'Urbanum', 'Clementum', 'Piacenza', 'Nicolaitan', 'Lava', 'Springs', 'Kelsi', 'Fulton', 'Bet', 'RTL', 'Linde', 'Pim', 'Fortuyn', 'Hook', 'Zelena', 'Whig', 'Syme', 'Orville', 'Harrold', 'Friml', 'All-party', 'Ministers', 'Monza', 'Suzuka', 'Matisoff', 'Exalted', 'Ruler', 'Current', 'Saylor', 'Bagell', 'SER', 'Hekman', 'Suanna', 'Giovanna', 'ECM', 'Oslo', 'Sonata', 'Dwarf', 'Cosmos', 'Rickard', 'Pro-Wrestling', 'Krupp', 'WWF', 'Crockett', 'Promotions', 'Apter', 'Haythornthwaite', 'Culture', 'Online', 'Practice', 'Nora', 'Frenchman', 'Colicos', 'Blaise', 'Kotto', 'Oates', 'Spring', 'Mewar', 'Chittor', 'Haldighati', 'Rana', 'Bhil', 'Poonja', 'Sundays', 'Low', 'Monte', 'Cassino', 'Aric', 'Almirola', 'Ragan', 'Kvapil', 'Kimball', 'Gate', 'Woolworth', 'Stafford', 'Siyuan', 'Mingzong', 'Jixing', 'Guangxian', 'Zhen', 'Graz', 'Habsburg', 'Gregoria', 'Maximiliana', 'Briand', 'Walther', 'Kintaro', 'Usuda', 'Orellana', 'Moorcock', 'Tubb', 'Stableford', 'Barrington', 'Bayley', 'Coney', 'Rest', 'Saha', 'Wollheim', 'Annual', 'F11', 'Barbadian', 'Haydn', 'ATP', 'Bester', 'Vasek', 'Pospisil', 'F5', 'Kamil', 'Pajkowski', 'Richwood', 'Mt', 'Martins', 'Timmy', 'Petrie', 'Millvale', 'Kudryavsteva', 'Kudryavtseva', 'Tashkent', 'Corby', 'Mauritius', 'Currie', 'Cups', 'Poore', 'Delia-', 'Donne', 'Rouge', 'Pulp', 'Jayme', 'Jameson', 'Uncensored', 'Definition', 'Technician', 'Trinity', 'FightLockdown', 'IFL', 'Judo', 'Jiu-Jitsu', 'Raoul', 'Trail', 'Grandeur', 'Sawan', 'Aane', 'Saanch', 'Aanch', 'Nahin', 'Ayaash', 'Itni', 'Si', 'Baat', 'Ramanand', 'Sagar', 'Govil', 'Vikramaditya', 'Vikram', 'Aur', 'Betaal', 'Ramayan', 'Uptron', 'Dominican', 'Candle', 'Duchamp', 'Side', 'Literature', 'CUNY', 'Murthly', 'Keegan', 'Osbourne', 'Fitz', 'Stanner', 'Hogfather', 'Wally', 'Backman', 'Valencia', 'SAG', 'Confidential', 'Informant', 'TNA', 'Impact', 'Disassembled', 'She-Hulk', 'Lepel', 'VA', 'Keeper', 'Purse', 'Honour', 'Ordinary', 'Managing', 'Supervisor', 'Vickie', 'Tallinn', 'Estonia', 'Oksa', 'Caterina', 'Farnese', 'Este', 'Bockwinkel', 'Wool', \"'Broccoli\", 'Broccoli', 'Marenghi', 'Claxton', 'Cleaves', 'OBE', 'Lindrum', 'SKY', 'Inter', 'Bergomi', 'Andiamo', 'Berlino', 'Caressa', 'Primitivo', 'Pancho', 'Calexico', 'Kid', 'Villanueva', 'FWAA', 'UPI', 'English-side', 'MacDougalls', 'Tewabech', 'Tiruwork', 'Derasge', 'Garter', 'Baug*', 'Umfraville', 'Redesdale', 'Kyme', 'Langley', 'Kloke-Hans', 'Wise', 'Kersti', 'Nilsdotter', 'Ola', 'Hansson', 'Lund', 'Balakian', 'Pressman', 'Admissions', 'Thessaly', 'Neopatras', 'Theodore', 'Angelos', 'Dragoon', 'Gaeta', 'Mermet', 'Soult', 'Porto', 'Grij*', 'Somehow', 'Hollingsworth', 'Lau', 'Kar', 'Hung', 'Liu', 'Luk', 'Choy', 'Kuan', 'Rise', 'U.', 'Sabena', 'Flight', 'Skating', 'Dakota', 'Fanning', 'Motel', 'Wisteria', 'Orson', 'Burgi', 'Dakin', 'Sykes', 'Presbyterian', 'Stenlake', 'Irwin', 'ShowQueen', 'Sessions-', 'Luckiest', 'Benghazi', 'Moammar', 'Gordonstoun', 'Kincardine', 'Ewen', 'Lochiel', 'Freeling', 'Poltergeist', 'Eddy', 'Blossom', 'Shinawatra', 'Constitution', 'Chueathai', 'Arausio', 'Gnaeus', 'Mallius', 'Gerran', 'Andrews', 'Brothwick', 'Casualty', 'Ernesto', 'Sparticle', 'Krystal', 'Ailes', 'H.W', 'Brentford', 'Briddon', 'Tally', 'Sneddon', 'Edelston', 'Jackie', 'Mansley', 'Ertman', 'Medell*n', 'Yee', 'Alesha', 'CCTV', 'Veterans', 'Pittston', 'Chattanooga', 'Lookouts', 'Starfleet', 'Defiant', 'Cardassia', 'Warrior', 'Indiscretion', 'Kira', 'Nerys', 'Gul', 'Dukat', 'Tora', 'Ziyal', 'Gable', 'Harlow', 'Chaplin', 'Hearst', 'Steingut', 'Albany', 'Fitz-Gerald', 'K38', 'Alladio', 'Waverunner', 'Hurricane', 'Desire', 'Stitch', 'Christianna', 'Evangeline', 'Jubal', 'Gettysburg', 'Paramount', 'Shift', 'Janaki', 'Tuberculosis', 'Satyapal', 'Puran', 'Bhagat', 'Herr', 'Millett', 'Jarymowycz', 'Cutter', 'Gap', 'Leonora', 'Called', 'Binene', 'Campus', 'Tomboy', 'Jepoy', 'Enthusiast', 'Lexi', 'Fernandez', 'Photography', 'Harbutt', 'Liftin', 'Archive', 'Yoko', 'Yuka', 'Takako', 'Deigan', 'Maki', 'Protestant', 'Walsingham', 'Paulet', 'Basing', 'Benyon', 'Suggestion', 'Psychiatric', 'Diagnosis', 'Scheff', 'Labelling', 'Madness', 'Illness', 'APA', 'Deceptive', 'Indirect', 'Persuasion', 'Psychological', 'Goldstein', 'Langone', 'Jolyon', 'Primate', 'Timor', 'Salvador', 'Galla', 'Chlorus', 'Flavia', 'Maximiana', 'Theodora', 'Aviation', 'Selena', 'Stefani', 'Hailee', 'Steinfeld', 'Lenape', 'Indians', 'Falls', 'Schuylkill', 'Morrisville', 'Bj*rnsson', 'Printz', 'Ridder', 'Vyborg', 'Karelia', 'Parkin', 'Deluxe', 'Ings', 'Crosley', 'Roush', 'Aynesworth', 'Perfect', 'Pint', 'Ales', 'Weekend', 'Pearson', 'Wald', 'Pearsonian', 'Cousin', 'Katy', 'Pain', 'Husband', 'Hallie', 'AL', 'Traci', 'Risberg', 'Siege', 'Dimon', 'Hobhouse', 'Regardless', 'Giraud', 'Wildcard', 'Namibia', 'Harlem', 'Meseta', 'Andalusian', 'Plain', 'Elder', 'Viso', 'Magellan', 'Torre', 'Theobold', 'Michelin', 'Langhams', 'Rosshilde', 'Reece', 'Wolsey', 'Wolman', 'Foxe', 'Kristofer', 'Engelhardt', 'Beatles', 'Deeper', 'Undercover', \"''Lucille\", 'Worcester', 'Sainton-Dolby', 'Etta', 'Leigh-Allyn', 'Maddy', 'IDs', 'Supremes', 'Padanian', 'Repubblica', 'Federale', 'Padana', 'VRFP', 'Venetist', 'Liga', 'Veneta', 'Renato', 'Jesolo', 'J*rg', 'Haider', 'Gian', 'Gobbo', 'Korean', 'Nonetheless', 'Willoughby', 'Shutts', 'Gemma', 'Faida', 'Myriam', 'Taher', 'Policeman', 'Faouzi', 'Hamdi', 'Lowry', 'Fern', 'Trocadero', 'Edgbaston', 'Thornbury', 'Topham', 'Beauclerk', 'Manacles', 'Tilly', 'Fuery', 'Pageant', 'Preceptory', 'Williamite', 'Scarva', 'Rufus', 'Beier', 'Sebelius', 'Tank', 'Murk', 'Gifford', 'Lovedrug', 'Step', 'Merry', 'Inspector', 'NYPD', 'Starling', 'Conscious', 'Unknown', 'Pask', 'Thoms', 'Flat', 'Musicians', 'Leicestershire', 'C*linescu', 'Ruinelor', 'Cet**ii', 'Neam*u', 'C*rlova', 'Ruinurile', 'T*rgovi*tii', 'Alexandru', 'Ch*nier', 'Schiller', 'Lamartine', 'Debts', 'Tune', 'Altman', 'Banks-Smith', 'Record', 'Gu*nica', 'Ismael', 'Rebeca', 'Figueroa', 'Ricans', 'Eagles', 'DeShaun', 'Requiem', 'Premiere', 'USM', 'Chorale', 'Driving', 'Momma', 'Had', 'Ragtime', 'Welker', 'Leota', 'Highlanders', 'Estates', 'Iain', 'Jean-Gabriel', 'Sarlat-la-Can*da', 'Dordogne', 'Iwata', 'Monterrey', 'Murayama', 'Toshiaki', 'Nogiwa', 'Shito-Ryu', 'Karate-Do', 'Sosei-Kai', 'Shinkyokuryu', 'Taijitsu', 'Budo', 'Nippon', 'Soseikai', 'Technical', 'Birgersson', 'Jarl', 'Ringo', 'McGrath', 'Hickey', 'Conneely', 'Shanley', 'Gervase', 'Rotherham', 'Hassan', 'Casablanca', 'Medbouh', 'Louvre', 'Langlois', 'Rouget', 'Invalides', 'Boucher', 'Jean-Honor*', 'Fragonard', 'Tennis', 'Oath', 'Psychopathological', 'Discussion', 'Pig', 'Poetical', 'Mythological', 'Psichopatia', 'Criminalis', 'Panizza', 'Nicky', 'Romero', 'LE7ELS', 'Silicon', 'Burleigh', 'Roizen', 'Sancho', 'Urraca', 'Occult', 'Rieber', 'Laing', 'Moncion', 'Baryshnikov', 'Damian', 'Woetzel', 'Nettles', 'Sylvestra', 'Fleeshman', 'Midsomer', 'Murders', 'Guest', 'Masterclass', 'Renny', 'Rye', 'Parker/Spider-Man', 'Nazir', 'Ahmad', 'Leone', 'Quran', 'Compound', 'Butcher', 'Clover', 'Lucile', 'Cyd', 'Charisse', 'Eug*ne', 'Semeuse', 'Samaritaine', 'Cognac-Jay', 'Presidency', 'Laval', 'Chambrun', 'Pennsauken', 'Burlington', 'Evesham', 'Township', 'Palmyra', 'Cicero', 'Benedictus', 'Inverted', 'Da', 'UMass', 'Gennaro', 'Chierchia', 'Heim', 'Bologna', 'Cresta', 'Enobaria', 'Katniss', 'Coin', 'Woking', 'Kolenkhov', 'Kirby', 'Carmichael', 'Briana', 'Scurry', 'Brandi', 'Chastain', 'Honor', 'Czerny', 'Henson', 'Delroy', 'Lindo', 'Papacy', 'Christendom', 'Underground', 'Dalai', 'Lama', 'Crowe', 'Fernie', 'Baca', 'Trinidad', 'Wendi', 'Fabulous', 'Lelani', 'Velvet', 'McIntyre', 'Wide', 'Cowgirls', 'Hosaka', 'Sherri', 'Martel', 'Toll', 'Sinners', 'Saints', 'Chip', 'Majors', 'DuMont', 'Edmonds', 'Bauer', 'Ticket', 'Prentice', 'McKellar', 'Railroads', 'Dunlap', 'Norbert', 'Creutz', 'Apros', 'Bernad', 'Mar', 'Sep', 'Charter', 'Oak', 'Loveless', 'Bogguss', 'Mattea', 'Mindy', 'McCready', 'Messina', 'Chely', 'Shaye', 'Playoffs', 'Flyers', 'Naseem', 'Hamed', 'Silkys', 'Microsoft', 'Bonjawo', 'African', 'Virtual', 'Cheick', 'Modibo', 'Nairobi', 'Internet', 'Zhaoge', 'Feng', 'Feihu', 'Providence', 'Cements', 'Uptown', 'Ascona', 'Oskar', 'Schrimpf', 'Barbey', 'Charlus', 'Proust', 'Esseintes', 'St*phane', 'Mallarm*', 'Disgrazia', 'DeAngelis', 'Beckwithe', 'Craven', 'Benedetto', 'Nerd', 'Crush', 'Ferb', 'Staircase', 'Flynn-Fletcher', 'Baljeet', 'Buford', 'Pritzker', 'Prizewinning', 'Charitable', 'Collaborative', 'Heidegger', 'Haymarket', 'Rolli', 'Faustina', 'Cuzzoni', 'Freeborn', 'Maxim', 'Abkhazia', 'Shamba', 'Gessle', 'Het', 'Wind', 'Heartland', 'Policy', 'Hoskyns', 'Injustice', 'Renee', 'Montoya', 'Orkney', 'Shetland', 'Cardiff', 'Binney', 'Tasmania', 'Darlan', 'Peasant', 'Shiva', 'Fateh', 'Narain', 'Deo', 'Gaya', 'Veer', 'Kunwar', 'Jagdispur', 'Bergman', 'Supporting', 'Orient', 'Chiefs', 'Bowler', 'Exercise', 'Ouko', \"''a\", 'Braithwaites', 'Sparkhouse', 'Anne-Britt', 'Hoglund', 'Mankell', 'SORAS', 'Walls', 'Jericho', 'Yurchenko', 'Royale', 'Peinture', 'Sculpture', 'Doyen', 'Rubens', 'Miracle', 'Genevieve', 'Roch', 'Bassett', 'Lemmons', 'Apartheid-set', 'Agaat', 'van', 'Niekerk', 'Zadie', 'Sotiropoulos', 'LeFlore', 'Million', 'Dollar', 'Outfield', 'Alberta-Saskatchewan', 'Hollandia', 'Elk', 'Switch', 'Rapids', 'Akron', 'Fluellen', 'Steubenville', 'Heat', 'Corbett', 'Dirt', 'Animal', 'Deadly', 'Eunice', 'Tunnel', 'Cannes', 'Sauber', 'Kubica', 'Hungaroring', 'Grands', 'Shinedown', 'Jacksonville', 'Jasin', 'Kerch', 'Wolfensohn', 'Gain', 'Investments', 'Jay-Z', 'Denny', 'Hulme', 'Drivers', 'Thackwell', 'Brendon', 'Hartley', 'Willem', 'Dafoe', 'Gambon', 'Goldblum', 'Criterion', 'Esteban', 'Plantier', 'Cassel', 'Jaguar', 'Peterborough', 'Fletton', 'Ewood', 'Clarrie', 'Bourton', 'Move', 'Electric', 'Wizzard', 'Lyricist', 'Thatcher-Newsinger', 'Rondith', 'Ancient', 'Heinzmann', 'Raab', 'SSDSDSSWEMUGABRTLAD', 'ProSieben', 'Macy', 'Norah', 'Avenger', 'Devereaux', 'Osama', 'Laden', 'Clearwater', 'Sleet', 'Ebony', 'Dizzy', 'Holiday', 'Coretta', 'Shabazz', 'Mound', 'Foor-Robinson', 'orchestra', 'Harrisburg', 'Symphonic', 'Blatz', 'Brewery', 'Pabst', 'Ribbon', 'Grainger', 'Rear', 'Brest', 'Urbain', 'Bouexic', 'Guichen', 'Rajasekaran', 'Nagalingam', 'Griffith', 'Gill', 'Intuition', 'Hennessy', 'Lies', 'JESS3', 'Buzzroom', 'C-SPAN', 'Prism', 'Ileen', 'Barzee', 'Gough', 'Masterton', 'Doctors', 'Wire', 'Messiah', 'Stott', 'Peake', 'Putney', 'Tempore', 'Dena', 'Hilda', 'Satt', 'Protoevangelium', 'Baltic', 'Crimean', 'Commander-in-Chief', 'Vancouver', 'Brigadier-General', 'Selby', 'Harney', 'Boundary', 'Dispute', 'Frozen', 'Bryony', 'Lavery', 'Herbal', 'Bed', 'Whelan', 'Stoppard', 'Sore', 'Throats', 'Brenton', 'Klein', 'Burnt', 'Baitz', 'Gorilla', 'Stinson', 'Wilhelm', 'D*bner', 'Gothic', 'Kleines', 'Palais', 'Dukes', 'Saxe-Meiningen', 'Schaubach', 'All-Star', 'Gail', 'Torres', 'Divas', 'Kyoto', 'Protocol', 'Associates', 'Horsley', 'Corot', 'Aumonier', 'Siggy', 'Powerman', 'Addiction', 'Matter', 'Isaacs', 'Wichita', 'Nouveau', 'Ceriomyces', 'Boletus', 'Rolf', 'Pulveroboletus', 'Cartilaginei', 'All-Tournament', 'Penguins', 'Chorney', 'Marston', 'Capitals', 'Ocrafolk', 'Hoke', 'WOVV', 'Slappin', 'Lunch', 'Creater', 'Mango', 'Loco', 'Mic', 'Nights', 'Palumbo', 'Indienink', 'Rolls', 'Gaunt', 'Houghton', 'Pembroke', 'Zouch', 'Haryngworth', 'Schulz', 'Disarm', 'Kaskade', 'Juber', 'Goulding', 'ATV', 'Aslaug', 'Kattegat', 'Bjorn', 'Manitoba', 'BA', 'Wynona', 'Mulcaster', 'Swinton', 'Winnipeg', 'Eckhardt', 'Canadiens', 'Unicorn', 'Lodger', 'Fourth', 'Robot', 'Mawdryn', 'Undead', 'HQ', 'Lancashire', 'Neapolitan', 'Throne', 'Gda*sk', 'Remember', 'That', 'Pros', 'Hitchhiking', 'Heatwave', 'Boomtown', 'Rats', 'Mondays', 'Nephilim', 'Surprise', 'Fan', 'Bingbing', 'Aarif', 'Rahman', 'Wu', 'Jiang', 'Jinfu', 'Henney', 'Antoinette-themed', 'Belushi', 'Midnight', 'Fur', 'Clarence', 'Derwent', 'Ingrid', 'Michaelson', 'Carlbert', 'Else', 'Una', 'Antony', 'Kensington', 'Prescott', 'Carpet', 'Weird', 'Farnsworth', 'Costigan', 'Fight', 'Stories', 'Marchioness', 'Newcastle', 'MS.', '6947', 'Scarce', 'Aurora', 'Gavilan', 'Basilio', 'KOs', 'Draw', 'Saxton', 'Uzelac', 'Brandy', 'Donnelly', 'Maghery', 'HH', 'Lt.', 'Union-held', 'Braxton', 'Visions', 'Ealing', 'Groundcourse', 'Derby', 'Toshack', 'Barmouth', 'Dyffryn', 'Tapscott', 'Winners', 'Vittoria', 'Colonna', 'Enfield', 'Budgetary', 'Heritage', 'Cato', 'Inns', 'Hurworth', 'Nesham', 'Brathwait', 'Maru', 'AHS', 'Centaur', 'Raaj', 'Digvijay', 'Laila', 'Diwali', 'Waley', 'Senshi', 'Auberon', 'Spectator', 'Sieghart', 'Brainella', 'Intelligencia', 'Swahili', 'Tagalog', 'Mongolian', 'Upstairs', 'Downstairs', 'Pagett', 'Karenina', 'Nobbs', 'Bit', 'P-Funk', 'Allstars', 'Zapp', 'Temptations', 'Jeru-Bhetiru', 'Katai-Jhogorai', 'Krishna', 'Manhunter', 'Narendra', 'Hirwani', 'VVS', 'Murali', 'Hrishikesh', 'Kanitkar', 'Sridharan', 'Sriram', 'Elles', 'Lempicka', 'Laurencin', 'Orlova', 'Sonia', 'Delaunay', 'Goncharova', 'Expertise', 'Players', 'Flags', 'OVW', 'Ceran', 'Vrain', 'Simeon', 'Turley', 'Arroyo', 'Hondo', 'Jacquelin', 'Perske', 'Cabramatta', 'Sheehan', 'Porchlight', 'Frisch', 'Randolf', 'Menzel', 'Bukovinka', 'Desky', 'Vald*tejn', 'Bukovina', 'Karel', 'Kapoun', 'Svojkov', 'Hostinn*', 'MVP', 'Held', 'Martyn', 'Altercations', 'Braves', 'Hythe', 'Brier', 'Rand', 'Windy', 'Halliday', 'Sherman', 'Speedy', 'McGinnis', 'Carlson', 'Hebblethwaite', 'Finding', 'Communities', 'Introduction', 'Guides', 'Conversations', 'Feminism', 'Storkey', 'Aires', 'Wolverine', 'Arnim', 'Zola', 'Blastaar', 'Annihilus', 'FF', 'Gautier', 'Pillet', 'Salle', 'Peletier', 'Grisi', 'Petipa', 'Albrecht', 'Coralli', 'Hilarion', 'Ad*le', 'Dumil*tre', 'Myrtha', 'Wilis', 'Mansions', 'Rima', 'Lomax', 'Guinea', 'Ciel', 'Mud', 'Below', 'Zadroga', 'WTC', 'Batts', 'Djana', 'Northside', 'Densmore', 'Showbiz', 'Ortega', 'Abdul', 'Mart*n', 'Bol*var', 'Sucre', 'Bolivia', 'Maple', 'CPI', 'WBC', 'Ltd', 'Cohl', 'Wolinsky', 'Winmau', 'Barilli', 'Hankey', 'Stomp*', 'Lakeside', 'BDO', 'Darts', 'Krzysztof', 'Ratajski', \"O'Shea\", 'Kingsmill', 'Heneage', 'Royalist', 'Keeley', 'Righi', 'Partridge', 'Hobo', 'Grin', 'Starostin', 'Hermanns', 'TV-author', 'Quatsch', 'Lipschitz', 'Mollica', 'Sabbagh', 'Tropical', 'Traveller', 'Jalousie', 'Counts', 'Emicho', 'Crusade', 'Emich', 'Thaw', 'MacFadden', 'Hancock', 'Jorim', 'Nathan.The', 'Tenet', 'Novak', 'Neff', 'Heys-in-Bowland', 'Riding', 'Lord-in-Waiting', 'Attlee', 'Kemp', 'Magnum', 'Champlain', 'Wendat', 'Cap', 'Diamant', 'Excise', 'Hoyte', 'Neilsen', 'Ringz', 'Lucas', 'Hyne', 'Melanesia', 'Vern', 'ABBA', 'Condoleezza', 'Hemel', 'Hempstead', 'Myrtle', 'Prairie', 'Gianopulos', 'Cards', 'Susanne', 'Zoey', 'Beske', 'Ember', 'Husak', 'Sura', 'Bluegrass', 'Banjo', 'Mejo', 'Giampaolo', 'Saccarola', 'Dorth', 'Pesch', 'Bahia', 'Vorobieff-Stebelska', 'Marevna', 'Beloff', 'Gilfeather', 'Moral', 'Fabric', 'Bezverkhy', 'Rodnovery', 'Asov', 'Orthodoxy', 'Vedic', 'Tricia', 'Colette', 'Festschrifts', 'CS', 'Conor', 'Whately', 'Bysantinska', 'S*lskapet', 'Bulletin', 'Oswaldkirk', 'Bunting', 'Ampleforth', 'Madeleine', 'Romola', 'Richmond', 'Convent', 'Corpus', 'Christi', 'Wilford', 'Rough', 'Wooing', 'Guise', 'Wahroonga', 'Rugby', 'CAS', 'SG', 'Raph', 'Quetzalcoatlus', 'Agitated', 'Principia', 'Flamsteed', 'Fatio', 'Duillier', 'Gregory', 'Everest', 'Krakauer', 'HACE', 'Fischer', 'Lhotse', 'Face.', 'Bardsley', 'Pascal', 'Chimbonda', 'Blair', 'Billings', 'Tryon', 'Penobscot', 'RnB', 'Impala', 'Sevyn', 'Ichiro', 'Fujisaki', 'Hiroyuki', 'Nagahama', 'Environment', 'Uichiro', 'Niwa', 'Ry*z*', 'Sejima', 'Kwantung', 'Toshiyuki', 'Takano', 'Tsuneharu', 'Takeda', 'Hearts', 'Roadkill', 'Brule', 'Engine', 'Expert', 'Westech', 'Performance', 'Mira', 'Loma', 'Freiburger', 'Dysart', 'McKelvey', 'Moncton', 'Arseneault', 'Dalhousie-Restigouche', 'Arena', 'Gulliver', 'Preparatory', 'Saban', 'Heisman', 'Paartha', 'Gnabagam', 'Illayo', 'Nagesh', 'Radharavi', 'Viswanathan', 'Kasthuri/Lalitha', 'Known', 'Soundtrack', 'Purple', 'Castling', 'Florrie', 'Forde', 'Sheridan', 'Shaun', 'Glenville', 'Retford', 'Vesta', 'IT', 'Person', 'Farrar', 'Vinokourov', 'Tours', 'Guru', 'Bali', 'Chutki', 'Ferret', 'Hussey', 'Cult', 'Thwaite', 'Loves', 'Jezebel', 'Millwall', 'Jackett', 'Barnet', 'Provincial', 'Nahua', 'Valladolid', 'Bishopric', 'Ricard', 'zealous', 'Lindsey', 'IMF', 'Benji', 'Carnahan', 'Branagh', 'McVeigh', 'Carrie-Anne', 'Scarlett', 'Johansson', 'McKeon', 'Dodgers', 'Go**bki', 'Tadeusz', 'Osada', 'Irena', 'Izbicki', 'Jozef', 'Ettinger', 'Radziejewski', 'Larissa', 'Sztorchan', 'Czeslawa', 'Konko', 'Sidor', 'Temler', 'Davay', 'Ponte', 'Raffaello', 'Montelupo', 'Bernini', 'Superscription', 'I.N.R.I', 'Thorns', 'Ferus', 'Newhall', 'Folk', 'Khitai', 'Shemite', 'Taramis', 'Jets', 'Jet', 'Boozer', 'McNeil', 'B*low', 'Wagnerites', 'Nietzsche', 'Bachelor', 'Wisconsin-Madison', 'Winas', 'Strengths', 'Frequency', 'Gas', 'Discharges', 'Amerigo', 'Torpete', 'Fregoso', 'Banco', 'Giorgio', 'Via', 'Larga', 'Careggi', 'Simonetta', 'Sandro', 'Botticelli', 'Giuliano', '-area', 'Armantrout', 'Frantz', 'Lindwall', 'Hitchhickers', 'Dickens', 'Drabble', 'Garrick', 'Elijah', 'Sookie', 'Sibley', 'McHale', 'Metcalfe', 'Massie', 'McGarry', 'SB', 'Report', 'SBS', 'Krall', 'KBOM', 'Rip', 'Spoiler', 'Batgirl', 'Batsuit', 'R.I.P', 'Gotham', 'Parliamentarian', 'Veteran', 'Late', 'Thiru.K', 'Kamaraj', 'Southampton', 'Solicitor', 'Exchequer', 'Jarret', 'Plum', 'Universal', 'Rutherford', 'Kartik', 'Pal', 'Mahatma', 'Rabindranath', 'Tagore', 'Emirates', 'Carragher', 'Crooks', 'Bioethics', 'Bonino', 'Pannella', 'Luca', 'Frie', 'Studieskoler', 'Laurits', 'Tuxen', 'Peder', 'Severin', 'Kr*yer', 'Frans', 'Zahrtmann', 'Select', 'Lilley', 'Computer', 'Andries', 'Navratilova', 'Flannery', 'Krasinski', 'Appreciation', 'Recall', 'CNN', 'Creed', 'Kinsey', 'Grandma', 'Moresby', 'Farms', 'Partners', 'Sperduti', 'Coca-Cola', 'Lexus', 'Maudling', 'Monken', 'Christos', 'Gage', 'Fuso', 'Jinx', 'Tachibana', 'Sainan', 'Yui', 'Nemesis', 'Medals', 'Gallantry', 'Andre', 'Dickie', 'Tiger-Cats', 'Avatus', 'Keyser', 'Westernport', 'Melle', 'Ch-ch-ch-chaka-chaka-chaka', 'Fingertips', 'Samaritan', 'Sings', 'Sholes', 'Quayle', 'Underbelly', 'Mammone', 'Nik', 'Radev', 'Mercanti', 'Coffin', 'Cheater', 'Veniamin', \"'Mick\", 'Gatto', 'F.', 'Cergizan', 'Herndon', 'Tortoise', 'Cornpone', 'Brunch', 'Jingle', 'Sell', 'McEntire', 'Bitney', 'Herdon', 'Bundy', 'Hostilius', 'BC', 'Numa', 'Pompilius', 'Ancus', 'Marcius', 'Tullus', 'Arrow', 'Ibuki', 'Yasuko', 'Fantastic', 'Madelyne', 'X-Factor', 'Simonson', 'Mister', 'Sinister', 'Shed', 'Prophet', 'Special', 'APO', 'Min', 'Jianxing', 'Shengping', 'Xuanjing', 'Guo', 'Academic', 'Having', 'Kitchener-Waterloo', 'Elroy', 'Hirsch', 'Hamer', 'Theismann', 'Goldie', 'Hawn', 'Leibovitz', 'Springald', 'Recorder', 'Fenna', 'Abbess', 'Horty', 'Patrol', 'Lonna', 'Alfonso', 'Haddaway', 'Schisler', 'Ehrlich', 'Walkup', 'Bare', 'Egil', 'Hurra', 'Torpedo', 'Gartnerlosjen', 'Spellemannprisen', 'Kovenant', 'Kristopher', 'Schau', 'Hegerberg', 'Satan', 'Concord', 'Francy', 'Boland', 'Heikki', 'Sarmanto', 'Bulgakov', 'Margarita', 'Taganka', 'Vysotsky', 'Mahoney', 'Stromme', 'Koren', 'Marley', 'Croix', 'Guerre', 'Stanislas', 'Zeebrugge', 'Gen', 'Danville', 'Ox-', 'Jazmine', 'James-', 'Arbour', 'Rom*o', 'Dallaire', 'Holden', 'Lime', 'Alderman', 'Toxteth', 'Aldermen', 'Flinders', 'Ibbetson', 'Operation', 'Galgo', 'Guardia', 'Albufeira', 'Pa*s', 'Pascua', 'Rawlings', 'Lascelles', 'Ornette', 'Tutu', 'Vietnam', 'Lewisburg', 'Penitentiary', 'Hoffa', 'Dionne', 'Hubbard', 'UDA', 'Irvine', 'UVF', 'Constabulary', 'RUC', 'Yul', 'kitchen', 'Wayfare', 'Tavern', 'Rubicon', 'Rotisserie', 'Wine', 'Napa', 'Sammy', 'Hagar', 'Paseo', 'Mill', 'Tolan', 'Phoenicia', 'Hellas', 'Eupolemus', 'Artapanus', 'Tot-Hermes', 'Egyptian', 'Musaeus', 'Brownstairs', 'Morningside', 'Valea', 'Ask', 'Tapili', 'Really', 'DO', 'Xilie', 'F*ng', 'Ch*oy*n', 'Tao', 'Ching', 'M*sh*', 'Sh*oji*n', 'Jiuling', 'J*xi*n', 'Buckmaster', 'Worstead', 'Chasetown', 'Gravesend', 'Northfleet', 'XI', 'C', 'Challenge', 'Erinsborough', 'Declan', 'Napier', 'Kelling', 'Shephard', 'Baigent', 'Adoration', 'Magi', 'Apse', 'Visitation', 'Nativity', 'Lembecksburg', 'Vikings', 'Klaus', 'Dell', 'Portsmouth', 'Went', 'Hut', 'Minority', 'Entrepreneur', 'Roundtable', 'McCain', 'Khizr', 'Humayun', 'Opzij', 'Infidel', 'Enterprise', 'Muravchik', 'Nomad', 'Ayaan', 'Hooper', 'American-Islamic', 'Hitchens', 'Islamist', 'mainland', 'Grade', 'Wimpole', 'McCartney', 'Mews', 'Italic', 'Pallas', 'Pausanias', 'Dionysius', 'Halicarnassus', 'Arcadia', 'Hounds', 'Hunsdon', 'Hunsdonbury', 'Rabbits', 'Scene', 'Kolb', 'Justman', 'Unger', 'Warhols', 'Kline', 'Warhol', 'Anaheim', 'Jean-S*bastien', 'Gigu*re', 'McElhinney', 'Miikka', 'Kiprusoff', 'Flame', 'Reserve', 'Annise', 'Municipal', 'Courts', 'Pastoral', 'Hargrove', 'Niles', 'Frasier', 'Enzo', 'Mathilda', 'DeCagny', 'Halberg', 'KCN', 'Hercule', 'Poirot', 'Glaum', 'Yorke', 'Cartwright', 'Chandler', 'Kirkwood', 'Billa', 'Senthil', 'Possible', 'Chilean', 'Parras', 'Jaivas', 'Plegaria', 'Prayer', 'Bohemiae', 'Moraviae', 'Silesiae', 'Germaniae', 'Hollar', 'Prague', 'Jackman', 'Coman', 'Activist', 'Rancid', 'Bastards', 'Have', 'Bernadine', 'Belliveau', 'Yarmouth', 'Heartz', 'Liberals', 'Spinney', 'Eaton', 'Cyprus', 'Karras', 'Brighella', 'Amazement', 'Luzio', 'PTB', 'Luiz', 'In*cio', 'Dilma', 'Rousseff', 'PTB/PDT', 'PSDB', 'Serra', 'Chants', 'Odyssey', 'Coffeehouse', 'Atom', 'Ant', 'Diddly', 'Yakky', 'Messick', 'Edmiston', 'Blanc', 'Frees', 'Stang', 'Weldon', 'Gosfield', 'Hokey', 'Wolf', 'Harvick', 'Larson', 'Metropolis', 'Destruct', 'Nefarious', 'Britney', 'Gears', 'Nika', 'Futterman', 'Annihilation', 'Solana', 'Nuko', 'Rino', 'Kawashima', 'Kei', 'Mizusawa', 'CD/PSP/anime', 'Machi', 'Yuihime', 'Airi', 'Hayata', 'Goddard', 'Meek', 'Singles', 'Chart', 'Hermit', 'Decalogue', 'Nurses', 'Leonhard', 'OCLC', 'Correspondence', 'Includes', 'Minnie', 'A.', 'Philips', 'Sessions', 'Shapey', 'Steuermann', 'Hindemith', 'Mamlok', 'Schoenberg', 'Webern', 'Kauffmann', 'Farewell', 'H*lo*se', 'Renaissance', 'Eloisa', 'Dry', 'Tube', 'Odeon', 'Vangelis', 'Depeche', 'Warby', 'Shiflett', 'Vig', 'Paice', 'Babar', 'Comme', 'Voleur', 'Dhavernas', 'Pointe-Claire', 'Shocked', 'Garry', 'Glines', 'Goebbels', 'Hitler', 'Bodleian', 'Nugent-Temple-Grenville', 'Buckingham', 'Grenville', 'Egertons', 'Grenvilles', 'Rainshaw', 'Rothwell', 'Craiglockhart', 'Stinger', 'Wallflowers', 'Tigerlily', 'Ophelia', 'Sabbath', 'Auf', 'Nastasia', 'Dogs', 'Furstenfeld', 'Strangest', 'Feitlowitz', 'Bennington', 'Lexicon', 'Legacies', 'Golpes', 'Blows', 'Borinsky', 'Yankees', 'Ramirez', 'D*ah*ts**h', 'Pretty', '*1846', '*1905', 'Bachee*tche', 'Pawnee', 'Arapaho', 'Cheyenne', 'D.C', 'Ashak*e', 'Plenty', 'Coups', 'Monologues', 'Denis', 'Ospina', 'Whitmer', 'Osgood', 'Koopmans', 'Birkhoff', 'Montalva', 'Jim*nez', 'Colegio', 'Universitario', 'Ingl*s', 'Universidad', 'Perrenot', 'Granvelle', 'Callendar', 'Declaration', 'Clermont', '/*r*nts*k/', 'Apprentice', 'Leeza', 'Raveena', 'Roja', 'Anu', 'Idaya', 'Kovil', 'Rhinoceros', 'Mahm*d', 'Muzaffar', 'Muhammad*b*d', 'Champaner', 'Pournelle', 'Prometheus', 'Survival', 'Beam', 'Pequod', 'Ergo', 'Sum', 'Diehr', 'Advocate', 'Harding', 'Tux', 'Wonderdogs', 'Jeopardy', 'McGoldrick', 'Cecile', 'Neuroesthetics', 'Zeki', 'Posen', 'Gagern', 'Liberalism', 'Plate', 'Argentine', 'Godoy', 'Technische', 'Hochschule', 'Depot', 'TNT', 'Ordnance', 'Works', 'Williamsport', 'Polaroid', 'Background', 'Interscope', 'Iovine', 'Kanye', 'Izaak', 'Nature', 'Conservancy', 'Fishers', 'Schwinden', 'Fishing', 'File', 'Horse', 'Funeral', 'Action', 'Cookbook', 'Mom', 'D.J', 'Frankhauser', 'Universalist', 'Otadafevwerha', 'Deodemise', 'Nigeria', 'Olusegun', 'Obasanjo', 'Olabisi', 'Onabanjo', 'Mureje', 'Okpe', 'Delta', 'Nigerian', 'Major-General', 'Aguiyi-Ironsi', 'Kaduna', 'Abeokuta', 'Chenciner', 'Smale', 'Seaborn', 'Harrell', 'Bucharest', 'Stroescus', 'Moldavia', 'Ioan', 'Stroescu', 'Gavriil', 'Fusion', 'SuperDraft', 'Miam', 'Gorter', 'Columbus', 'Crew', 'Swati', 'Sandhya', 'Mridul', 'Kamlesh', 'Vidyut', 'Jamwal', 'Rachana', 'Anaitha', 'Buono', 'Derman', 'Verniero', 'Wilentz', 'Lapin', 'Lappish', 'Lindman', 'Petelius', 'Nils', 'Vesa', 'Vierikko', 'Jakob', 'Ervasti', 'Oulu', 'MusicOMH', 'Zaleski', 'Sheels', 'Superintendent', \"'Farmer\", 'Cafferty', 'Duddingston', 'Highbury', 'Dickov', '*1', 'E.M.L.Y..', 'Aachen', 'Honnef', 'Nazi', 'Eifel', 'Moor', 'Jermaine', 'Steal', 'Devi', 'Shanice', 'Lay', 'Almost', 'Identity', 'Gladiators', 'Kabir', 'Cosker', 'Shahadat', 'Hossain', 'Syed', 'Rasel', 'Talha', 'Jubair', 'Averis', 'Imran', 'Alok', 'Kapali', 'Riadh', 'SNC-Lavalin', 'MUHC', 'Chebl', 'Pakanich', 'Times-Picayune', '.226', 'Triple-A', 'Wings', 'Mientkiewicz', 'Landay', 'Flats', 'Creasey', 'Baptist', 'Mirow', 'Landgrave', 'Leiningen-Falkenburg-Dagsburg', 'Mecklenburg-Strelitz', 'Frogs', 'Cleavon', 'Blazing', 'Saddles', 'Foxx', 'Olivier', 'Assayas', 'Roback', 'Pompeo', 'Shonda', 'Rhimes', 'Spotland', 'Jobson', 'Deane', 'Dana', 'Kingston', 'Isle', 'Hofstra', 'Pitino', 'Basketball', 'Knicks', 'Marine', 'Verstappen', 'Driver', 'Spock', 'Orion', 'Weinstein', 'Shepard', 'Mercury-Redstone', 'Trek', 'Hannastown', 'Marketing', 'Bazant', 'Sporting', 'Wing', 'Stop', 'Simpsons', 'Cruddy', 'Marino', 'Catholicism', 'Gianni', 'Twentieth', 'Humanity', 'Negro', 'Sgt', 'Lt', 'Klish', 'Size', 'Anatolievich', '***********', '*****', 'Samoshkina', 'Berdyansk', 'Anatoly', 'Elkhotovo', 'Shivers', 'Jes*s', 'Skink', 'Tyree', 'Speck', 'Skip', 'Corona', 'Rockin', 'Juke', 'Earwig', 'Oil', 'Lourie', 'Medley', 'Snake', 'Moan', 'Ftorek', 'Stingers', 'Gartner', 'Melrose', 'Illuminating', 'Engineering', 'Zurich', 'Hyams', 'Raras', 'T*llez-Pon', 'Dona', 'Yo', 'Bemberg', 'Ines', 'Canal', 'Pawns', 'Aguiar', 'Seijas', 'Petulia', 'Tates', 'Eye', 'Winningham', 'Rashaun', 'Ayler', 'Feagler', 'Denver', 'Broncos', 'ESPN', 'Rimp', 'Lanier', 'Pirates', 'Lerner', 'Mileti', 'Cavaliers', 'Cavs', 'Kristal', 'Kit*b', '*******', 'Animals', 'Al-Kind*', 'Avicenna', 'S*n*', 'Healing', 'Eydie', 'Gorme', 'Alcala', 'Barcomb', 'Hillside', 'Wixted', 'Segundo', 'Parenteau', 'Burbank', 'Smoke', 'Revue', 'Hands', 'Beer', 'Dickson', 'WAZ', 'Tilston', 'Imfurst', 'Mandora', 'NewNowNext', 'Logo', 'Infinity', 'Steck', 'Pandora', 'RuPaul', 'Channing', 'Snatch', 'Tatjana', 'Juri*', 'Tyra', 'H.D.G', 'Leveson', 'Bonham', 'Alexie', 'Mitzi', 'McCall', 'Asuka', 'Grapper', 'Dillards', 'Harford', 'Dieth', 'Parry', 'Anglo-Welsh', 'SAWD', 'Pulitzer', 'Autobiography', 'Sherwin', 'McCaughey', 'Pitmon', 'Kerosene', 'Johnette', 'Napolitano', 'Concrete', 'Bonebrake', 'L.A.', 'Gelb', 'Lobos', 'Genet', 'Screens', 'Gray/The', 'Suicide', 'Geraldine', 'Nye', 'Madwoman', 'Chaillot', 'Latvia', 'Yiddish', 'Banyard', 'Comic', 'Strips', 'Features', 'Syndicate', 'Gottfredson', 'Mouse', 'Rushbrooks', 'Ebenezer', 'Selina', 'Driscoll', 'Argent', 'Guaranty', 'IRB', 'Pearse', 'Dahlia', 'Axe', 'Cam', 'Centreville', 'Shock', 'Plenette', 'Meadowbrook', 'Havendale', 'Dyche', 'Ballin', 'Steadman', 'Libraires', 'Busters', '*ron', 'Passerelle', 'Sermage', 'Ears', 'Lire', 'Poche', 'Gradignan', 'Arima', 'Kazuhide', 'Tadakatsu', 'Mino', 'Teruzumi', 'Mitsunari', 'Sekigahara', 'Moe', 'Perthshire', 'Henry-Anderson', 'Blyth', 'TR', 'Taft', 'Yuk', 'CRHK', 'Cheng', 'Jing', 'Epistola', 'Hardt', 'Concilium', 'Constantiense', 'Discrepantia', 'Helmstadt', 'Sorbonne', 'Eberbach', 'Wiesbaden', 'Eckard', 'Worms', 'Sommerfeldt', 'Historisches', 'Jahrbuch', 'XXX', 'Shinsuke', 'Charly', 'McGuinness', 'TakeOver', 'Tyson', 'Jonathon', 'Chino', 'Nic', 'Testoni', 'Nash', 'Woodley', 'Rosyln', 'Oades', 'Crowley', 'Unwin', 'Batcave', 'Jekyll', 'Dynamic', 'Duo', 'Joker', 'Penguin', 'Riddler', 'Freeze', 'Egghead', 'Shame', 'Clock', 'Catwoman', 'Tutlings', 'Hindus', 'Muslims', 'Mazhar', 'Gajanan', 'Jagirdar', 'Padosi', 'Bajaj', 'Barua', 'Devdas', 'Homi', 'Wadia', 'Frontier', 'Mail', 'Mehboob', 'Dizney', 'Handicap', 'Senior', 'Commandant', 'Auxiliary', 'Brewers', 'Cardinals', 'Brewer', 'Ireatha', 'Savoie', 'Kristy', 'LifeCare', 'Pou', 'Kyunki', 'Pears', 'Britten', 'Christa', 'Rink', 'Wildomar', 'Cake', 'Guillaume', 'Maturinus', 'Jinja', 'Oloya', 'SC', 'Rayon', 'Passe', 'Gulu', 'Chanthaburi', 'Bontang', 'Ugandan', 'Prytz', 'Liv', 'Ullmann', 'Sydow', 'Language', 'Sven', 'Nykvist', 'Ox', 'Gammel-Maja', 'Peter-No-Tail', 'Americat', 'Pelle', 'Svansl*s', 'Amerikatt', 'Elmer', 'Woodbury', 'Grande', 'Richelieu', 'Roses', 'Sandow', 'Rinso', 'Omo', 'Baird', 'Miguel', 'Dominguez', 'PDP-Laban', 'Lito', 'Atienza', 'Cotabato', 'Lowth', 'Zeunius', 'Gesner', 'Bentley', 'Glossarium', 'Britannicarum', 'Syllabus', 'Etymologicus', 'Veteris', 'Britanniae', 'Iberniae', 'Romanorum', 'Arulnithi', 'Tamizh', 'Bindu', 'Madhavi', 'Malar', 'Ashrita', 'Shetty', 'Bagavathi', 'Perumal', 'Ramanujam', 'Esakki', 'Nassar', 'Hippy', 'Lahiri', 'Bhaskar', 'Raghavan', 'Ganesh', 'Raghavendra', 'Jayaprakash', 'Subhash', 'Aadukalam', 'Naren', 'Narasimhan', 'Manobala', 'Chettan', 'Sabesh', 'Pandu', 'Vatti', 'Scissor', 'Suddaley', 'Mohan', 'Raman', 'Kundizhakesi', 'Sriranjini', 'Ponnamma', 'Aruldoss', 'Abhyudaya', 'Gupta', 'Navneet', 'Azhagusundaram', 'Irumbu', 'Kottai', 'Murattu', 'Singam', 'Chimbudevan', 'Mareesan', 'Dhanush', 'Sovereigns', 'Biomerge', 'Dobermon', 'Chiaki', 'Konaka', 'Tamers', 'TYO', 'S.J', 'Emmanuel', 'Lanka', 'Vanni', 'Texan', 'Root', 'Growl', 'Cork', 'Waterford', 'U21', 'Givens', 'Tolka', 'Alwis', 'Ceylon', 'Raul', 'Viel', 'O', 'Bienvenido', 'Mundial', 'Sandoval', 'L*', 'Bu', 'Terman', 'Feynman', 'Nobel', 'Spearman', 'Jean-Louis', 'Cordemoy', 'Marc-Antoine', 'Laugier', 'Baroque', 'Algarotti', 'Saggio', 'Harum', 'Sundal', 'Malam', 'Scent', 'Tuber', 'Fragrant', 'Vampire', 'Shuhaimi', 'Karin', 'Meriam', 'Inter-league', 'Saskatoon', 'Shieks', 'Portland', 'Buckaroos', 'PCHL', 'Aitkenhead', 'Marsdin', 'DEO', 'Supergirl', 'Snapper', 'Lena', 'Burgess', 'Carla', 'Gugino', 'Alaouite', 'Alawite', 'Moroccan', 'Isly', 'Businessman', 'Saint-Exup*ry', 'Bridges', 'Aviator', 'Karelsprivilege', 'Forteman', 'Liar', 'Floats', 'Simi', 'Karnes', 'Piro', 'Monomi', 'Lew', 'Haile', 'Noel', 'McDade', 'Bratz', 'Brianne', 'J', 'Rockstar', 'B5', 'U', 'Cornelia', 'Lubberts', 'Maniratnam', 'Kannada', 'Nenjathai', 'Killathe', 'Sindhu', 'Bhairavi', 'Filmfare', 'Crestwood', 'WLS', 'Miencke', 'Gov', 'Terrence', 'Cronenberg', 'Spider', 'Redgrave', 'Punishment', 'Samson', 'Kirchwey', 'Hurd', 'Hodges', 'Eleventh', 'Kovachevich', 'Bhoomiyude', 'Avakashikal', 'Vaikom', 'Chandran', 'Korehito', 'Koretsugu', 'Jun', 'Iwasaki', 'Nobuteru', 'Kajiro', 'Yamamoto', 'Ishir*', 'Skidmore', 'CauseCentric', 'Fellowship', 'Cotswolds', 'Super-Heroes', 'Spectacular', 'Adventure', 'Comics', 'Beeton', 'Acton', 'Cookery', 'Families', 'Turnbo', 'Poro', 'Apex', 'Bears', 'Payton', 'EU', 'Powell', 'Article', 'Bantry', 'Saturn', 'Transformed', 'Breathnach', 'Traditions', 'Bunny', 'Eostre', 'I.', 'Steyn', 'Afrikaner', 'Porthminster', 'Durr', 'Anglo', 'Boer', 'Housewives', 'Donas', 'Desesperadas', 'RedeTV', 'Elisa', 'Fernandes', 'Kamp', 'P*ginas', 'Vida', 'Um', 'Anjo', 'Caiu', 'C*u', 'Celebridade', 'Bel*ssima', 'Am*rica', 'Amor', 'Pequena', 'Travessa', 'Seus', 'Olhos', 'Kanti', 'Amanzimtoti', 'Sweet', 'Zulu', 'Shaka', 'Nandi', 'Sheena', 'Hiroko', 'Mita', 'Lohr', 'Peoria', 'Avenue', 'Monet', 'Manet', 'Degas', 'Cassatt', 'Electra', 'Havemeyer', 'Louisine', 'Besses', 'Grimethorpe', 'Colliery', 'Gaye', 'Entertainments', 'ENSA', 'Rudy', 'Starlita', 'Handsome', 'Juanna', \"O'Mara\", 'Colts', 'Reverie', 'Cove', 'Bar', 'Ullholm', 'Ombudsman', 'M*nsson', 'Ulf', 'Nordin', 'Dugan', 'Miyagi', 'Kreese', 'Towers', 'GTS3', 'Javier', 'Quiros', 'Audi', 'All-America', 'Bellisari', 'Arbor', 'Brandeis', 'Anal', 'Cunt', 'Ordonez', 'Shit', 'Scum', 'Turchi', 'Veronese', 'Bassano', 'Seham', 'Sergewa', 'Moreno-Ocampo', 'Quarry', 'Cary', 'Planet', 'Caveman', '*elezn*', 'Backley', 'Crawley', 'Croydon', 'Geography', 'Ponsonby', 'Biddulph', 'Donetsk', 'Mircea', 'Lucescu', 'Greenlee', 'Euthanasiast', 'Lentini', 'PS', 'Essence', 'Perez', 'Patti', 'Shakedown', 'Eastman', 'Wyler', 'Soap', 'Bubble', 'Newsround', 'Nadine', 'Popular', 'Logie', 'Christel', 'Laude', 'Nordhausen', 'Tchaikovsky', 'Concerto', 'No.1', 'Yakhlakova', 'Petite', 'Boht', 'Mothers', 'Understudy', 'Andersson', 'H*kan', 'Chalon-Auxerre', 'Li*ge', 'Vienne', 'Emmaline', 'McDoulet', 'Lamont', 'Academician', 'Dear', 'Sevilla', 'Carranza', 'Pizju*n', 'Beech', 'Appalachian', 'Winston', 'Talladega', 'Aftermath', \"'aftermath\", 'Flansburgh', 'Artificial', 'Chao', 'Brat', 'Costanza', 'Imperiale', 'Genga', 'Della', 'Rovere', 'Eleanora', 'Bartolo', 'Dough/Ray/Me', 'Do/Re/Mi', 'DeRogatis', 'Nirvana', 'Erlandson', 'Threni', 'Krenek', 'Zollenkopf', 'Deroubaix', 'Cu*nod', 'Scharbach', 'Chor', 'Sinfonieorchester', 'Piovesan', 'Boulez', 'WPLP-AM', 'McCarthy', 'KLIF', 'Fran*oise', 'Cannet-des-Maures', 'Suresnes', 'Bourbon-Two', 'Sicilies', 'Bourbon', 'Joseph-Pierre', 'Ranieri', 'Zamoyska', 'Giez', 'Khloe', 'Therea', 'Marvin', 'Bassman', 'Cover', 'Feel', 'Stills', 'Palmer/Payne', 'Oldfield', 'Ruuka', 'Karitaake', 'Tewaaki', 'Katoatau', 'Deisi', 'Salis', 'Salis-Soglio', 'Westman', 'Transportation', 'Brennan', 'Nockalls', 'Wilkins', 'Kiel', 'Stearns', 'Deke', 'Addalyn', 'Pollitt', 'Steckler', 'Chef', 'Choppers', \"O'Day\", 'Albertina', 'Odin', 'LAFD', 'PST', 'CPR', 'Mallet', 'Lara', 'Rawhide', 'stuntwoman', 'Enquirer', 'Bambaci', 'Barcellona', 'Pozzo', 'Gotto', 'Sicily', 'Mondo', 'Gallipoli', 'Puglia', 'Sicilia', 'Penders', 'Canberra', 'Leia', 'Clow', 'Maclehose', 'Strikeforce', 'Ricehouse', 'Saas', 'Fee', \"Hawai'i\", 'Shapiro', 'Nibbles', 'Lilford', 'Huneric', 'Numidia', 'Augustine', 'Hippo', 'Alypius', 'Mavis', 'Bel', 'Geddes', 'Fires', 'DeGeneres', 'Herrings', 'Greisen', 'Esalen', 'Omega', 'Ojai', 'Belford', 'Novelist', 'Fairclough', 'Sasaban', 'Joaquin', 'Vivencio', 'Madjapahit', 'Soledan', 'Balagtas', 'Namayan/Pasig', 'Kalangitan', 'Tondo', 'Gambang', 'Lontok', 'Bernanke', 'Quantitative', 'Kyoshitsu', 'Keiki', 'Ryoteiki', 'kinyu', 'kanwa', 'Nikkei', 'Shinbun', 'Marsaxlokk', \"O'Donnell\", 'McFarlane', 'Roo', 'Chesterfield', 'Rushbury', 'Muggleton', 'Yeomans', 'Blythe', 'Eek', 'Elmo', 'Scooter', 'Thunderlizards', 'Beehive', 'Galapagos', 'Bulgarian', 'Konstantin', 'Asen', 'Uro*', 'Serbia', 'Du*an', 'Tsar', 'TSN', 'Beirness', 'Dutchyshen', 'Razaf', 'Yankee', 'Tan', 'Hit', 'Parade', 'Queens', 'Spots', 'Lynda', 'Tiger', 'Tessie', 'Brookfield', 'Comet', 'Thimmig', 'Rorem', 'Schwantner', 'Rands', 'Toussaint', 'Ava', 'DuVernay', 'Selma', 'Isadora', 'Savannah', 'Hicks', 'Cherokee', 'Warialda', 'Wombats', 'Rabbitohs', 'Jaw', 'Cronulla', 'Prop', 'PCC', \"''this\", 'Kali', 'Mountford', 'MacGregor', 'Transport', 'Macgregor', 'Fist', 'Jeep', 'Tulsa', 'ESPN.com', 'AIDS', 'Ender', 'Wiggin', 'Priya', 'Clifford', 'Paley', 'Dolores', 'Ruby', 'Preece', 'Grim', 'Think', 'Copland', 'Carrothers', 'Grenadier', 'Snide', 'Remarks', 'Watrous', 'Avis', 'Ruthie', 'Sappho', 'Zionist', 'Pepwall', 'Churchyard', 'Castell', 'Pleasure', 'Inversions', 'Custom', 'Schachner', 'Glengarriff', 'Harrow', 'Kirckman', 'Neck', 'Frog', 'Millhouse', 'Milly', 'S.E.I.Z.E', 'Trout', 'Guster', 'Echo', 'Blueberry', 'Omundson', 'Lassie', 'Lippman', 'Clancy', 'Overell', 'Errol', 'Brisbane', 'Antonessen', 'Nigger', 'Packard', 'Felton', 'Bequest', 'Brack', 'Hoff', 'Aphrodite', 'Aeneas', 'Imlach', 'SV', 'Germinal', 'Beerschot', 'Suriname', 'Ottobeuren', 'Basilica', 'Tax', 'Collector', 'Despenser', 'Marches', 'Boroughbridge', 'Gloucester', \"'the\", 'Acre', 'CWT', 'Boeing', 'Jet-A', 'Eyewitness', 'Lonely', 'Greco', 'Railroad', 'Louie', 'Branson', 'Sussudio', 'Cimarron', 'Laramie', 'Wyoming', 'Fuller', 'Neuburg', 'Heidelberg', 'Innsbruck', 'Wilderer', 'Kapellmeister', 'Hema', 'Malini', 'Chachi', 'Parkinson', 'Bowie', 'Cosmopolitan', 'Shorty', 'Templeton', 'Dagworth', 'Christiana', 'Kirsten', 'Bolm', 'Kallur', 'Cuddihy', 'Ailis', 'McSweeney', 'Derval', 'Osaka', 'WBO', 'Akinwande', 'Trainer', 'Mashiro', 'Takumi', 'Aoi', 'Yumemiya', 'Normandy', 'Douglass', 'Manassas', 'Strozier', 'Booker', 'Jr', 'Harrowden', 'Dieu', 'Brooksby', 'Lizzy', 'Beersheba', 'Newspaper', 'Hazman', 'Darom', 'Regionals', 'Kennedi', 'Edney', 'Annabelle', 'Jaramillo', 'Latina', 'Commissioners', 'Matzinger', 'Alexey', 'Kotlov', 'Cosgrave', 'Governor-General', 'Credence', 'Garda', 'Carmelite', 'Vigilius', 'Trento', 'A.D', 'Brenzoni', 'L*on', 'Nicaud', 'Flor*s', 'Come', 'Sexy', 'Boisrond', 'Died', 'Kelley', 'Roos', 'Dandieu', 'CCC', 'Ingalls', 'Kick-Ass', 'Fennel', 'Daggs', 'Teddy', 'Counselor', 'Zelikow', 'Armitage', 'Homeland', 'Mueller', 'Convening', 'Goon', 'Chew', 'Ming', 'Cippullo', 'Bassingbourn', 'Woodsprite', 'Topaz', 'Wishes', 'Hughes-Hallett', 'Villette', 'Silence', 'Paynter', 'Passion', 'Aline', 'Bellows', 'Davey', 'Sloan', 'Dare', 'MG', 'Icon', 'Oseary', 'Iconix', 'Brand', 'Material', 'Romandie', 'Wiggins', 'Editor-in-Chief', 'MODE', 'Meade', 'Bradford', 'Fearless', 'Fillan', 'Inchcolm', 'Mortimers', 'Aberdour', 'Randolph', 'Moray', 'Womyn', 'Lilith', 'Indigo', 'Patels', 'Heche', 'Pfalz-Veldenz', 'Reformed', 'Principality', 'Juliette', 'Valois', 'Huguenots', 'Cherubino', 'Figaro', 'Elvira', 'Philine', 'Mignon', 'Berthe', 'Nedda', 'Pagliacci', 'Gilda', 'Rigoletto', 'Infanta', 'Cid', 'In*s', \"L'Africaine\", 'Mim*', 'M.J.', 'McGlynn', 'Kusanagi', 'Bouncer', 'Steppin', 'Mum', 'Word', 'Gielgud', 'GMTV', 'Huws', 'Isherwood', 'Prabhavananda', 'Aldous', 'Huxley', 'Champ', 'Car', 'Mid-Ohio', 'Rockingham', 'Ang', 'Lalaking', 'Nagmahal', 'Sa', 'PHR', 'Zephy', 'Maurer', 'Galicia', 'Carrington', 'Laredo', 'Neptune', 'Weevil', 'Capra', 'Lilly', 'Torvioll', 'Hamza', 'Kastrioti', 'Muzaka', 'Zecharia', 'Gropa', 'Emanueli', 'Musachi', 'Pasha', 'Addison', 'Dusker', 'Blubs', 'Durland', 'Traveler', 'Waddles', 'Northwest', 'Kanagawa', 'Prefecture', 'Hatanaka', 'Takeo', 'Sasaki', 'Suzuki', 'Roncalli', 'Verona', 'Eugenio', 'Italian', 'Spanish', 'Southward', 'Mahomedans', 'Samas', 'Saminagar', 'Nagar', 'Thatha', 'Sindh', 'Wala', 'Samma', 'Chuda', 'Wamansthali', 'Lansing', 'Famer', 'Chance', 'Saier', 'Lichtenstein', 'Aniston', 'Lev', 'Sanskrit', 'Crafts', 'Dorset', 'Mee', 'Lester', 'Clurman', 'Ding', 'Maguire', 'Ebdon', 'REF', 'Cugat', 'Pleshette', 'Trish', 'Chipper', 'Topps', 'Iran', 'Tehran', 'Khomeini', 'Isomgosiono', 'Signer', 'NA', 'Sachem', 'Skipper', 'Nottoway/Chero-en-ha-ka/Iroquois', 'Map', 'Shawnee', 'Susquahanna', 'Donoghue', 'Breed', 'Cheney', 'Dido', 'Fiji', 'Hebrides', 'Islanders', 'Bokenham', 'Jeroboam', 'Shallum', 'Jehu', 'Columbia-TriStar', 'Canton', 'Conton', 'Stepford', 'Kidman', 'Walken', 'Fairy', 'Pinocchio', 'Hoodwinked', 'Cari', 'Ely', 'third', 'Sylvester', 'Harley-Davidson', 'Motorcycle', 'Hockley', 'Nightall', 'Scurll', 'Sefton', 'Coureval', 'Accustomed', 'Character', 'Actresses', 'Nissen', 'Pelham', 'Seoul', 'Mongryong', 'Gubi', 'N*dir', 'Pudi', 'Paste', 'Gender', 'Chang', 'Halloween', 'Ready', 'Arquette', 'Caan', 'Platt', 'Friends', 'Larroquette', 'Baranski', 'Happy', 'Ally', 'McBeal', 'Survivors', 'Quirkes', 'Quirke', 'Shine', 'IRA', 'Seminick', 'Glendale', 'Kettle', 'Main', 'Ascania', 'Margraviate', 'Winzenburg', 'Prince-Archbishop', 'Bremen', 'Anhalt', 'Saxony', 'Magna', 'Carta', 'Vols', 'Sugar', 'Fairview', 'Boulder', 'Cockrell', 'Confessin', 'Journalist', 'Goebel', 'Doublefinger', 'Fruit', 'Baton', 'Visual', 'Graphic', 'Jeb', 'Muffin', 'Mallabar', 'Grosso', 'Arvore', 'Ride', 'Martina', 'Hicktown', 'Amarillo', 'Testa', 'XXIII', 'Montini', 'Remy', \"O'Grady\", 'Loose', 'Juno', 'BRIT', 'Spaniards', 'Quadra', 'Angry', 'Kefauver', 'Walters', 'Ada', 'Lollipop', 'Zelda', 'Sears', 'Raffaele', 'Egidio', 'Maulo', 'Conselman', 'Sheekman', 'Tugend', 'Yellen', 'Haley', 'Patsy', 'Arline', 'Dixie', 'Dunbar', 'Bachmann', 'Evolution', 'Twitter', 'Rainn', 'Shrute', 'MGM', 'Double', 'Trouble', 'Fielding', 'Haunted', 'Sayid', 'Lasimone', 'AOL', 'Spinner.com', 'Pareles', 'Wan', 'Be', 'Startin', 'Somethin', 'P.Y.T', 'Mitt', 'Romney', 'P.A.', 'Ike', 'Alito', 'Jakac', 'Miran', 'Jarc', 'Podbev*ek', '*argo', 'Marij', 'Kogoj', 'Ljubljana', 'Zandt', 'Lilyhammer', 'Trond', 'Fausa', 'Aurv*g', 'Torgeir', 'Lien', 'Framed', 'Krebs', 'Holt', 'Dileep', 'Devasena', 'Plus', 'Period', 'Aarambh.She', 'Karthika', 'Radha', 'Ambika', 'Thulasi', 'Rams', 'Kezar', 'Gauguin', 'Cy', 'Twombly', 'Dubuffet', 'Jean-Michel', 'Basquiat', 'Beuys', 'Petyr', 'Littlefinger', 'Baelish', 'Cersei', 'Bran', 'Winterfell', 'Kingsroad', 'Lysa', 'Vale', 'Bronn', 'Baratheon', 'Dragonstone', 'Alvingham', 'Melsa', 'Market', 'Stainton', 'Grosteste', '-metropolitan', 'Esposito', 'Bernie', 'Progress', 'Lyndon', 'Nicolls', 'Rensselaer', 'Col', 'Ottmar', 'Hitzfeld', 'UEFA', 'Swissporarena', 'Lucerne', 'G*khan', 'Inler', 'Kosovo-born', 'Xherdan', 'Shaqiri', 'Seahawks', 'Mayhew', 'Lewand', 'Monocoupe', 'MSL', 'Edsel', 'Ninety-Nines', 'Earhart', 'RCM', 'String', 'Quartet', 'Roth', 'Harpsichord', 'Glickman', 'Aulos', 'Cleaver', 'Eug*nie', 'Sigmund', 'Freud', 'Constantinovna', 'Saward', 'Resurrection', 'Daleks', 'Lockheart', 'Orwen', 'Ark', 'BPM', 'UFCF', 'Ferrozzo', 'K1', 'Lightweight', 'Vahram', 'Antioch-Armenia', 'Toron', 'Palestine', 'Nuys', \"D'Argostino\", 'O.J', 'Meolis', 'Goldman-Simpson', 'O.', 'Merian', 'Marrel', 'Nuremberg', 'Margaretta', 'Palladium', 'Britannia', 'Georgina', 'EastEnders', 'Bruno', 'Alban', 'Giacomo', 'Puccini', 'Entf*hrung', 'Serail', 'Wozzeck', 'Yentl', 'Shea', 'Method', 'Reininger', 'Astley', 'Mania', 'D', 'Bledsoe', 'Sainte-Marie', 'Hurons', 'Br*beuf', 'Xiangtan', 'Hunan', 'Fang', 'Nokia', 'En', 'Shi-ting', 'Lubiani', 'Yayuk', 'Basuki', 'Sandrine', 'Testud', 'Medvedeva', 'Nilsson', 'Huntington', 'Hardcore', 'Homecoming', 'Sandman', 'ECW', 'Alappuzha', 'Lok', 'Sabha', 'Nirmalananda', 'Ramakrishna', 'Varma', 'Valiya', 'Koithampuran', 'Mayurasandesa', 'Sandesh', 'Kavyam', 'Schuster', 'Cable', 'Drug', 'Chemical', 'Ade', 'Strong', 'Hermitage', 'Palazzo', 'Strozzi', 'Feuerman', 'Firenze', 'Exhibition', 'Kissinger', 'Absolut', 'Billikens', 'NSCAA', 'All-Region', 'USL', 'Anyhow', 'Halime', 'Dilruba', 'Mustafa', 'Whalers', 'Millen', 'C.J', 'Forrester', 'Sturdee', 'Garnett', \"'Come\", 'Editor', 'Currier', 'Spagna', 'Bernadette', 'Soubirous', 'Massabielle', 'Bassat', 'Izzy', 'Jacqui', 'Cunliffe', 'Smallwood', 'Finnigan', 'Groves', 'Michiko', 'Prozac', 'Didion', 'Jar', 'Dylan', 'Crimson', 'Stan', 'Mahtab', 'Umer', 'Naru', 'Naval', 'Annapolis', 'Eliot', 'Halverson', 'Curran', 'Oi', 'Vinegar', 'Tits', 'Andrei', 'Anatole', 'Marya', 'Algis', 'Budrys', 'Metal', 'Breakout', 'Legend', 'Sting', 'Hail', 'Hostage', 'Infiltration', 'Strucker', 'Squad', 'Paulsen', 'Brouhaha', 'S.H.I.E.L.D', 'Antarctica', 'Dashiell', 'Hammett', 'Falcon', 'Dunne', 'Lurene', 'Tuttle', 'Agamemnon', 'Achilles', 'McCallum', 'Bronfman', 'Opposition', 'Leader', 'Parizeau', 'Cowling', \"'Goldbelt\", 'Wildlife', 'Judiciary', 'Taxation', 'Ways', 'Means', 'Housing', 'Reapportionment', 'Amendments', 'Consumer', 'Governmental', 'Efficiency', 'Banking', 'Utilities', 'Isenberg', 'Governor-elect', 'Dokes', 'Rudolphina', 'Crofton', 'Conquering', 'Schaefer', 'Bresson', 'Dames', 'Bois', 'Boulogne', 'Lacombe', 'Roumagnac', 'Autant-Lara', 'Diable', 'Duvivier', 'Simenon', 'Steeman', 'Alexa', 'Mono', 'Aaron', 'Lack', 'Veruca', 'Salt', 'Resolver', 'Thongprasom', 'Buttermilk', 'Aspen', 'Highlands', 'Snowmass', 'Romance', 'Languages', 'Chicago.', 'Hilken', 'Kurina', 'Wellingrove', 'Innes', 'Haywood', 'Courier', 'Eastaughffe', 'Darling', 'Dalby', 'Surveyor-General', 'Coral', 'Stefano', 'Pessina', 'Ornella', 'Barra', 'Pharmaceutical', 'Wholesale', 'Gourlay', 'Fairweather', 'Pagni', 'Administrative', 'Franzoni', 'I.R.B', 'Brigade', 'Du', 'Zixu', 'Punches', 'Johson', 'Salter', 'Fury', 'Submission', 'Strikes', 'Dust', 'Communicator', 'Gipp', 'Knute', 'Rockne', 'Rolls-Royce', 'Syrie', 'Bondage', 'Germanic', 'Mythology', 'Henrik', 'Sch*ck', 'Adalbert', 'Kuhn', 'Craft', 'Kempner', 'Comprehensive', 'Petrovna', 'Rostopchina', '********', 'Fyodor', 'Rostopchin', 'Invasion', 'Pyotr', 'Protasov', 'Ivanovna', 'Alexios', 'Petaluma', 'Alzheimer', 'Hagman', 'Karrs', 'Blum', 'Muses', 'Adamedes', 'Langston', 'Hough', 'Oundjian', 'Brahms', 'Consulate', 'Cultural', 'Spazio', 'Aperto', 'Bellinzona', 'Spiderman', 'Conservatoire', 'Spohr', 'Mendelssohn', 'Porn', 'Boreman', 'Throat', 'Door', 'Dearing', 'Appomattox', 'EFL', 'Fans', 'Knockaert', 'Antlll', 'Chauvel', 'Romani', 'Birdwood', 'Front', 'Aidan', 'BRIN-ah', 'Ashlyn', 'Babs', 'Seed', 'Pony', 'Mainland', 'B.A', 'J.D', 'Tulane', 'Dzurilla', 'Duplantis', 'Samiran', 'Rahul', 'Julekha', 'Sharma', 'Khonika', 'Debolina', 'Dutta', 'Nandalal', 'Pantu', 'Haldar', 'Ritwick', 'Chakraborty', 'Vocal', 'Pedagogy', 'Chorus', 'Line', 'Tarzan', 'Cathy', 'Fantasticks', 'Monty', 'Jenner', 'Chelmsley', 'Peel', 'Babbage', 'Cornish', 'Saco', 'Corner', 'Meuccis', 'Ryder', 'Laming', 'Truss', 'Posy', 'Auto', 'Parts', 'Eisenstadt', 'Esterh*za', 'Kleve-J*lich-Berg', 'Ravensberg', 'J*lich-Cleves-Berg', 'Syner', 'Wajima', 'Alamare', 'Lexington', 'Ocala', 'DiMauro', 'Thoroughbred', 'Migliore', 'Mig', 'Fitzgeralds', 'Kennedys', 'Kearns', 'Goodwin', 'DA', 'Brockton', 'Abe', 'Afraid', 'Felsher', 'Twenty', 'Tic-Tac-Dough', 'Goodson-Todman', 'Heatter-Quigley', 'Squares', 'Reg', 'Grundy', 'Scrabble', 'Allround', 'Fleck', 'Wanderers', 'Connolly', 'Slut', 'MFA', 'Granta', 'Kidder', 'Demick', 'Puteaux', 'Section', 'Purist', 'Am*d*e', 'Ozenfant', 'Jeanneret', 'Corbusier', 'Amedeo', 'Modigliani', 'Schloss', 'Monrepos', 'Neuwied', 'Wied', 'Orange-Nassau', 'Adolphe', 'King-Grand', 'Wa', 'Monumentum', 'Adulitanum', 'Adulis', 'Alvares', 'Houses', 'Corowa', 'RAN', 'Geelong', 'Montero', 'Pasqual', 'Enrile', 'Luzon', 'Emry', 'Hannay', 'Ironside', 'Greenmantle', 'Information', 'Beaverbrook', 'Masterman', 'Jin-pyng', 'Kuomintang', 'Ker', 'Chien-Ming', 'Taipei', 'Kung', 'Fu', 'Dunk', 'Deveraux', 'Janice', 'Rileys', 'Domingo', 'Ivonne', 'Obj*o', 'Bison*', 'Puritan', 'Percival', 'Winslows', 'Halifax', 'Autumn', 'Genady', 'Rozhdestvensky', 'Valery', 'Poliansky', 'Ponkink', 'Fedoseev', 'Takato', 'Seiko', 'Hata', 'Kettler', 'Biron', 'Malderone', 'Depp', 'Dimension', 'Norrington', 'Avi', 'Arad', 'Bana', 'Ghost', 'Rider', 'IWX', 'Freight', 'Motorsports', 'Tolsma', 'Raceway', 'Stacy', 'AS', 'Loges', 'Saint-Germain', 'Xhalax', 'Farscape', 'Cropper', 'Fool', 'Teesh', 'Trude', 'Envy', 'Poor', 'Guess', 'Porcaro', 'Whether', 'Baxterian', 'Kicking', 'Mule', 'Goose', 'Crudup', 'Homesick', 'Travelin', 'Adelphi', 'Cantor', 'Cim*n', 'God/Absolute', 'Infinite', 'Oreste', 'Baggies', 'Winin', 'Jelly-Roll', 'Stomp', 'Rowe', 'Boycott', 'Publicity', 'Limited', 'Valli', 'Orlons', 'Pacific-Asia', 'Fujisawa', 'Motohashi', 'Karuizawa', 'Matlock', 'Munsters', 'Rockford', 'Files', 'Mama', 'Sanctuary', 'Liguori', 'Nun', 'Hitchcock', 'Plot', 'Brokesby', 'McClelland', 'Metcalf', 'Work', 'Youth', 'McNally', 'Akiko', 'McCrae', 'Aster', 'Guinness-Taylor', 'Moyne', 'Mitford', 'Michonne', 'Tyreese', 'Them', 'Grady', 'Pfaffenthal', 'Dubuque', 'Fiddler', 'Howie', 'Cranford', 'Reel', 'Uwe', 'Benno', 'Polk', 'Wardwell', 'Bendectin', 'AT', 'Talks', 'Somebody', 'Sikand', 'Devika', 'Copeland', 'K-9', 'Slitheen', 'Raxacoricofallapatorius', 'Amneris', \"'Aida\", 'Oct', 'Goodbye', 'No.93', 'No.19', 'Gaitsch', 'Loeffler', 'Varner', 'Cerrone', 'Hiromitsu', 'Miura', 'Escudero', 'Welterweight', 'NZ', 'Kirk', 'Christchurch', 'Steinfort', 'Horsecreek', 'Ninja-m*rdare', 'Ninja', 'Assassin', 'McGreal', 'Kildare', 'Parochial', 'Mazine', 'Pearle', 'Smythe', 'Selke', 'Serbian', 'Sloga', 'Temerin', 'Novi', 'Sad', 'Nemanja', 'Buzad*ija', 'Turnbull', 'Squire', 'Bancroft', 'J.P.', 'Wooler', 'Winning', 'Hazard', 'Shakespeare*s', 'Cardenio', 'Quixote', 'Amalgro', 'Alcal*', 'Henares', 'Yahya', 'Goba', 'Lackawanna', 'Afghan', 'Muldoon', 'Shuttle', 'Ruvigny', 'Balthazar', 'Castelo', 'XIV', 'Md', 'Arlington', 'Mumbai', 'Bengali', 'Marathi', 'Bollywood', 'Sashadhar', 'Deb', 'Rattan', 'Bai', 'Shobhna', 'Samarth', 'Nutan', 'Edition', 'Klaudia', 'Leiningen-Hartenburg', 'Baden-Durlach', 'Magdalena', 'Wilhelmine', 'Holstein-Gottorp', 'Eutin', 'Felizitas', 'Leiningen-Dagsburg-Falkenburg-Heidesheim', 'Hagiographa', 'Lorimer', 'Browne', 'Bow', 'Portobello', 'Northfield', 'Bokova', 'UNESCO', 'Mayada', 'Ashraf', 'Director-General', 'Herodian', 'Lucilla', 'Lucius', 'Verus', 'Vicente', 'Julio', 'Alem*n', 'Velasco', 'Enrique', 'Cuenca', 'Marquez', 'Manzano', 'Polivoces', 'Ra*l', 'Ram*rez', 'Jorge', 'Rivero', 'Anda', 'Eulalio', 'Gonzalez', 'Piporo', 'Sebastian', 'Silvestre', 'Gaspar', 'Henaine', 'Capulina', 'Guzm*n', 'Huerta', 'BBY', 'Path', 'Lightsaber', 'Jedi', 'Warnock', 'Capital', 'Burtschi', 'Greenup', 'Elisha', 'Ames', 'Bromwell', 'Deckard', 'Auditor', 'Farmer', 'Ferris', 'Foreman', 'Heavey', 'Remann', 'Mormon', 'Squibb', 'Award-nominated', 'Verne', 'Dirk', 'AKA', 'Lega', 'Divisione', 'Cesena', 'Yuto', 'Nagatomo', 'Lauro', 'IHM30', 'VH1', 'Showcase', 'Showdown', 'Specht', 'Dragonology', 'Jenson', 'Ouran', 'Host', 'Tsubasa', 'Chronicle', 'Claymore', 'Linebarrels', 'Darker', 'Calhoun', 'Domenic', 'Palermo', 'Rickly', 'Shkreli', 'Marines', 'Generalul', 'Internal', 'Vlad', 'Filat', 'Moldova', '*tefan', 'Linnaeus', 'Ard', 'Starlight', 'Smokey', 'Cafe', 'Wilbur', 'Servants', 'Vol', 'kill', 'Headcleanr', 'Nevins', 'Fails', \"'Hineni\", 'Genesis', 'Rebbetzin', 'Boehringer', 'HSP', 'Henoch', 'Romberg', 'Lukas', 'Sch*nlein', 'Pannini', 'Panini', 'Franti*ek', 'H*ndl', 'Czech', 'Magatti', 'Aveline', 'Masucci', 'Odjn', 'Chetyre', 'Yoshikawa', 'Rinkie', 'Sharad', 'Shera', 'Dutt', 'Umayyah', 'Scholarship', 'DM', 'Myer', 'Ateneo', 'Sen.', 'Benigno', 'Ninoy', 'Quezon', 'Smarter', 'Kapkenda', 'Secondary', 'Timbilil', 'Cheruiyot', 'Demetrious', 'Exit', 'List', 'Asma', 'Jahangir', 'Pakistani', 'Musharraf', 'Alexius', 'Civitot', 'Byzantium', 'Manchee', 'Kwangtung', 'Yunnan', 'Comintern', 'Trotsky', 'Symbolism', 'Beat', 'CMJ', 'Klinge', 'Redondo', 'Kimberly', 'Elegie', 'Der', 'M*ll', 'Stadt', 'Tod', 'Alexanderplatz', 'Romy', 'Joplin', 'Puneeth', 'Rajkumar', 'Griselle', 'Juventus', 'Autoar', 'Automotores', 'Argentinos', 'S.A.I.C', 'Torino', 'Kryptonite', 'Watchtower', 'MacWorld', 'Gates', 'Christoph', 'Dernbach', 'Patria', 'Frenando', 'Soto', 'Arley', 'Wards', 'Liveries', 'Ryde', 'Oglander', 'Cotele', 'Infectia', 'Genosha', 'Nova', 'Weymouth', 'Liam', 'Aguire', 'Rosewood', 'Pieterse', 'Huw', 'Janel', 'MacBride', 'Biscay', 'Foudroyant', 'Jinpei', 'Clan', 'Ostoja', 'Venetia', 'Friuli', 'Zawisza', 'Czarny', 'Star*', '*ubov*a', 'Polish', 'Vladislav', 'Jogaila', 'Lubowla', 'V*g*jhely', 'Nov*', 'V*hom', 'Bucky', 'Cage', 'Asgard', 'Void', 'Sampson', 'Finkle', 'Budweiser', 'Sincerity', 'McKillip', 'Prophets', 'Chalcis', 'Evangelist', 'Judea', 'Illustrious', 'Commentary', 'Hebrews', 'Lalumi*re', 'Malignos', 'Bataille', 'Danson', 'Thy', 'Neighbor', \"'I\", 'Stepfanie', 'Armand', 'Assante', 'Hurt', 'Alston', 'Whalley-Kilmer', 'Swimming', 'Coaches', 'Southport', 'Authorities', 'Unit', 'Exposition', 'Reinvestment', 'Sternschnuppen', 'Shooting', 'WAB', 'Sankt', 'Florian', 'Marinelli', 'Ludwig', 'Ehrenecker', 'Sch*fler', 'Hueber', 'Helsinki', 'Alona', 'Kateryna', 'Brit', 'Jocelyn', 'Parcheesi', 'Calvinball', 'Strip', 'Ozy', 'Auckland', 'Parnell', 'Gustafson', 'Ouma', 'Seren', 'Umar', 'Akmal', 'Shahid', 'Afridi', 'Tikolo', 'Obuya', 'Cotentin', 'Rouen', 'Franks', 'Bahrain', 'Fangio', 'Andretti', 'Mansell', 'Kimi', 'R*ikk*nen', 'Jacks', 'Being', 'Becoming', 'Myrna', 'Loy', 'F*nf', 'Minuten', 'Amerika', 'Zsolnay', 'Verlag', 'Barrosse', 'Chamberlin', 'Char', 'DUI', 'Maura', 'McGiveney', 'Harpers', 'Courtwright', 'Hermione', 'Pinchgut', 'M*rquez', 'Paz', 'Ca*uelas', 'Ice', 'Ferber', 'Bridie', 'Ballantyne', 'Baranof', 'Salvation', 'Soroptimists', 'Eielson', 'Clubs', 'Episcopal', 'USD', 'Oceanside', 'Butch', 'Koven', 'Hennessey', 'Writing', 'Luoyang', 'Satch', 'Rebennack', 'Cappie', 'Istanbul', 'Ros', 'Casares', 'Brittongate', 'Cashman', 'Lawrance', 'Sons', 'Trainee', 'Merit', 'Forces', 'Armored', 'Tabuk', 'Arabia', 'M1A2', 'Bouvier', 'Lowell', 'Wilner', 'MSN', 'Busby', 'Coco', 'Vandeweghe', 'Lesia', 'Tsurenko', 'Linz', 'Andreea', 'Mitu', 'Woodward', 'Letitia', 'Duane', 'Colleen', 'McAdams', 'Rotenberg', 'Smukler', 'Anorak', 'Polytechnique', 'L*pine', 'M.FA', 'Acting', 'Necessary', 'Factory', 'Yad', 'Vashem', 'Remembrance', 'Burchell', 'Boon', 'Harlequin', 'Novelists', 'Kantakouzenos', '*ura*', 'Esphigmenou', 'Athos', 'Almagest', 'Johanne', 'Jacoba', 'Schmidt', 'Emil', 'Philology', 'Archimedes', 'Euclid', 'Menge', 'Apollonius', 'Perga', 'Serenus', 'Antinouplis', 'Corretjer', 'Albizu', 'Campos', 'Cadetes', 'Rep*blica', 'Cadets', 'Dibble', 'Nahuatl', 'Halford', 'Rockhampton', 'Vicar', 'Annalise', 'Kratz', 'Moya', \"O'Sullivan\", 'Porteous', 'Oruche', 'Liberty', 'Waring', 'Cincerity', 'Zon', 'Coffee', 'Dowse', 'Olsen', 'Decorative', 'Applied', 'Toss', 'Woollaston', 'McCahon', 'MacDiarmid', 'Plischke', 'A.R.D', 'Fairburn', 'Ohori', 'Yukari', 'Sato', 'Kayo', 'Noro', 'KONAN', 'Kazumi', 'Urano', 'Umeda', 'Serina', 'Mami', 'Kato', 'Kohara', 'Ito', 'Kana', 'Akita', 'Kazue', 'Qu', 'Edge', 'Contrary', 'Harrington', 'Inspired', 'Mis*rables', 'Fantine', 'Lakandula', 'Gounod', 'Faust', 'Hayward', 'Zdenka', 'Fenn', 'Rosalinde', 'Fledermaus', 'Uppman', 'Eisenstein', 'Laurel', 'Mussetta', 'Epiphany', 'Students', 'Laodicean', 'Missionary', 'Revelation', 'khakon', 'Makes', 'Khakon', 'Misunderstanding', 'Manhunt', 'Feud', 'Job', 'Carole', 'Isidore', 'Bysshe', 'Mickiewicz', 'Southey', 'Musset', 'Racine', 'Corneille', 'Sophocles', 'Oedipus', 'Lesp*s', 'Melkweg', 'Cornald', 'Maas', 'Hera', 'Bj*rk', 'Nicki', 'Lighthouse', 'Croatia', 'HRT', 'Voice', 'Written', 'Specifically', 'Original', 'Robbie', 'Daw', 'Idolator', 'Forgot', 'Fyodorovich', 'Pavlovna', 'Mavromikhali', 'Yonsky', 'Rockwell', 'Teleshikova', 'Belkins', 'Tsukushi', 'Fujiko', 'Paddy-field', 'Kyon-kyon', 'Oda', 'Sayuri', 'Kyon-Kyon', 'Narcy', 'Shiraz', 'Goddiva', 'Montag', 'Xun', 'Yuzhang', 'Langye', 'FINA', 'Inge', 'Hinkelien', 'Schreuder', 'Marleen', 'Groot', 'Ranomi', 'Kromowidjojo', 'Janelle', 'Shanae', 'Harlan', 'Denison', 'Nevada', 'Reichs', 'Chuck', 'Ashford', 'Motown', 'Armstead', 'Bettina', 'Adeline', 'Genee', 'Patron', 'Slavic', '*************', 'Langepas', 'WGM', 'Olympiad', 'Swedens', 'Shaui', 'Shuai', 'ITF', 'Ystad', 'Chakvetadze', 'Strasbourg', 'Sago', 'Am*lie', 'Mauresmo', 'Dinara', 'Safina', 'Ivanovi*', 'Daniela', 'Hantuchov*', 'Sz*vay', 'Karina', 'Hallinan', 'Lemoore', 'Scharnetzki', 'Bochum', 'Dortmund', 'Backenecker', 'Altrincham', 'Warrender', 'Sitcom', 'Fright', 'Kotcheff', 'Dalziel', 'Pascoe', 'Z-Cars', 'Minder', 'Jeeves', 'Wooster', 'Professionals', 'Aurich', 'Breda', 'Salm-Kyrburg', 'Aya', 'Saeid', 'Flyweight', 'Wayles', 'DioGuardi', 'Shanks', 'From', 'Moneypenny', 'Karly', 'Rothenberg', 'Klebb', 'Sawyers', 'Aja', 'Horton', 'Darnley', 'Nolan', 'YWCA', 'Avila', 'Irma', 'Camarena', 'Mendelson', 'Rogoff', 'Pointer', 'Carnegie', 'Beverly', 'Jazz', 'Folks', 'Brodribb', 'Midsummer', 'Hilliard', 'Harcourt', 'Circus', 'Edison', 'Shaznay', 'Blatt', 'Appleton', 'Wilkin', 'Genographic', 'Legacy', 'McKay', 'Momentum2', 'Qantas', 'Harpo', 'Oprah', 'Winfrey', 'Bonnin', 'Fleet', 'Swing', 'Kern', 'Tonight', 'Blender', 'Rodman', 'Rimes', 'Dictionary', 'Hats', 'Wicked', 'Level', 'Mensah', 'Sotheby', 'Pitcher', 'Dansk', 'Fredsforening', 'Nordic', 'Galileo', 'Galilei', 'Glass', 'Zimmerman', 'Donizetti', 'Lammermoor', 'Dessay', 'Continental', 'Langat', 'Dehiba', 'Split', 'Ty', 'Yutaka', 'Fukumoto', 'Kurys', 'Their', 'Sheba', 'Charity', 'Harington', 'Unaware', 'Firm', 'SF', 'Feinstein', 'Kishore', 'Suresh', 'Wadkar', 'Mohammed', 'Aziz', 'Amit', 'Manhar', 'Udhas', 'Sanu', 'Abhijeet', 'Bhattacharya', 'Udit', 'Narayan', 'Sudesh', 'Bhonsle', 'Babul', 'Supriyo', 'Vinod', 'Rathod', 'S.P', 'Balasubrahmaniam', 'Sonu', 'Nigam', 'Alka', 'Yagnik', 'Anuradha', 'Paudwal', 'Sadhana', 'Sargam', 'Subramaniam', 'Kavita', 'Mecham', 'Babbit', 'Mofford', 'Chuyia', 'Mehta', 'Moonstruck', 'Chocolates', 'Mohsen', 'Namjoo', 'Hamid', 'Royani', 'Ulrich', 'Boshra', 'Dastournezhad', 'Maral', 'Kabul', 'Sulyman', 'Qardash', 'Siddique', 'Ahmed', 'Raby', 'Adib', 'Sherbet', 'Mohammad', 'Talani', 'Reza', 'Gerami', 'Mortazavi', 'Jamshid', 'Mahmood', 'Schricker', 'Morad', 'Keyumars', 'Sohrab', 'Tahbaz', 'Yashar', 'Mansur', 'Taeed', 'Rakhshandeh', 'Laverty', 'Kernan', 'Carothers', 'Litz', 'Marjaneh', 'Moghimi', 'Jalali', 'AJ', 'Betties', 'Roxie', 'Cotton', 'Lethal', 'WSU/NWS', 'Jana', 'Demanto', 'Tag', 'Iroda', 'Tulyaganova', 'Scottsdale', 'Birches', 'Locust', 'Modelos', 'Bookings', 'Venezuela', 'Hilfiger', 'Sui', 'Riviera', 'Terani', 'Prom', 'K', 'Mercedes-Benz', 'Fall', 'Tess', 'Zoila', 'Conrado', 'Francisca', 'Batasang', 'Pambansa', 'Rinna', 'BBQ', 'Lyme', 'Disease', 'Swimsuit', 'Issue', 'Behm', 'Settlement', 'J*ran', 'Accra', 'Asante', 'Kurth', 'Rica', 'Alongside', 'Sellers', 'Bowman', 'Pfeffer', 'Sridhar', 'Sharan', 'Montferrat', 'Hetoum', 'Recueil', 'Historiens', 'Croisades', 'Theophane', 'Spiders', 'Konnie', 'Native', 'Inuit', 'Nanook', 'Burnford', 'Incredible', 'Journey', 'Walt', 'IVF', 'Maeve', 'McConnell', 'Mousetrap', 'WPC', 'Gentle', 'Touch', 'Z*h', 'Hylton', 'Pavey', 'Golonka', 'Middleman', 'Fireman', 'Busy', 'Hang', \"'Em\", 'Elevator', \"'77\", 'In-Laws', 'Bite', 'Couple', 'Tutor', 'Innocence', 'Cyril', 'Vladimirovich', 'Dodsworth', 'Thornton', 'Watlass', 'Marske', 'Hadleigh', 'Suffolk', 'BFG', 'Bedales', 'Doukas', 'Agency', 'Waipukurau', 'Motley', 'Crichton', 'Chryste', 'Gaines', 'Kelli', 'Zhanna', 'Pintusevich-Block', 'Maybe', 'Jepsen', 'Whistle', 'Set', 'Dannii', 'Envelopes', 'Mukhortova', 'Moskvina', 'Dmitriev', 'Peirson', 'Thomasine', 'Humber', 'Lib', 'Dem', 'MEP', 'Ashburnham', 'Ormonde', 'Anglesey', 'Nussbaum', 'Wrap', 'Peikert', 'Blackbird/Elektra', 'Siberry', 'Bug', 'Hyperion', 'Frohman', 'Lyceum', 'Butterfly', 'Viola', 'Cymbeline', \"'Irlene\", 'Irlene', 'CoverGirl', 'Repertory', 'Figures', 'Voices', 'Hoffman', 'Silverman', 'Beds', \"'Secret\", 'KVVS', 'Maximum', 'Rotation', 'Om', 'Verdie', 'Waltons', 'Dangerous', 'Generations', 'Gunsmoke', 'Eurasia', 'WOSM', 'Vazha', 'Dzvelaia', 'Surf', 'Watchin', 'Fancy', \"'n\", 'Classy', 'Tomkins', 'Hyleas', 'Fountain', 'Pickler', 'Tiye', 'Amenhotep', 'Akhenaten', 'Ankhesenamen', 'Tutankhamen', 'Amarna', 'Grandfather', 'Greenaway', 'Willebeek', 'Mair', 'Mbret*resh*', 'Potsdam', 'Hereditary', 'Sch*nburg-Waldenburg', 'Sayn-Wittgenstein-Berleburg', 'Ruxandra', 'Grigore', 'Wallachia', 'Sheen', 'Delancey', 'Marissa', 'Hodge', 'Chiselhampton', \"'Hotspur\", 'Poynings', 'ECCW', 'Blockbuster', 'Gone', 'Kat', 'Heez', 'Gisele', 'Badgers', 'Kazmaier', 'Moros', 'Schongalla', 'Mamaroneck', 'Kirke', 'Green-Wood', 'Bowne', 'Fones', 'Cesare', 'Lodovico', 'Sforza', 'Porta', 'Giovia', 'Ducal', 'Verme', 'Carmagnola', 'Carminati', 'Brambilla', 'Bergamino', 'Jarosz', 'Paczosa', 'Prine', 'Thile', 'Sobotka', 'Stamford', 'Telemundo', 'Hora', 'Oller', 'Allende', 'Llosa', 'Geary', 'Nantes', 'Montfort', 'Richmont', 'Limoges', 'Isabeau', 'Hayleyville', 'Jeanine', 'Corwin-Fuller', 'Curator', 'Wesleyan', 'Middletown', 'Doctorate', 'Steering', 'Preservation', 'Advisors', 'Filmmakers', 'Minds', 'Locus', 'Windling', 'McCarter', 'Laughlin', 'Jaqueline', 'Longoria', 'Ludivine', 'Sagnier', 'Hathaway', 'Karolina', 'Kurkova', 'Seyfried', 'Huntington-Whiteley', 'Hudgens', 'Halle', 'Herzigova', 'Various', 'Ekberg', 'Dolce', 'Federico', 'Fellini', 'Knowles', 'Gladiator', 'Borderline', 'Run', 'Silvana', 'Mangano', 'Piece', 'Luchino', 'Visconti', 'Almod*var', 'Cachet', 'Luvin', 'Alonzo', 'Stroud', 'Merton', 'Depression', 'Belnap', 'Housel', 'Imhoff', 'Heike', 'Blok', 'Frieda', 'Vollebergt', 'Erik', 'Sjoerd', 'Vollebregt', 'Ritter', 'Ms', 'As', 'Ranjitha', 'Marinda', 'Obie', 'Plays', 'Reflections', 'Practical', 'Instructions', 'Provocative', 'Opinions', 'Pointers', 'Noted', 'Critic', 'Playwright', 'Waltz', 'Choreographer/Creator', 'Overlie', 'NYU', 'Viewpoints', 'Prepares', 'Banksian', 'Somerville', 'Fronde', 'Social-Democratic', 'Bebel', 'Frau', 'Sozialismus', 'Socialistic', '*ber', 'Ehe', 'Liebe', 'Magicaloid', 'Fav', 'Winterprison', 'Nana', 'Dora', 'Grizzard', 'RT*', 'Love/Hate', 'E4', 'Misfits', 'Marvel', 'S.H.I.E.L.D..', 'Tulip', \"O'Hare\", 'AMC', 'Preacher', 'Negga', 'Lead', 'Critics', 'Farber', 'Barron', 'Mazar', 'Maripol', 'Bags', 'Rilez', 'Beatroot', 'Ha*ienda', 'Sues', 'Enterprising', 'Bacon-Smith', 'Doo-it', 'Helps', 'Owlie', 'Reeve', 'Mandy', 'Patinkin', 'Barks', 'Cheing', 'Sieppe', 'Kotz', 'Madoff', 'Adm.', 'Berkeley-Portman', 'Orchard', 'Ryves', 'Dobson', 'Liddy', 'Marczewska', 'Tier', 'No.8', 'Norcross', 'HBO', 'Lynch', 'Cry-Baby', 'McGuire', 'Hatchetface', 'Shepherdson', 'Topshop', 'Oxfam', 'Railway', 'Higher', 'Bunte', 'Hawaii', 'Peg', 'Yuko', 'Frond', 'Belcher', 'Belize', 'Rainey', 'Sippie', 'Spivey', 'Forced', 'Raisin', 'Scalella', 'Aretha', 'Gilling', 'Gascoigne', 'Coddington', 'Bazaar', 'Garbo', 'Wintour', 'Investorettes', 'Valley-Goose', 'Vine', 'Goudie', 'Sherry', 'Nevers', 'Lambchop', 'Kangaroo', 'Dupe', \"'Prince\", 'ARIA', 'Storey', 'Is', 'Thames', 'Price', 'Serena', 'Shimmer', 'Summerlyn', 'Kellie', 'Skater', 'Daizee', 'Haze', 'Movietone', 'Sunrise', 'Judels', 'Dresser', 'Berks', 'Tulpehocken', 'Journalists', 'Digest', 'Onmyo-Ji', 'Reiko', 'Otano', 'Kyoko', 'Inatome', 'Eno', 'Sound-Designer', 'Digitech', 'Vocalist', 'Shaira', 'Lenn', 'Osuna', 'Sanya', 'Nagcarlan', 'Laguna', 'Philippines', 'Half', 'Juvonen', 'Flower', 'Fever', 'Pitch', 'Barrymore', 'Shoemaker', 'Lantos', 'Caltrain', 'Bullet', 'MP36PH-3C', 'Kanchelian', 'Manfred', 'Armenian', 'Genocide', 'Livsey', 'IBM', 'Midler', 'Stosur', 'Asia/Oceania', 'Tanasugarn', 'Sania', 'Mirza', 'Pattaya', 'Yaroslava', 'Shvedova', 'Yuliya', 'Beygelzimer', 'Vitalia', 'Diatchenko', 'Frederic', 'Hohenthal', 'Clarisa', '*lvaro', 'Pilar', 'Germ*n', 'Montefeltro', 'Baldassarre', 'Castiglione', 'Courtier', 'Adriano', 'Fiorentino', 'Raphael', 'Uffizi', 'Emilia', 'Pia', 'Vari*t*s', 'Folies', 'Berg*re', 'Delysia', 'Catch', 'Daly', 'Personality', 'Paralympic', 'Simmonds', 'Kenney-Silver', 'Kerri', 'Westport', 'McGaughey', 'Administration', 'Kestenbaum', 'Bryce', 'Charmaine', 'Normal', 'Nona', 'Thought', 'Almira', 'Ragland', 'Psychologist', 'Midst', 'Rippey', 'SuperEgo', 'Christmastime', 'Grant-Lee', 'Mean', 'Grinch', 'Eli', 'Marienthal', 'Unique', 'Bluebird', 'Listening', 'Geena', 'Webber', 'Mickie', 'Dodge', 'Andress', 'Bisset', 'Lock', 'Taverniers', 'Knew', 'Haunt', 'Ziz', 'Saddington', 'Curley', 'Straight', 'Frawley', 'Bersih', 'Democratic', 'NDI', 'OSI', 'Malaysia', 'Neo', 'Wolfowitz', 'Albright', 'Sreenevasan', \"'Woman\", 'Courage', 'Obama', 'AIPPI', 'Attorneys', 'APPA', 'Baucus', 'Starter', 'Lindy', 'Lovato', 'Bath', 'Wendover', 'Latham', 'Oakes', \"'Lyric\", 'Nicol*', 'Rescigno', 'Callas', 'Tileworks', 'Rossana', 'R*os', 'Marrero', 'Conchita', 'Mart*nez', 'Clijsters', 'Haverford', 'Pemberton', 'Leider', 'Bodanzky', 'Giulio', 'Gatti-Casazza', 'Br*nnhilde', 'Cry', 'Walk*re', 'Broadcast', 'Sonja', 'Henie', 'Thilde', 'Benz', 'Motorwagen', 'Pforzheim', 'Twin', 'Cartal', 'Audra', 'Gigi', 'Radics', 'Feehily', 'Panettiere', 'Generator', 'EP', 'Taken', 'Vanitha', 'Ganeshan', 'Kamala', 'Manjeri', 'WHIP', 'Selden', 'Longhorns', 'Gamasutra', 'VA-11', 'HALL-A', 'Laura/Lyja', 'Valeria', 'Skrull', 'Gay', 'McLaughlin', 'Lasser', 'Deahl', 'Conference', 'Susannah', 'Clapp', 'Minneapolis', 'Handicraft', 'Goddess', 'Sc*ne', 'II/scene', 'Pierina', 'Legnani', 'Ysaure', 'Kulichevskaya', 'Velikova', 'Sumitra', 'Bansal', 'Kalyani', 'Thakkar', 'Saavri', 'Sambhav', 'Kedarnath', 'Shweta', 'Gautam', 'Shakuntala', 'Maasi', 'Geetanjali', 'Susheel', 'Hinduja', 'Pyrokinesis', 'Delphine', 'LaLaurie', 'Guam', 'Gabriella', 'Brum', 'Trever', 'Killeen', 'Guitarist', 'Connick', 'Buildings', 'Lanark', 'Janine', 'Etzioni', 'Rainer', 'Poet', 'Duino', 'Baldock', 'Weaver', 'Peruvian', 'Portal', 'Poems', 'Epperson', 'Alpine', 'Avalanche', 'Sallie', 'Alix', 'Kates', 'Shulman', 'E.L.', 'Doctorow', 'Tancy', 'Henrickson', 'Juniper', 'Creek', 'Azarenka', 'Wozniacki', 'Clark-Sheard', 'Dorinda', 'Clark-Cole', 'Clark-Chisholm', 'Thurso', 'Barrogill', 'Stephan', 'Hyser', 'Nichole', 'Hiltz', 'W.I.T.C.H', 'Heatherfield', 'Vandom', 'Habsburgs', 'Jagellonica', 'Cronkite', 'Kaufmann', 'Roelien', 'Papalia', 'Kindergarten', 'Albuera', 'Battery', 'Poulett-Harris', 'Milward', 'Cops', 'Byer', 'Hsiang', 'Hua', 'WAS', 'Oz', 'Gael', 'Havilland', 'Actors', 'Fontaine', 'Danniella', 'Westbrook', 'Gleitman', 'PopMatters', 'Rantzen', 'Glasses', 'Mellor', 'Cookson', 'Dinner', 'Herbs', 'Roystan', 'Woodville', 'Bedford', 'Spurling', 'Matisse', 'Torchwood', 'Expeditionary', 'Humpherson', 'Warwickshire', 'Flora', 'Emmeline', 'Hasidic', 'Matisyahu', 'Mika', 'Nakashima', 'Ne-Yo', 'Estelle', 'Furtado', 'Di', 'Genius', 'Indestructible', 'Frosty', 'Petroleum', 'JR', 'Thede', 'Trix', 'Darkar', 'Downland', 'Internazionali', 'BNL', 'Jelena', 'Jankovi*', 'Henin', 'Career', 'Kollam', 'Daughter', 'Shri', 'Vasudevan', 'Smt', 'N.J.Parvathy', 'Antharjanam', 'Lawyers', 'Sub', 'Metromatinee', 'Nostalgic', 'Parvathy', 'Anoop', 'Deccan', 'Herald', 'Menon', 'Alameda', 'Remedial', 'Mile', 'Casual', 'Sugarbaker', 'Homes', 'Resentment', 'Arina', 'Charopa', 'Isachanka', 'Dinamo', 'Minsk', 'Aeon', 'Belarus', 'Deleanu', 'Alina', 'Maksymenko', 'Titova', 'Tattingstone', 'Ebert', 'Sun-Times', 'TT', 'Reynolds', 'Fendi', 'Missoni', 'Truman', 'Capote', 'Opry', 'Sinatra', 'Clooney', 'Mannering', 'Malfi', 'Hamlet', 'Iago', 'Malloy', 'McDermott', 'Raelle', 'Gerda', 'Kmetko', 'Adults', 'Aloud', 'Breakers', 'Rolton', 'WT20I', 'Wormwood', 'Mandatory', 'Belinda', 'Bencic', 'Doubles', 'Nadia', 'Petrova', 'Liezel', 'Huber', 'Honor*', 'Telos', 'Kerrigan', 'McGinley', 'Humes', 'Sarah-Jane', 'Sweat', 'Odoom', 'Pre-Raphaelite', 'Heffernan', 'Word/Curb/Warner', 'Leah', 'Gustavsdotter', 'Kungsor', 'Sweden-', 'Mecklenburg', 'Wonderland', 'Maddie', 'Diamonds', 'Deasismont', 'Ocean', 'Curse', 'Tattoo', 'Jolly', 'Belly', 'Bloodhound', 'Bonny', 'Horseman', 'Rapture', 'Gabriela', 'Galligan', 'Charmed', 'Due', 'Crossing', 'NCIS', 'Prison', 'Burn', 'Complete', 'Haiduk', 'Restless', 'Bloomington', 'B.L', 'Carleton', 'Dunder', 'Mifflin', 'Crespigny', 'Restaurant', 'WC2', 'Hellen', 'Combe', 'Lister', 'Anju', 'Shobha', 'Pramila', 'Aiyappa', 'Hilton', 'Burnett', 'Fonda', 'Muffle', 'Mahalia', 'Theater', 'Yali-Marie', 'Thea', 'Purchase', 'Almonester', 'Pontalba', 'Junichiro', 'JPP', 'R-9', 'Robert-Fleury', 'Julian', 'Bili*ska-Bohdanowiczowa', 'Breslau', 'Bashkirtseff', 'Jai', 'McDowall', 'Eder', 'Award-winning', 'Exodus', 'Recovery', 'Rey', 'Mei', 'Nunn', 'Cesario', 'Imelda', 'Staunton', 'Malvolio', 'Hawthorne', 'Goes', 'Bartsch', 'Mirman', 'Sock', 'Shop', 'Aetna']\n"
          ],
          "name": "stdout"
        }
      ]
    },
    {
      "cell_type": "markdown",
      "metadata": {
        "id": "sgaBEccDInBX"
      },
      "source": [
        "## Data Set Summary"
      ]
    },
    {
      "cell_type": "code",
      "metadata": {
        "id": "oVoZ06M6ItTd"
      },
      "source": [
        "def text_len(dataset):\n",
        "    dataset['text_length'] = dataset.Text.str.len()"
      ],
      "execution_count": null,
      "outputs": []
    },
    {
      "cell_type": "code",
      "metadata": {
        "id": "0tzlI961JuM7"
      },
      "source": [
        "def column_summary(dataset, target_column, dataset_name):\n",
        "    summary = pd.DataFrame(dataset[target_column].describe()).round(2)\n",
        "    summary.columns = [dataset_name]\n",
        "    return summary"
      ],
      "execution_count": null,
      "outputs": []
    },
    {
      "cell_type": "code",
      "metadata": {
        "id": "UwNiAo6pJ3nE"
      },
      "source": [
        "text_len(train)\n",
        "text_len(valid)\n",
        "text_len(test)"
      ],
      "execution_count": null,
      "outputs": []
    },
    {
      "cell_type": "markdown",
      "metadata": {
        "id": "S6WFOYWvJ3AE"
      },
      "source": [
        "### Number of Instances in Train, Validation and Test Set"
      ]
    },
    {
      "cell_type": "code",
      "metadata": {
        "colab": {
          "base_uri": "https://localhost:8080/"
        },
        "id": "wzT5im_LJxIL",
        "outputId": "a2eea8f8-b93c-4269-9158-70b466aeed5e"
      },
      "source": [
        "df_train = column_summary(train, 'text_length', 'Train')\n",
        "df_test = column_summary(test, 'text_length', 'Test')\n",
        "df_valid = column_summary(valid, 'text_length', 'Validation')\n",
        "text_length_summary = pd.concat([df_train, df_valid, df_test], axis=1)\n",
        "print(text_length_summary)"
      ],
      "execution_count": null,
      "outputs": [
        {
          "output_type": "stream",
          "text": [
            "         Train  Validation     Test\n",
            "count  2000.00      454.00  2000.00\n",
            "mean    426.92      426.39   430.61\n",
            "std     124.63      112.64   130.72\n",
            "min     104.00      147.00    69.00\n",
            "25%     346.00      354.00   344.00\n",
            "50%     410.00      408.50   412.00\n",
            "75%     493.00      487.75   500.00\n",
            "max    1270.00     1012.00  1347.00\n"
          ],
          "name": "stdout"
        }
      ]
    },
    {
      "cell_type": "markdown",
      "metadata": {
        "id": "TJS7NOTsKf_Y"
      },
      "source": [
        "## Number and Percent of Pronouns"
      ]
    },
    {
      "cell_type": "code",
      "metadata": {
        "id": "g1e_rzKOKu8W"
      },
      "source": [
        "def column_value_counts(dataset, target_column, dataset_name):\n",
        "    df_value_counts = dataset[target_column].value_counts()\n",
        "    dataset = pd.DataFrame(df_value_counts)\n",
        "    dataset.columns = [dataset_name]\n",
        "    dataset[dataset_name+' %'] = 100*dataset[dataset_name] / dataset[dataset_name].sum()\n",
        "    return dataset"
      ],
      "execution_count": null,
      "outputs": []
    },
    {
      "cell_type": "markdown",
      "metadata": {
        "id": "AnuNh6sOSDWG"
      },
      "source": [
        "## Number and Percentages of Target Pronouns"
      ]
    },
    {
      "cell_type": "code",
      "metadata": {
        "colab": {
          "base_uri": "https://localhost:8080/"
        },
        "id": "u5K_uxvcdpsU",
        "outputId": "7ec6bd6b-914d-4213-f870-e0ff9006fc04"
      },
      "source": [
        "df_train = column_value_counts(train, 'Pronoun', 'Train')\n",
        "df_test = column_value_counts(test, 'Pronoun', 'Test')\n",
        "df_valid = column_value_counts(valid, 'Pronoun', 'Validation')\n",
        "\n",
        "pronoun_count = pd.concat([df_train, df_valid, df_test], axis=1)\n",
        "pronoun_count = pronoun_count.round(2)\n",
        "print(pronoun_count.sort_values(by=['Train'], ascending=False))\n"
      ],
      "execution_count": null,
      "outputs": [
        {
          "output_type": "stream",
          "text": [
            "      Train  Train %  Validation  Validation %  Test  Test %\n",
            "her   534.0    26.70       132.0         29.07   566   28.30\n",
            "his   496.0    24.80       102.0         22.47   528   26.40\n",
            "she   249.0    12.45        62.0         13.66   237   11.85\n",
            "he    235.0    11.75        67.0         14.76   221   11.05\n",
            "She   179.0     8.95        25.0          5.51   159    7.95\n",
            "He    138.0     6.90        26.0          5.73   127    6.35\n",
            "him    98.0     4.90        26.0          5.73    96    4.80\n",
            "Her    38.0     1.90         8.0          1.76    37    1.85\n",
            "His    33.0     1.65         6.0          1.32    28    1.40\n",
            "hers    NaN      NaN         NaN           NaN     1    0.05\n"
          ],
          "name": "stdout"
        }
      ]
    },
    {
      "cell_type": "code",
      "metadata": {
        "colab": {
          "base_uri": "https://localhost:8080/"
        },
        "id": "NhK93ygZoWe4",
        "outputId": "786de619-e509-4b14-8d18-aebb2e7daf75"
      },
      "source": [
        "from collections import defaultdict\n",
        "hm = defaultdict(int)\n",
        "for key, val in df_train.to_dict()['Train'].items():\n",
        "    # print(key, val)\n",
        "    hm[key.lower()] += val\n",
        "print(hm)"
      ],
      "execution_count": null,
      "outputs": [
        {
          "output_type": "stream",
          "text": [
            "defaultdict(<class 'int'>, {'her': 572, 'his': 529, 'she': 428, 'he': 373, 'him': 98})\n"
          ],
          "name": "stdout"
        }
      ]
    },
    {
      "cell_type": "code",
      "metadata": {
        "colab": {
          "base_uri": "https://localhost:8080/",
          "height": 136
        },
        "id": "uNNXwLgl4V5g",
        "outputId": "7603a2ea-00c6-4e58-d944-b75b7744c9cf"
      },
      "source": [
        "plt.figure(figsize=(4,1))\n",
        "plt.bar(hm.keys(), hm.values(), width = 0.5)\n",
        "# plt.title('Frequency of Target Pronouns', fontsize=20)\n",
        "plt.xlabel('Pronouns', fontsize=15)\n",
        "plt.ylabel('Frequency', fontsize=15)\n",
        "plt.xticks(fontsize=12)\n",
        "plt.yticks(fontsize=12)\n",
        "plt.show()"
      ],
      "execution_count": null,
      "outputs": [
        {
          "output_type": "display_data",
          "data": {
            "image/png": "[encoded data removed]",
            "text/plain": [
              "<Figure size 288x72 with 1 Axes>"
            ]
          },
          "metadata": {
            "tags": [],
            "needs_background": "light"
          }
        }
      ]
    },
    {
      "cell_type": "code",
      "metadata": {
        "colab": {
          "base_uri": "https://localhost:8080/",
          "height": 126
        },
        "id": "y-9LCSk76brQ",
        "outputId": "18ff6394-1624-4f9d-a2b1-15f3eb52708b"
      },
      "source": [
        "plt.figure(figsize=(4,1))\n",
        "plt.barh(['Male', 'Female'], [1000,1000], height = 0.7)\n",
        "# plt.title('Gender wise frequency', fontsize=20)\n",
        "plt.xlabel('Frequency', fontsize=15)\n",
        "plt.ylabel('Gender', fontsize=15)\n",
        "plt.xticks(fontsize=14)\n",
        "plt.yticks(fontsize=14)\n",
        "plt.show()"
      ],
      "execution_count": null,
      "outputs": [
        {
          "output_type": "display_data",
          "data": {
            "image/png": "[encoded data removed]",
            "text/plain": [
              "<Figure size 288x72 with 1 Axes>"
            ]
          },
          "metadata": {
            "tags": [],
            "needs_background": "light"
          }
        }
      ]
    },
    {
      "cell_type": "code",
      "metadata": {
        "id": "InLZAf6tRwIY"
      },
      "source": [
        "z   def GetPronounsandFreq(dataset):\n",
        "    def preprocess(sent):\n",
        "        sent = nltk.word_tokenize(sent)\n",
        "        sent = nltk.pos_tag(sent)\n",
        "        return sent\n",
        "    pronouns  = defaultdict(int)\n",
        "    for row in range(len(dataset)):\n",
        "        for pronoun, typ in preprocess(dataset.iloc[row]['Text']):\n",
        "            if typ == 'PRP$':\n",
        "                pronouns[pronoun] += 1\n",
        "    freq = defaultdict(list)\n",
        "    for k, v in pronouns.items():\n",
        "        freq[v].append(k)\n",
        "    keys = list(freq.keys())\n",
        "    keys.sort()\n",
        "    vals = []\n",
        "    for key in keys:\n",
        "        vals.append(len(freq[key]))\n",
        "    return freq, keys, vals, pronouns"
      ],
      "execution_count": null,
      "outputs": []
    },
    {
      "cell_type": "code",
      "metadata": {
        "id": "jHjnXP_fSVlj"
      },
      "source": [
        "frequency_dictionary_pronoun_train, frequency_of_pronounss_train, quantity_of_pronounss_train, pronouns_train = GetPronounsandFreq(train)\n",
        "frequency_dictionary_pronoun_validation, frequency_of_pronounss_validation, quantity_of_pronounss_validation, pronouns_validation = GetPronounsandFreq(valid)\n",
        "frequency_dictionary_pronoun_test, frequency_of_pronounss_test, quantity_of_pronounss_test, pronouns_test = GetPronounsandFreq(test)"
      ],
      "execution_count": null,
      "outputs": []
    },
    {
      "cell_type": "code",
      "metadata": {
        "colab": {
          "base_uri": "https://localhost:8080/"
        },
        "id": "aWpmWUVFS-z-",
        "outputId": "f7f8cca2-b716-42d8-cd0d-65c9d2803849"
      },
      "source": [
        "print(pronouns_train)\n",
        "print(pronouns_validation)\n",
        "print(pronouns_test)"
      ],
      "execution_count": null,
      "outputs": [
        {
          "output_type": "stream",
          "text": [
            "defaultdict(<class 'int'>, {'her': 1375, 'his': 1451, 'His': 94, 'Her': 82, 'its': 72, 'their': 204, 'Their': 8, 'heir': 1, 'our': 14, 'My': 4, 'my': 21, 'Heather': 1, 'Your': 3, 'Its': 4, 'your': 10, 'Our': 3})\n",
            "defaultdict(<class 'int'>, {'his': 319, 'Her': 18, 'her': 349, 'their': 76, 'its': 15, 'my': 7, 'His': 25, 'Their': 2, 'our': 1, 'Your': 1, 'your': 1})\n",
            "defaultdict(<class 'int'>, {'their': 236, 'His': 97, 'his': 1441, 'her': 1335, 'its': 79, 'My': 8, 'our': 13, 'my': 17, 'Her': 110, 'your': 7, 'hagiographer': 1, 'Their': 9, 'Our': 3, 'gather': 1, 'Your': 2, 'Its': 1, 'Yu': 1})\n"
          ],
          "name": "stdout"
        }
      ]
    },
    {
      "cell_type": "code",
      "metadata": {
        "colab": {
          "base_uri": "https://localhost:8080/"
        },
        "id": "-dgU0e2tY1Vi",
        "outputId": "8c7096c1-8381-4725-8d22-b3ebaee4d904"
      },
      "source": [
        "print('|'.join(pronouns_train))"
      ],
      "execution_count": null,
      "outputs": [
        {
          "output_type": "stream",
          "text": [
            "her|his|His|Her|its|their|Their|heir|our|My|my|Heather|Your|Its|your|Our\n"
          ],
          "name": "stdout"
        }
      ]
    },
    {
      "cell_type": "code",
      "metadata": {
        "id": "y9wpvJI1YQGG"
      },
      "source": [
        "def store_pronoun_count(df):\n",
        "    df['pronoun_count'] = df['Text'].apply(count_all_pronoun)"
      ],
      "execution_count": null,
      "outputs": []
    },
    {
      "cell_type": "code",
      "metadata": {
        "id": "JgNasGYWYswG"
      },
      "source": [
        "def count_all_pronoun(text):\n",
        "    return len(re.findall(r\"\\b(He|She|he|hers|him|she|her|his|His|Her|its|their|Their|heir|our|My|my|Heather|Your|Its|your|Our)\\b\", text))"
      ],
      "execution_count": null,
      "outputs": []
    },
    {
      "cell_type": "code",
      "metadata": {
        "id": "niz6zGrwZSSl"
      },
      "source": [
        "store_pronoun_count(train)\n",
        "store_pronoun_count(valid)\n",
        "store_pronoun_count(test)"
      ],
      "execution_count": null,
      "outputs": []
    },
    {
      "cell_type": "markdown",
      "metadata": {
        "id": "GZ30f63-cgb4"
      },
      "source": [
        "## Summary of Pronouns in Text"
      ]
    },
    {
      "cell_type": "code",
      "metadata": {
        "colab": {
          "base_uri": "https://localhost:8080/"
        },
        "id": "TJKd-RaxaUC-",
        "outputId": "f7addf48-22e8-4710-d12f-a7a003c20b0c"
      },
      "source": [
        "df_train = column_summary(train, 'pronoun_count', 'Train')\n",
        "df_test = column_summary(test, 'pronoun_count', 'Test')\n",
        "df_valid = column_summary(valid, 'pronoun_count', 'Validation')\n",
        "\n",
        "pronoun_count_summary = pd.concat([df_train, df_valid, df_test], axis=1)\n",
        "print(pronoun_count_summary)"
      ],
      "execution_count": null,
      "outputs": [
        {
          "output_type": "stream",
          "text": [
            "         Train  Validation     Test\n",
            "count  2000.00      454.00  2000.00\n",
            "mean      3.30        3.64     3.23\n",
            "std       2.11        2.43     2.04\n",
            "min       1.00        1.00     1.00\n",
            "25%       2.00        2.00     2.00\n",
            "50%       3.00        3.00     3.00\n",
            "75%       4.00        5.00     4.00\n",
            "max      17.00       16.00    15.00\n"
          ],
          "name": "stdout"
        }
      ]
    },
    {
      "cell_type": "code",
      "metadata": {
        "id": "z3a0oB9XdDYj"
      },
      "source": [
        "# frequency_dictionary_train, frequency_of_names_train, quantity_of_names_train, names_train = GetNamesandFreq(train)\n",
        "# frequency_dictionary_validation, frequency_of_names_validation, quantity_of_names_validation, names_validation = GetNamesandFreq(valid)\n",
        "# frequency_dictionary_test, frequency_of_names_test, quantity_of_names_test, names_test = GetNamesandFreq(test)"
      ],
      "execution_count": null,
      "outputs": []
    },
    {
      "cell_type": "code",
      "metadata": {
        "colab": {
          "base_uri": "https://localhost:8080/",
          "height": 299
        },
        "id": "BQ9Yu5lNYMYq",
        "outputId": "edd8b76b-a96e-49f2-be52-d794af37ec72"
      },
      "source": [
        "# sort the list of frequencies in decreasing order\n",
        "freqs = sorted(names_train.values(), reverse=True)\n",
        "\n",
        "# enumerate the ranks and frequencies\n",
        "rf = [(r+1, f) for r, f in enumerate(freqs)]\n",
        "rs, fs = zip(*rf)\n",
        "\n",
        "plt.clf()\n",
        "plt.xscale('log')\n",
        "plt.yscale('log')\n",
        "plt.title('Zipf plot')\n",
        "plt.xlabel('log(rank)')\n",
        "plt.ylabel('log(frequency)')\n",
        "plt.plot(rs, fs, 'r-')\n",
        "plt.show()"
      ],
      "execution_count": null,
      "outputs": [
        {
          "output_type": "display_data",
          "data": {
            "image/png": "[encoded data removed]",
            "text/plain": [
              "<Figure size 432x288 with 1 Axes>"
            ]
          },
          "metadata": {
            "tags": []
          }
        }
      ]
    },
    {
      "cell_type": "code",
      "metadata": {
        "colab": {
          "base_uri": "https://localhost:8080/"
        },
        "id": "KVc7GS1UYjmr",
        "outputId": "a8f6c4dd-d8a6-4c68-e2ff-ec56770f1f7c"
      },
      "source": [
        "print(freqs)"
      ],
      "execution_count": null,
      "outputs": [
        {
          "output_type": "stream",
          "text": [
            "dict_values([9, 3, 10, 11, 8, 1, 57, 8, 3, 9, 1, 17, 12, 19, 8, 1, 7, 1, 27, 63, 1, 5, 7, 1, 1, 1, 1, 1, 12, 4, 3, 19, 3, 2, 36, 1, 1, 27, 45, 9, 1, 3, 4, 29, 14, 1, 2, 7, 7, 28, 10, 3, 30, 3, 1, 3, 1, 3, 1, 62, 3, 3, 25, 4, 13, 4, 15, 1, 1, 1, 1, 1, 13, 2, 9, 3, 3, 3, 2, 18, 1, 7, 1, 140, 7, 1, 1, 1, 2, 45, 1, 1, 10, 16, 6, 2, 12, 2, 36, 2, 31, 5, 9, 34, 29, 1, 1, 1, 72, 1, 1, 2, 1, 1, 6, 1, 1, 1, 1, 1, 1, 3, 1, 2, 1, 1, 1, 2, 1, 1, 1, 2, 7, 2, 2, 3, 1, 3, 6, 3, 1, 3, 64, 1, 10, 3, 86, 5, 12, 9, 4, 2, 1, 12, 1, 5, 3, 4, 4, 5, 2, 1, 18, 2, 28, 91, 1, 29, 3, 10, 8, 1, 2, 1, 26, 3, 1, 65, 1, 6, 6, 10, 1, 2, 9, 2, 1, 1, 9, 18, 3, 1, 14, 11, 36, 10, 18, 3, 7, 33, 5, 4, 64, 4, 60, 9, 1, 1, 5, 1, 24, 28, 1, 26, 57, 22, 3, 1, 1, 1, 1, 1, 1, 4, 3, 1, 1, 6, 1, 1, 1, 1, 1, 3, 1, 85, 1, 30, 8, 1, 48, 2, 1, 1, 2, 2, 1, 38, 4, 1, 41, 2, 5, 7, 13, 1, 1, 1, 13, 1, 32, 73, 1, 1, 6, 1, 1, 1, 1, 3, 7, 16, 1, 1, 5, 15, 1, 1, 3, 58, 66, 3, 3, 9, 1, 26, 1, 3, 9, 3, 23, 1, 15, 5, 44, 2, 16, 15, 1, 3, 1, 1, 31, 1, 2, 8, 1, 3, 8, 10, 21, 32, 11, 3, 6, 3, 1, 2, 3, 2, 3, 1, 23, 4, 2, 1, 3, 2, 53, 1, 9, 9, 4, 3, 9, 2, 5, 1, 2, 1, 10, 20, 5, 6, 1, 11, 4, 25, 13, 89, 5, 10, 9, 1, 17, 6, 24, 11, 1, 25, 37, 10, 1, 47, 2, 3, 38, 5, 7, 1, 1, 25, 59, 22, 10, 3, 2, 7, 1, 20, 1, 11, 1, 1, 1, 3, 2, 48, 1, 5, 12, 11, 46, 74, 3, 1, 11, 3, 1, 1, 1, 1, 4, 2, 21, 5, 9, 12, 1, 9, 1, 3, 32, 3, 11, 6, 1, 3, 16, 1, 1, 16, 1, 9, 2, 6, 9, 1, 1, 3, 10, 13, 30, 1, 3, 6, 1, 1, 1, 1, 1, 1, 1, 10, 33, 1, 1, 5, 1, 1, 3, 2, 1, 11, 28, 2, 6, 1, 21, 1, 10, 50, 53, 1, 5, 3, 1, 11, 1, 1, 10, 2, 1, 2, 3, 51, 20, 28, 43, 8, 2, 4, 19, 1, 1, 1, 1, 5, 35, 2, 1, 27, 2, 8, 1, 1, 1, 7, 12, 2, 22, 3, 3, 27, 7, 2, 21, 2, 6, 2, 1, 2, 2, 14, 2, 1, 1, 1, 1, 8, 3, 2, 2, 22, 1, 16, 5, 36, 4, 1, 4, 4, 3, 5, 22, 22, 2, 2, 2, 2, 4, 18, 2, 16, 4, 2, 2, 2, 3, 7, 6, 2, 19, 1, 14, 3, 3, 3, 6, 1, 6, 2, 2, 12, 1, 1, 7, 2, 4, 21, 29, 9, 2, 2, 67, 3, 1, 1, 4, 16, 1, 1, 7, 1, 24, 3, 4, 2, 2, 31, 1, 1, 3, 2, 11, 1, 2, 5, 18, 2, 1, 79, 15, 2, 20, 8, 4, 2, 1, 7, 2, 1, 2, 14, 1, 4, 1, 1, 1, 6, 1, 1, 1, 1, 4, 1, 1, 1, 1, 3, 11, 1, 1, 2, 7, 1, 1, 4, 1, 1, 9, 1, 11, 1, 3, 3, 3, 1, 1, 1, 1, 1, 31, 4, 6, 1, 16, 10, 5, 1, 1, 1, 3, 5, 43, 2, 1, 3, 3, 3, 29, 1, 16, 1, 22, 11, 4, 10, 1, 4, 1, 1, 1, 10, 11, 65, 3, 3, 9, 14, 8, 1, 3, 16, 9, 2, 1, 4, 21, 1, 4, 1, 1, 1, 2, 10, 10, 6, 5, 16, 10, 9, 2, 1, 10, 67, 13, 29, 1, 3, 1, 14, 24, 4, 12, 2, 3, 1, 2, 2, 7, 2, 14, 1, 1, 1, 1, 1, 1, 9, 1, 1, 1, 5, 5, 4, 9, 1, 4, 1, 2, 7, 9, 1, 1, 1, 1, 1, 1, 18, 6, 1, 1, 1, 2, 3, 1, 2, 7, 4, 17, 3, 1, 6, 2, 1, 13, 23, 46, 1, 12, 6, 3, 7, 3, 2, 1, 10, 2, 4, 7, 2, 4, 5, 16, 8, 2, 7, 1, 1, 1, 7, 3, 7, 5, 8, 2, 3, 3, 1, 10, 4, 1, 22, 3, 4, 1, 13, 10, 1, 1, 12, 1, 1, 1, 23, 1, 1, 10, 1, 3, 7, 1, 1, 1, 3, 12, 2, 3, 5, 1, 2, 17, 2, 1, 4, 1, 1, 3, 1, 1, 1, 1, 1, 1, 1, 2, 1, 10, 2, 4, 2, 2, 5, 1, 1, 2, 9, 3, 1, 1, 3, 1, 4, 13, 1, 4, 1, 1, 1, 8, 1, 1, 37, 13, 18, 1, 23, 97, 22, 1, 9, 15, 7, 1, 35, 3, 1, 3, 7, 20, 5, 7, 11, 2, 11, 1, 2, 1, 1, 1, 1, 1, 4, 3, 1, 9, 12, 10, 2, 7, 1, 2, 2, 2, 1, 24, 41, 7, 1, 24, 5, 4, 2, 1, 2, 1, 1, 3, 4, 1, 4, 68, 1, 4, 1, 5, 1, 10, 24, 1, 4, 1, 2, 1, 1, 2, 1, 19, 1, 1, 1, 1, 1, 5, 2, 24, 1, 1, 12, 1, 1, 9, 11, 12, 1, 13, 15, 9, 8, 3, 2, 5, 1, 8, 1, 6, 1, 1, 10, 1, 1, 1, 4, 7, 1, 46, 1, 3, 1, 1, 2, 9, 6, 14, 1, 6, 65, 17, 2, 1, 2, 1, 6, 2, 3, 1, 4, 1, 5, 2, 3, 1, 3, 1, 22, 2, 4, 9, 6, 1, 1, 1, 1, 1, 4, 2, 1, 2, 9, 1, 5, 2, 2, 1, 1, 1, 2, 1, 1, 21, 3, 15, 1, 1, 1, 1, 9, 1, 7, 1, 2, 2, 1, 9, 1, 1, 1, 2, 2, 7, 3, 3, 1, 4, 1, 2, 18, 1, 8, 1, 1, 1, 1, 5, 3, 2, 4, 34, 4, 1, 2, 4, 1, 11, 15, 21, 1, 2, 3, 5, 5, 14, 9, 7, 1, 4, 3, 1, 2, 10, 1, 8, 2, 6, 1, 1, 3, 8, 10, 29, 1, 2, 1, 1, 1, 4, 2, 8, 3, 21, 3, 3, 1, 1, 1, 4, 1, 2, 1, 3, 3, 2, 1, 1, 2, 2, 2, 1, 1, 3, 2, 1, 12, 1, 11, 3, 1, 13, 1, 2, 3, 25, 1, 9, 4, 1, 27, 2, 2, 1, 4, 1, 1, 1, 1, 1, 1, 1, 1, 1, 1, 1, 1, 1, 8, 1, 1, 1, 2, 28, 1, 2, 12, 16, 1, 7, 2, 4, 1, 1, 1, 2, 4, 2, 5, 4, 2, 2, 2, 4, 1, 3, 1, 9, 2, 1, 21, 9, 1, 1, 2, 8, 1, 9, 2, 3, 1, 1, 1, 12, 1, 1, 6, 14, 2, 24, 2, 3, 5, 1, 21, 4, 7, 1, 1, 1, 1, 6, 5, 1, 1, 17, 1, 9, 1, 3, 3, 1, 1, 1, 1, 3, 34, 3, 1, 2, 1, 14, 1, 2, 3, 2, 2, 1, 1, 3, 3, 2, 1, 1, 1, 2, 8, 1, 1, 1, 13, 1, 1, 1, 13, 1, 8, 13, 4, 3, 8, 3, 6, 12, 8, 9, 1, 7, 1, 1, 5, 2, 1, 1, 1, 18, 15, 8, 2, 5, 1, 1, 1, 6, 1, 12, 1, 1, 1, 2, 1, 1, 5, 8, 2, 1, 1, 1, 2, 1, 6, 2, 1, 1, 1, 1, 12, 2, 1, 1, 3, 6, 2, 23, 1, 2, 10, 1, 26, 6, 3, 1, 1, 3, 9, 3, 3, 17, 4, 1, 3, 1, 8, 1, 1, 1, 1, 2, 3, 4, 25, 3, 16, 1, 7, 1, 1, 31, 6, 7, 1, 2, 1, 5, 1, 1, 2, 3, 2, 2, 1, 12, 4, 1, 3, 1, 1, 1, 2, 1, 1, 1, 1, 8, 2, 3, 23, 1, 1, 1, 6, 1, 1, 4, 11, 13, 9, 23, 2, 1, 12, 2, 6, 2, 1, 1, 2, 6, 1, 8, 21, 1, 2, 6, 5, 13, 1, 9, 2, 1, 1, 1, 1, 11, 3, 2, 2, 1, 1, 3, 1, 1, 2, 2, 1, 1, 4, 4, 5, 1, 1, 1, 3, 1, 1, 1, 1, 3, 8, 7, 10, 2, 7, 1, 1, 10, 3, 1, 3, 1, 15, 1, 1, 8, 5, 26, 1, 3, 1, 1, 1, 1, 3, 1, 4, 4, 9, 16, 12, 2, 1, 2, 1, 2, 1, 1, 1, 2, 1, 2, 18, 1, 2, 1, 1, 2, 1, 1, 1, 1, 1, 22, 4, 12, 10, 4, 1, 1, 7, 1, 5, 4, 2, 1, 4, 3, 1, 1, 17, 6, 5, 2, 1, 1, 17, 1, 3, 18, 8, 5, 1, 2, 2, 7, 9, 1, 1, 1, 2, 1, 1, 3, 9, 4, 4, 4, 3, 4, 1, 3, 1, 3, 13, 1, 1, 1, 21, 1, 4, 4, 3, 2, 3, 1, 2, 9, 1, 3, 3, 6, 1, 1, 1, 1, 3, 14, 1, 7, 5, 1, 2, 2, 1, 6, 1, 14, 2, 1, 1, 1, 5, 1, 21, 2, 2, 5, 5, 1, 1, 1, 1, 3, 1, 6, 1, 4, 2, 1, 2, 8, 1, 2, 1, 1, 1, 3, 3, 3, 1, 2, 1, 1, 1, 1, 1, 4, 3, 2, 8, 3, 1, 3, 1, 6, 1, 1, 1, 1, 1, 17, 4, 3, 1, 2, 1, 2, 6, 28, 2, 1, 2, 2, 2, 1, 1, 1, 1, 10, 5, 2, 1, 3, 1, 1, 9, 9, 14, 8, 1, 2, 2, 7, 1, 4, 2, 1, 19, 31, 1, 38, 3, 2, 1, 1, 1, 1, 1, 25, 3, 1, 1, 1, 4, 9, 2, 17, 1, 1, 1, 1, 9, 1, 10, 1, 4, 7, 1, 1, 1, 2, 1, 1, 1, 1, 1, 1, 1, 1, 1, 1, 6, 2, 1, 1, 1, 1, 1, 1, 1, 1, 5, 1, 15, 6, 36, 1, 2, 1, 13, 1, 1, 2, 1, 1, 5, 1, 1, 1, 1, 1, 5, 8, 1, 1, 1, 11, 2, 4, 1, 1, 2, 11, 5, 2, 2, 44, 1, 3, 1, 1, 14, 1, 1, 2, 3, 2, 1, 3, 1, 4, 1, 2, 5, 1, 5, 2, 1, 2, 1, 11, 3, 7, 5, 1, 2, 2, 16, 18, 1, 6, 6, 10, 1, 5, 1, 12, 1, 6, 2, 8, 2, 1, 1, 6, 2, 4, 4, 5, 1, 1, 1, 8, 37, 1, 8, 4, 2, 8, 1, 1, 2, 4, 1, 2, 1, 1, 1, 6, 17, 4, 6, 4, 1, 3, 15, 4, 1, 3, 3, 9, 10, 1, 1, 6, 17, 1, 3, 1, 1, 1, 1, 1, 1, 1, 1, 5, 3, 2, 15, 5, 1, 1, 4, 7, 2, 2, 2, 2, 7, 1, 1, 1, 2, 4, 1, 1, 2, 2, 3, 1, 1, 4, 5, 1, 1, 2, 1, 1, 3, 2, 14, 1, 2, 2, 2, 2, 1, 1, 1, 2, 2, 2, 5, 2, 1, 2, 3, 7, 1, 1, 1, 1, 1, 1, 1, 3, 1, 2, 8, 8, 9, 2, 6, 7, 1, 18, 18, 3, 5, 3, 2, 5, 3, 6, 2, 12, 2, 7, 3, 1, 8, 2, 1, 4, 1, 1, 2, 3, 4, 30, 21, 5, 1, 1, 1, 1, 2, 2, 1, 2, 9, 28, 1, 1, 1, 1, 1, 1, 3, 3, 4, 1, 1, 2, 1, 1, 1, 1, 1, 1, 1, 4, 3, 1, 6, 1, 2, 5, 2, 1, 1, 1, 1, 1, 2, 1, 1, 3, 2, 1, 2, 14, 1, 2, 1, 2, 4, 1, 14, 2, 2, 1, 5, 1, 1, 2, 4, 5, 5, 2, 1, 7, 6, 1, 3, 3, 2, 1, 1, 4, 1, 7, 7, 16, 13, 5, 3, 1, 3, 1, 1, 2, 1, 6, 1, 1, 2, 9, 8, 1, 1, 11, 1, 1, 2, 1, 17, 1, 24, 1, 4, 2, 4, 1, 4, 2, 10, 1, 10, 1, 4, 11, 1, 3, 3, 1, 2, 1, 2, 1, 1, 2, 1, 1, 1, 1, 9, 2, 1, 1, 1, 1, 3, 9, 2, 6, 1, 7, 1, 6, 12, 3, 1, 2, 1, 5, 1, 1, 1, 1, 1, 2, 8, 9, 23, 8, 5, 5, 3, 1, 1, 1, 3, 6, 1, 15, 1, 1, 2, 2, 4, 1, 3, 4, 3, 2, 7, 1, 21, 16, 3, 11, 2, 1, 2, 4, 3, 1, 2, 2, 7, 20, 1, 1, 1, 5, 10, 1, 1, 1, 5, 2, 40, 23, 6, 2, 1, 2, 1, 2, 1, 1, 1, 3, 1, 26, 1, 17, 2, 3, 1, 1, 6, 2, 14, 3, 1, 3, 1, 4, 1, 1, 1, 1, 2, 2, 2, 1, 1, 1, 12, 2, 2, 1, 2, 2, 2, 6, 2, 6, 6, 1, 4, 4, 2, 5, 1, 1, 2, 1, 1, 1, 5, 14, 1, 1, 1, 1, 3, 20, 1, 1, 1, 1, 2, 1, 8, 2, 6, 6, 5, 4, 2, 1, 3, 14, 2, 3, 2, 1, 2, 1, 1, 5, 2, 1, 1, 2, 1, 8, 1, 1, 1, 1, 1, 1, 1, 1, 1, 2, 3, 3, 8, 3, 7, 1, 1, 1, 1, 1, 24, 1, 6, 3, 2, 1, 1, 4, 1, 1, 1, 1, 1, 2, 1, 8, 2, 2, 5, 1, 1, 1, 1, 1, 1, 6, 3, 6, 1, 1, 1, 4, 2, 1, 3, 14, 1, 4, 7, 1, 1, 2, 5, 4, 5, 1, 1, 2, 1, 1, 4, 1, 2, 4, 14, 2, 2, 1, 2, 1, 4, 3, 2, 4, 4, 4, 7, 1, 11, 1, 1, 1, 3, 2, 1, 1, 1, 3, 1, 3, 1, 2, 1, 3, 1, 1, 4, 1, 2, 1, 1, 1, 12, 1, 3, 1, 2, 3, 1, 2, 9, 1, 1, 1, 1, 1, 3, 1, 1, 1, 6, 1, 3, 1, 1, 1, 2, 4, 1, 4, 2, 4, 30, 2, 3, 1, 3, 8, 11, 2, 1, 1, 18, 1, 1, 1, 2, 1, 2, 4, 3, 8, 9, 3, 1, 1, 3, 3, 3, 3, 6, 2, 3, 5, 1, 1, 1, 1, 1, 5, 1, 10, 5, 4, 3, 1, 5, 3, 1, 3, 4, 3, 5, 2, 3, 1, 16, 4, 4, 7, 1, 2, 6, 2, 1, 1, 1, 7, 1, 1, 2, 1, 1, 1, 1, 9, 3, 3, 4, 1, 2, 2, 1, 1, 1, 1, 1, 13, 1, 1, 1, 1, 1, 1, 1, 1, 1, 2, 2, 1, 2, 1, 1, 1, 1, 1, 1, 1, 1, 1, 4, 1, 3, 3, 1, 2, 1, 1, 3, 1, 2, 7, 1, 2, 3, 1, 2, 1, 1, 4, 1, 1, 5, 5, 1, 1, 6, 5, 1, 1, 2, 3, 2, 1, 1, 1, 5, 1, 1, 2, 2, 2, 1, 3, 16, 7, 1, 1, 6, 2, 2, 4, 1, 1, 3, 2, 1, 3, 1, 1, 4, 1, 8, 1, 1, 1, 1, 2, 1, 1, 1, 1, 1, 1, 1, 1, 1, 1, 1, 1, 1, 1, 2, 1, 1, 2, 1, 11, 7, 3, 3, 2, 1, 2, 1, 6, 2, 1, 4, 1, 1, 1, 6, 2, 7, 5, 1, 7, 7, 4, 7, 7, 1, 1, 3, 2, 1, 2, 3, 4, 1, 4, 22, 1, 1, 2, 6, 2, 9, 1, 3, 1, 1, 1, 2, 2, 2, 2, 10, 3, 2, 2, 5, 3, 4, 4, 2, 2, 1, 1, 2, 2, 2, 2, 1, 1, 2, 2, 10, 1, 2, 1, 3, 1, 1, 2, 1, 1, 2, 5, 6, 2, 6, 7, 12, 1, 1, 1, 2, 3, 2, 1, 1, 1, 3, 1, 1, 1, 1, 2, 2, 6, 5, 1, 1, 1, 1, 1, 1, 6, 1, 1, 1, 3, 1, 2, 1, 12, 1, 1, 1, 3, 3, 5, 1, 1, 4, 1, 1, 1, 2, 2, 5, 1, 1, 4, 1, 1, 6, 2, 1, 14, 1, 1, 5, 1, 1, 1, 1, 1, 1, 3, 7, 1, 1, 2, 3, 4, 2, 1, 1, 1, 1, 1, 2, 2, 2, 1, 1, 2, 1, 2, 3, 9, 1, 4, 1, 1, 1, 5, 1, 1, 2, 1, 2, 3, 1, 1, 1, 2, 4, 4, 5, 11, 1, 1, 27, 2, 2, 1, 1, 5, 4, 1, 1, 1, 3, 1, 8, 1, 2, 1, 1, 2, 1, 1, 1, 9, 1, 1, 1, 11, 2, 2, 8, 2, 3, 3, 1, 1, 3, 9, 1, 1, 5, 3, 1, 1, 14, 7, 5, 5, 4, 2, 7, 8, 1, 1, 1, 1, 5, 9, 1, 6, 1, 6, 2, 3, 1, 3, 2, 5, 1, 9, 1, 10, 1, 2, 1, 4, 1, 1, 3, 3, 1, 1, 2, 1, 1, 1, 1, 3, 1, 1, 4, 3, 1, 1, 2, 1, 1, 1, 2, 1, 2, 9, 3, 2, 9, 5, 3, 4, 2, 1, 3, 10, 2, 3, 16, 1, 1, 5, 1, 9, 1, 1, 1, 1, 1, 1, 9, 4, 3, 8, 14, 1, 3, 1, 11, 5, 4, 4, 2, 7, 2, 1, 8, 2, 1, 9, 1, 1, 7, 4, 5, 6, 1, 2, 1, 1, 3, 1, 2, 1, 1, 1, 1, 1, 1, 1, 1, 1, 1, 3, 8, 7, 15, 1, 1, 1, 3, 1, 3, 1, 1, 1, 15, 1, 2, 8, 1, 1, 1, 2, 1, 3, 3, 1, 1, 1, 5, 2, 4, 1, 2, 2, 1, 6, 2, 1, 5, 10, 1, 3, 2, 1, 1, 1, 1, 1, 2, 2, 5, 1, 5, 1, 1, 2, 1, 1, 8, 1, 3, 1, 3, 1, 1, 1, 2, 2, 1, 3, 1, 1, 1, 1, 2, 1, 6, 1, 1, 4, 1, 3, 1, 1, 1, 1, 4, 13, 1, 1, 1, 2, 3, 1, 2, 1, 1, 1, 1, 1, 1, 1, 2, 1, 7, 4, 1, 1, 1, 2, 1, 2, 1, 2, 4, 1, 3, 1, 11, 9, 8, 1, 1, 4, 7, 1, 1, 5, 5, 2, 4, 1, 1, 1, 1, 1, 1, 2, 2, 1, 2, 7, 1, 1, 1, 1, 1, 6, 2, 1, 1, 3, 1, 2, 1, 1, 1, 1, 1, 1, 2, 8, 1, 1, 3, 8, 1, 9, 1, 7, 4, 2, 1, 1, 1, 2, 1, 1, 3, 2, 1, 1, 1, 2, 1, 1, 1, 5, 1, 3, 4, 4, 2, 2, 5, 3, 1, 4, 1, 2, 2, 1, 4, 1, 7, 1, 1, 9, 6, 1, 1, 1, 3, 2, 3, 1, 1, 4, 2, 6, 1, 3, 2, 2, 2, 1, 1, 1, 1, 1, 5, 1, 3, 17, 1, 1, 4, 2, 11, 15, 1, 1, 1, 1, 1, 3, 1, 1, 3, 2, 2, 1, 1, 1, 1, 1, 1, 16, 2, 7, 1, 2, 1, 1, 1, 1, 5, 4, 2, 5, 1, 1, 23, 4, 3, 1, 1, 1, 1, 1, 1, 1, 1, 1, 1, 1, 1, 1, 4, 1, 3, 1, 3, 1, 3, 3, 5, 5, 2, 1, 2, 10, 1, 6, 10, 6, 5, 1, 3, 1, 2, 1, 1, 1, 1, 1, 1, 8, 1, 3, 4, 1, 7, 4, 6, 1, 2, 1, 5, 3, 1, 1, 4, 2, 3, 3, 1, 11, 1, 6, 1, 1, 1, 6, 2, 1, 1, 2, 1, 1, 7, 13, 1, 11, 2, 1, 1, 2, 5, 1, 1, 3, 17, 1, 1, 2, 1, 2, 5, 2, 1, 1, 3, 2, 1, 1, 1, 1, 2, 1, 1, 6, 5, 1, 3, 1, 1, 1, 1, 1, 1, 1, 2, 1, 1, 5, 1, 1, 3, 2, 1, 2, 5, 3, 1, 1, 2, 1, 7, 1, 1, 1, 2, 2, 1, 1, 1, 7, 1, 1, 1, 1, 7, 1, 1, 1, 3, 1, 2, 1, 3, 3, 3, 1, 1, 1, 2, 5, 4, 5, 3, 1, 1, 1, 1, 3, 1, 1, 4, 1, 1, 1, 1, 1, 1, 1, 1, 1, 1, 6, 1, 1, 1, 1, 3, 4, 6, 7, 1, 1, 5, 2, 1, 3, 1, 3, 1, 4, 1, 1, 7, 1, 2, 10, 1, 1, 4, 4, 2, 1, 1, 3, 1, 1, 1, 1, 3, 1, 1, 1, 1, 1, 1, 1, 2, 1, 1, 1, 1, 1, 2, 1, 7, 6, 2, 2, 3, 4, 3, 6, 8, 2, 2, 2, 1, 1, 1, 2, 1, 1, 1, 1, 1, 2, 7, 3, 2, 1, 2, 5, 5, 1, 4, 1, 1, 2, 4, 1, 2, 1, 1, 1, 1, 1, 1, 1, 1, 1, 1, 1, 1, 1, 1, 3, 1, 5, 2, 1, 1, 1, 2, 7, 2, 1, 1, 3, 5, 3, 3, 1, 1, 2, 4, 1, 1, 1, 1, 1, 1, 2, 1, 2, 1, 1, 1, 1, 1, 6, 7, 6, 2, 6, 3, 6, 4, 2, 9, 1, 2, 1, 1, 2, 1, 2, 2, 1, 3, 1, 1, 9, 1, 4, 2, 1, 4, 2, 5, 1, 1, 1, 1, 1, 2, 1, 1, 8, 3, 1, 2, 4, 1, 1, 1, 1, 3, 2, 1, 1, 1, 1, 1, 2, 12, 2, 1, 3, 1, 2, 1, 4, 3, 2, 2, 8, 1, 1, 1, 18, 3, 1, 4, 3, 1, 1, 1, 8, 1, 4, 3, 1, 2, 9, 3, 1, 1, 1, 3, 1, 3, 2, 2, 1, 1, 1, 2, 2, 8, 1, 1, 1, 1, 1, 1, 10, 1, 1, 3, 1, 2, 2, 1, 2, 1, 1, 1, 3, 5, 5, 1, 1, 2, 3, 5, 1, 1, 2, 6, 1, 6, 7, 1, 2, 1, 1, 10, 1, 5, 1, 1, 1, 1, 1, 13, 1, 1, 1, 1, 2, 2, 2, 11, 3, 2, 4, 1, 1, 1, 1, 1, 1, 1, 3, 1, 1, 3, 1, 1, 4, 1, 14, 1, 1, 3, 7, 1, 4, 1, 6, 2, 1, 2, 1, 2, 1, 4, 1, 3, 2, 1, 3, 1, 1, 2, 1, 1, 1, 2, 1, 3, 1, 1, 14, 9, 4, 19, 3, 1, 8, 3, 1, 2, 8, 16, 1, 2, 1, 5, 2, 1, 3, 1, 1, 1, 1, 1, 1, 2, 2, 3, 8, 4, 1, 2, 2, 3, 1, 3, 1, 1, 2, 1, 1, 1, 2, 6, 1, 1, 2, 3, 3, 1, 3, 1, 2, 2, 2, 1, 2, 1, 1, 1, 2, 1, 1, 3, 1, 8, 6, 1, 1, 3, 1, 3, 1, 3, 1, 1, 3, 1, 3, 4, 2, 2, 3, 1, 1, 1, 2, 2, 1, 1, 1, 1, 4, 1, 1, 1, 1, 1, 7, 1, 3, 3, 2, 1, 3, 1, 6, 2, 2, 2, 2, 5, 1, 2, 2, 2, 3, 1, 2, 3, 5, 2, 1, 2, 1, 1, 2, 15, 3, 3, 2, 1, 1, 2, 1, 12, 2, 6, 1, 1, 1, 1, 4, 1, 1, 1, 1, 1, 2, 1, 1, 1, 4, 9, 1, 1, 1, 1, 11, 1, 1, 1, 2, 5, 3, 3, 2, 12, 5, 1, 2, 4, 2, 4, 1, 1, 1, 1, 10, 5, 1, 1, 1, 4, 1, 3, 1, 1, 3, 3, 1, 3, 1, 1, 5, 8, 1, 2, 1, 1, 4, 2, 1, 2, 1, 5, 5, 1, 3, 1, 2, 2, 1, 1, 1, 1, 1, 1, 2, 3, 1, 1, 2, 1, 3, 2, 3, 1, 1, 2, 1, 1, 1, 1, 1, 1, 1, 3, 3, 1, 1, 1, 1, 4, 4, 9, 1, 4, 2, 1, 1, 7, 1, 1, 2, 1, 1, 2, 1, 10, 1, 1, 3, 2, 1, 1, 8, 1, 2, 1, 1, 1, 2, 4, 2, 2, 2, 1, 1, 4, 1, 1, 1, 1, 1, 3, 1, 2, 2, 1, 1, 1, 5, 2, 1, 1, 1, 9, 1, 3, 3, 1, 1, 1, 5, 1, 5, 1, 2, 1, 1, 3, 2, 4, 1, 9, 1, 1, 1, 1, 3, 1, 5, 1, 2, 1, 1, 1, 1, 3, 9, 1, 1, 2, 1, 1, 1, 1, 1, 1, 1, 1, 3, 2, 2, 1, 2, 2, 1, 1, 3, 2, 2, 3, 4, 1, 1, 1, 9, 2, 1, 2, 3, 1, 1, 1, 8, 2, 4, 1, 4, 2, 1, 1, 2, 2, 1, 1, 1, 1, 5, 1, 1, 4, 2, 1, 7, 8, 1, 1, 1, 1, 1, 1, 1, 1, 1, 1, 1, 1, 7, 2, 2, 1, 1, 1, 9, 11, 1, 3, 7, 1, 1, 2, 3, 1, 1, 1, 1, 1, 1, 1, 11, 1, 1, 2, 2, 1, 1, 3, 2, 3, 6, 4, 2, 4, 1, 6, 1, 3, 3, 4, 1, 3, 3, 1, 1, 2, 1, 1, 2, 1, 1, 1, 2, 1, 2, 3, 2, 3, 1, 1, 1, 1, 1, 5, 2, 1, 1, 1, 1, 1, 5, 1, 1, 8, 2, 1, 1, 1, 1, 1, 1, 6, 3, 1, 2, 1, 1, 1, 1, 2, 1, 1, 2, 1, 1, 2, 3, 1, 1, 1, 1, 1, 1, 1, 1, 1, 1, 2, 2, 1, 3, 1, 2, 1, 5, 1, 1, 5, 6, 1, 16, 1, 1, 1, 1, 1, 6, 1, 3, 1, 2, 1, 1, 2, 2, 6, 10, 13, 1, 1, 3, 1, 1, 1, 1, 4, 1, 1, 4, 3, 4, 1, 1, 1, 3, 1, 2, 1, 1, 1, 1, 1, 2, 1, 5, 7, 10, 2, 2, 1, 8, 5, 1, 1, 1, 1, 3, 1, 1, 1, 1, 1, 2, 1, 4, 2, 3, 1, 7, 1, 1, 1, 1, 1, 1, 3, 5, 6, 3, 7, 3, 1, 1, 3, 3, 1, 1, 2, 1, 1, 1, 1, 1, 1, 1, 3, 1, 1, 2, 5, 1, 1, 1, 1, 1, 1, 1, 1, 1, 4, 1, 2, 5, 1, 1, 1, 1, 4, 1, 2, 3, 2, 1, 2, 1, 1, 2, 1, 1, 1, 1, 3, 1, 1, 1, 3, 1, 5, 8, 1, 1, 1, 10, 1, 1, 1, 2, 3, 2, 4, 6, 1, 1, 1, 1, 2, 3, 1, 1, 1, 5, 3, 1, 2, 1, 1, 5, 1, 1, 2, 2, 1, 1, 4, 1, 2, 1, 1, 1, 1, 1, 4, 1, 2, 1, 1, 2, 2, 1, 1, 1, 1, 1, 1, 3, 1, 9, 1, 7, 1, 1, 1, 2, 2, 1, 4, 3, 1, 1, 1, 3, 1, 2, 1, 1, 1, 1, 2, 1, 1, 1, 13, 1, 1, 1, 2, 1, 3, 2, 2, 3, 3, 1, 4, 1, 4, 6, 1, 2, 2, 3, 1, 6, 2, 2, 1, 1, 2, 2, 1, 1, 1, 1, 3, 1, 1, 1, 2, 1, 2, 1, 4, 2, 4, 4, 1, 1, 1, 1, 1, 1, 1, 1, 1, 1, 1, 1, 3, 4, 1, 1, 1, 1, 1, 1, 3, 3, 1, 8, 6, 1, 1, 1, 2, 1, 1, 15, 1, 1, 1, 10, 2, 1, 1, 2, 2, 1, 1, 1, 3, 1, 1, 3, 1, 2, 2, 1, 1, 1, 1, 1, 2, 5, 1, 1, 2, 2, 1, 1, 1, 1, 1, 1, 1, 1, 1, 1, 1, 1, 2, 1, 2, 1, 1, 1, 8, 1, 1, 1, 1, 3, 9, 3, 1, 3, 2, 2, 2, 3, 1, 2, 1, 1, 1, 1, 6, 4, 1, 5, 1, 2, 1, 1, 1, 2, 1, 3, 7, 1, 1, 1, 1, 1, 2, 3, 13, 1, 1, 1, 2, 1, 1, 1, 1, 1, 1, 1, 1, 1, 6, 2, 1, 2, 2, 1, 3, 1, 3, 3, 1, 1, 1, 1, 1, 1, 1, 2, 1, 2, 4, 4, 1, 1, 2, 1, 1, 2, 2, 2, 1, 3, 2, 3, 1, 1, 2, 1, 1, 8, 1, 1, 2, 1, 5, 1, 1, 3, 3, 1, 1, 2, 2, 3, 1, 2, 4, 2, 1, 1, 1, 1, 1, 1, 2, 4, 1, 1, 1, 1, 2, 4, 3, 4, 1, 12, 1, 1, 1, 1, 2, 1, 2, 1, 4, 4, 1, 1, 1, 2, 5, 1, 1, 4, 1, 2, 2, 3, 1, 3, 5, 10, 1, 4, 2, 7, 1, 4, 1, 2, 3, 1, 1, 1, 1, 1, 5, 4, 1, 1, 4, 3, 5, 1, 1, 1, 1, 2, 1, 3, 1, 1, 1, 3, 1, 1, 3, 1, 1, 13, 3, 1, 3, 1, 2, 1, 1, 1, 14, 5, 1, 5, 9, 5, 1, 1, 1, 1, 1, 2, 2, 1, 1, 1, 1, 1, 1, 1, 1, 2, 1, 1, 3, 4, 2, 2, 1, 1, 4, 1, 1, 1, 1, 3, 7, 1, 1, 1, 3, 3, 1, 6, 3, 3, 2, 1, 1, 2, 1, 3, 6, 1, 1, 1, 1, 1, 1, 2, 1, 1, 7, 1, 3, 3, 1, 1, 3, 5, 2, 3, 1, 1, 1, 2, 7, 6, 1, 1, 2, 2, 1, 1, 1, 1, 1, 2, 1, 1, 4, 1, 1, 1, 1, 1, 1, 1, 1, 1, 1, 1, 1, 3, 2, 3, 2, 1, 1, 2, 1, 1, 1, 1, 1, 1, 1, 1, 2, 1, 1, 1, 1, 2, 1, 1, 1, 1, 1, 1, 2, 1, 1, 1, 10, 1, 5, 3, 1, 1, 1, 5, 3, 2, 3, 3, 1, 2, 1, 1, 3, 1, 1, 1, 1, 1, 1, 1, 1, 2, 1, 2, 1, 3, 2, 1, 1, 1, 1, 2, 1, 2, 1, 2, 1, 5, 1, 2, 1, 1, 7, 1, 1, 2, 1, 1, 3, 2, 10, 2, 1, 1, 1, 1, 1, 2, 7, 1, 1, 1, 1, 1, 6, 2, 2, 2, 2, 2, 1, 1, 1, 1, 3, 1, 1, 1, 1, 1, 3, 1, 3, 1, 1, 1, 5, 1, 1, 1, 1, 1, 1, 1, 1, 1, 2, 1, 2, 1, 1, 1, 1, 6, 1, 1, 1, 3, 2, 1, 2, 2, 1, 1, 1, 2, 1, 1, 1, 1, 3, 1, 3, 1, 6, 5, 5, 2, 1, 1, 1, 1, 1, 4, 1, 1, 2, 1, 1, 1, 6, 4, 1, 1, 1, 1, 1, 1, 1, 1, 1, 6, 1, 1, 1, 2, 1, 1, 2, 3, 3, 4, 1, 5, 2, 1, 2, 2, 1, 4, 2, 2, 1, 1, 1, 2, 1, 8, 1, 3, 5, 1, 2, 1, 1, 1, 1, 1, 4, 3, 2, 2, 1, 1, 1, 1, 1, 2, 1, 1, 1, 1, 1, 2, 2, 1, 1, 4, 1, 1, 1, 1, 1, 1, 3, 4, 1, 1, 3, 1, 1, 2, 1, 2, 1, 1, 1, 1, 2, 2, 7, 1, 2, 1, 3, 1, 2, 2, 1, 1, 1, 1, 1, 1, 4, 1, 1, 1, 1, 1, 1, 2, 1, 1, 2, 6, 1, 4, 2, 2, 4, 1, 1, 3, 2, 1, 1, 2, 1, 1, 1, 1, 1, 1, 1, 3, 1, 1, 1, 1, 1, 1, 3, 1, 2, 1, 2, 1, 1, 6, 1, 4, 2, 2, 1, 1, 5, 1, 3, 1, 1, 1, 1, 9, 2, 6, 1, 3, 1, 4, 2, 2, 1, 2, 1, 2, 1, 1, 1, 1, 1, 2, 1, 2, 1, 1, 3, 1, 1, 3, 1, 2, 1, 1, 1, 1, 1, 1, 3, 1, 1, 1, 1, 5, 2, 1, 1, 2, 1, 1, 1, 1, 1, 1, 1, 1, 1, 1, 1, 1, 1, 1, 1, 3, 1, 2, 1, 1, 1, 3, 2, 1, 1, 1, 1, 1, 4, 3, 1, 1, 1, 2, 2, 1, 3, 1, 1, 1, 4, 1, 1, 2, 2, 1, 2, 3, 2, 2, 1, 1, 1, 1, 4, 2, 2, 1, 2, 1, 1, 1, 2, 1, 1, 1, 1, 1, 1, 1, 2, 1, 2, 1, 2, 2, 2, 2, 2, 2, 1, 1, 1, 1, 1, 1, 2, 3, 2, 1, 1, 1, 1, 1, 1, 1, 1, 1, 3, 6, 1, 7, 5, 1, 1, 2, 2, 1, 1, 1, 1, 1, 2, 1, 1, 3, 2, 5, 1, 1, 1, 2, 2, 1, 1, 11, 1, 1, 1, 7, 6, 6, 3, 7, 1, 1, 1, 1, 2, 1, 1, 1, 3, 5, 1, 1, 1, 2, 1, 1, 5, 2, 1, 1, 3, 2, 1, 1, 1, 1, 1, 4, 1, 1, 1, 1, 1, 1, 1, 1, 1, 1, 1, 2, 1, 1, 2, 1, 1, 1, 2, 2, 9, 1, 1, 1, 1, 1, 1, 1, 1, 1, 1, 1, 1, 2, 1, 4, 10, 1, 1, 3, 1, 1, 1, 1, 1, 2, 1, 1, 1, 1, 1, 3, 1, 1, 2, 2, 1, 1, 1, 1, 3, 1, 1, 1, 2, 1, 1, 2, 4, 3, 1, 2, 3, 2, 2, 1, 2, 2, 1, 3, 5, 2, 1, 1, 2, 1, 1, 1, 4, 1, 2, 3, 1, 1, 2, 1, 1, 1, 2, 1, 1, 1, 2, 1, 3, 2, 1, 3, 2, 1, 1, 1, 2, 3, 5, 2, 1, 1, 1, 2, 2, 3, 1, 1, 1, 1, 4, 1, 1, 1, 1, 4, 2, 5, 1, 1, 1, 1, 1, 2, 1, 1, 2, 1, 1, 1, 1, 1, 1, 2, 1, 2, 2, 1, 2, 2, 1, 1, 1, 1, 1, 5, 1, 3, 1, 1, 3, 1, 1, 6, 6, 1, 1, 1, 2, 1, 2, 1, 1, 3, 4, 1, 3, 1, 1, 2, 3, 1, 2, 1, 1, 1, 5, 3, 4, 1, 2, 5, 1, 1, 1, 3, 1, 3, 1, 2, 3, 1, 1, 1, 1, 1, 1, 7, 3, 2, 2, 1, 2, 1, 1, 9, 1, 1, 4, 1, 1, 1, 8, 7, 1, 1, 3, 1, 3, 3, 1, 2, 3, 1, 1, 1, 3, 1, 2, 1, 1, 1, 1, 1, 1, 4, 2, 2, 1, 1, 1, 2, 2, 1, 1, 1, 4, 1, 1, 3, 1, 2, 1, 1, 7, 1, 1, 1, 6, 1, 1, 1, 1, 1, 1, 1, 2, 1, 1, 1, 1, 1, 1, 2, 1, 1, 3, 2, 1, 1, 1, 3, 3, 1, 2, 4, 1, 2, 1, 1, 1, 5, 1, 1, 1, 1, 1, 1, 1, 5, 2, 2, 1, 3, 1, 5, 1, 1, 2, 1, 3, 1, 1, 1, 3, 1, 1, 3, 3, 2, 1, 1, 1, 1, 1, 1, 1, 1, 1, 1, 1, 1, 1, 1, 3, 1, 1, 1, 13, 1, 1, 1, 2, 1, 2, 2, 1, 1, 1, 1, 2, 1, 1, 1, 1, 4, 1, 1, 1, 2, 1, 1, 1, 1, 2, 2, 1, 2, 1, 1, 1, 5, 1, 2, 2, 1, 1, 1, 1, 1, 1, 1, 1, 5, 3, 3, 1, 3, 1, 1, 1, 1, 2, 2, 3, 1, 1, 1, 2, 1, 1, 1, 1, 1, 1, 3, 1, 1, 1, 1, 2, 1, 1, 1, 1, 1, 2, 1, 1, 1, 1, 2, 3, 1, 1, 1, 1, 1, 1, 1, 1, 1, 1, 1, 2, 1, 4, 1, 1, 1, 1, 1, 1, 1, 1, 1, 2, 3, 1, 2, 1, 2, 1, 1, 2, 2, 2, 2, 1, 3, 1, 1, 1, 1, 1, 1, 1, 2, 5, 1, 1, 2, 1, 2, 1, 1, 2, 1, 1, 4, 2, 2, 2, 1, 2, 1, 1, 1, 3, 2, 1, 2, 1, 1, 1, 1, 1, 1, 1, 1, 9, 2, 1, 2, 1, 1, 1, 1, 7, 1, 3, 2, 1, 1, 1, 2, 3, 1, 4, 1, 1, 1, 2, 1, 3, 4, 1, 1, 1, 1, 2, 1, 1, 1, 4, 2, 1, 1, 1, 1, 1, 1, 1, 2, 1, 1, 1, 1, 2, 1, 1, 2, 4, 1, 1, 1, 4, 4, 4, 2, 1, 1, 1, 1, 1, 3, 1, 4, 1, 2, 3, 9, 1, 1, 11, 2, 1, 1, 3, 2, 1, 1, 1, 1, 1, 1, 1, 2, 1, 1, 1, 1, 1, 1, 3, 1, 1, 3, 1, 2, 2, 5, 1, 1, 1, 1, 1, 1, 1, 2, 4, 1, 1, 1, 3, 1, 1, 1, 3, 4, 1, 1, 1, 2, 1, 5, 3, 1, 1, 1, 1, 3, 2, 1, 1, 1, 1, 1, 1, 1, 2, 1, 1, 2, 1, 1, 1, 1, 1, 3, 2, 1, 5, 1, 2, 2, 2, 2, 1, 5, 1, 1, 1, 1, 1, 2, 2, 1, 1, 3, 2, 3, 2, 2, 1, 2, 3, 3, 1, 1, 1, 1, 1, 2, 1, 1, 1, 1, 4, 1, 2, 3, 1, 2, 1, 1, 3, 8, 1, 2, 1, 1, 1, 1, 1, 1, 1, 2, 1, 2, 1, 1, 1, 1, 3, 1, 3, 4, 1, 2, 1, 3, 8, 2, 4, 1, 3, 1, 2, 1, 1, 1, 1, 1, 1, 1, 2, 2, 2, 3, 1, 1, 2, 4, 2, 2, 2, 1, 2, 1, 1, 1, 1, 1, 1, 1, 3, 4, 1, 1, 3, 4, 1, 2, 1, 1, 1, 1, 1, 3, 2, 2, 4, 1, 1, 2, 1, 2, 2, 1, 1, 1, 1, 1, 2, 1, 5, 1, 1, 2, 2, 1, 1, 4, 1, 1, 1, 1, 2, 2, 2, 1, 2, 3, 1, 2, 1, 1, 1, 1, 1, 1, 1, 2, 1, 1, 2, 1, 1, 1, 4, 2, 1, 1, 2, 1, 1, 2, 5, 1, 2, 1, 1, 2, 1, 1, 1, 1, 3, 3, 11, 1, 1, 2, 4, 2, 2, 2, 2, 1, 1, 1, 1, 1, 1, 1, 5, 1, 1, 1, 3, 1, 6, 1, 1, 1, 3, 1, 1, 1, 2, 1, 1, 2, 1, 2, 3, 1, 1, 2, 3, 6, 1, 1, 1, 1, 1, 1, 1, 1, 3, 1, 3, 1, 1, 1, 4, 2, 1, 1, 1, 1, 2, 1, 1, 1, 1, 1, 3, 2, 1, 1, 1, 1, 1, 2, 1, 1, 1, 1, 3, 1, 1, 1, 1, 1, 1, 3, 1, 1, 1, 1, 1, 1, 1, 7, 2, 1, 1, 1, 1, 1, 1, 1, 2, 3, 1, 1, 4, 1, 1, 1, 1, 1, 1, 1, 1, 5, 1, 1, 1, 2, 2, 1, 1, 1, 2, 1, 1, 1, 2, 2, 1, 2, 1, 1, 2, 2, 2, 7, 4, 1, 5, 2, 2, 2, 2, 1, 1, 1, 1, 4, 1, 1, 1, 1, 1, 2, 1, 1, 1, 1, 2, 4, 7, 1, 1, 2, 1, 3, 1, 2, 1, 1, 1, 2, 1, 2, 1, 8, 1, 1, 1, 2, 2, 1, 1, 1, 6, 2, 1, 1, 1, 1, 1, 1, 1, 1, 1, 1, 1, 1, 3, 3, 1, 2, 1, 2, 4, 2, 1, 1, 1, 1, 2, 1, 1, 3, 1, 1, 1, 4, 1, 1, 2, 1, 2, 1, 1, 1, 3, 1, 1, 1, 1, 1, 1, 1, 1, 1, 2, 1, 1, 1, 2, 2, 2, 2, 1, 2, 2, 2, 2, 1, 1, 1, 2, 2, 1, 2, 1, 1, 1, 2, 1, 1, 2, 1, 1, 1, 1, 1, 1, 1, 1, 1, 1, 1, 1, 1, 1, 1, 1, 2, 2, 2, 1, 2, 3, 3, 1, 1, 1, 3, 2, 8, 1, 4, 3, 2, 1, 2, 1, 1, 1, 1, 3, 3, 4, 1, 1, 1, 1, 1, 1, 1, 1, 1, 1, 1, 1, 1, 1, 1, 1, 3, 1, 3, 2, 1, 1, 1, 1, 1, 1, 1, 1, 1, 1, 1, 1, 1, 1, 3, 1, 5, 3, 1, 3, 1, 1, 1, 2, 1, 1, 1, 1, 1, 1, 1, 1, 2, 3, 1, 2, 2, 1, 2, 1, 7, 2, 4, 2, 1, 1, 1, 1, 1, 2, 3, 2, 1, 2, 1, 1, 2, 1, 1, 5, 1, 1, 2, 7, 1, 1, 1, 1, 1, 1, 1, 1, 5, 2, 4, 1, 1, 1, 1, 1, 1, 1, 1, 1, 1, 1, 2, 1, 2, 5, 1, 1, 1, 1, 1, 1, 1, 1, 2, 1, 3, 1, 1, 1, 1, 1, 1, 1, 1, 2, 1, 1, 1, 1, 1, 1, 1, 1, 1, 1, 1, 1, 1, 1, 1, 1, 1, 1, 1, 1, 1, 2, 1, 1, 1, 3, 1, 1, 1, 1, 1, 1, 1, 1, 1, 1, 2, 1, 1, 1, 1, 1, 1, 1, 1, 1, 1, 1, 1, 1, 1, 1, 1, 1, 1, 1, 1, 2, 1, 1, 1, 1, 1, 1, 1, 1, 1, 4, 2, 1, 3, 1, 2, 2, 1, 1, 1, 2, 1, 1, 1, 1, 1, 1, 1, 1, 1, 2, 1, 1, 1, 3, 2, 1, 10, 3, 1, 1, 1, 1, 4, 1, 1, 2, 1, 1, 1, 1, 4, 1, 2, 2, 1, 1, 2, 1, 1, 1, 1, 1, 1, 1, 1, 3, 1, 1, 1, 1, 1, 1, 1, 1, 3, 1, 1, 1, 1, 1, 1, 2, 1, 1, 1, 2, 2, 3, 2, 1, 1, 1, 1, 1, 1, 1, 1, 1, 4, 1, 1, 1, 2, 4, 1, 2, 3, 1, 3, 2, 4, 2, 1, 1, 4, 4, 1, 1, 1, 1, 1, 1, 2, 2, 2, 1, 1, 1, 1, 5, 2, 1, 1, 3, 1, 1, 2, 2, 1, 1, 1, 1, 3, 1, 1, 1, 1, 1, 1, 1, 1, 1, 1, 4, 1, 6, 1, 3, 1, 1, 2, 1, 1, 1, 1, 1, 3, 1, 1, 2, 1, 1, 1, 2, 1, 2, 1, 1, 1, 1, 1, 2, 3, 1, 4, 4, 6, 3, 5, 6, 1, 6, 3, 1, 1, 1, 1, 1, 1, 1, 1, 1, 2, 1, 2, 1, 1, 7, 2, 1, 1, 1, 1, 1, 4, 1, 1, 1, 2, 1, 1, 1, 1, 1, 1, 2, 1, 1, 1, 1, 1, 1, 1, 1, 1, 1, 1, 3, 1, 1, 1, 1, 1, 1, 1, 1, 1, 1, 1, 1, 1, 1, 1, 1, 1, 1, 1, 1, 1, 1, 1, 13, 2, 2, 1, 2, 1, 1, 1, 1, 1, 1, 1, 1, 1, 1, 1, 1, 1, 1, 1, 1, 1, 1, 2, 1, 2, 1, 1, 1, 1, 1, 2, 2, 2, 1, 1, 2, 1, 1, 1, 1, 1, 1, 4, 1, 1, 1, 1, 3, 1, 3, 2, 1, 2, 1, 1, 1, 1, 1, 2, 1, 1, 1, 1, 1, 1, 3, 5, 2, 2, 2, 2, 3, 2, 1, 1, 3, 1, 3, 3, 2, 1, 1, 3, 2, 1, 1, 4, 1, 1, 1, 1, 1, 1, 1, 2, 4, 1, 2, 1, 1, 2, 1, 1, 2, 1, 1, 1, 1, 1, 1, 1, 1, 3, 1, 1, 1, 3, 2, 2, 1, 2, 2, 2, 1, 1, 1, 1, 1, 1, 1, 1, 2, 1, 1, 1, 1, 2, 1, 2, 1, 1, 1, 2, 1, 2, 1, 1, 1, 3, 3, 1, 2, 4, 5, 1, 1, 2, 1, 3, 1, 2, 1, 1, 2, 1, 2, 1, 1, 1, 1, 2, 3, 1, 1, 1, 1, 2, 1, 1, 2, 1, 1, 1, 1, 1, 1, 1, 2, 1, 1, 1, 1, 3, 2, 3, 1, 3, 1, 3, 1, 1, 1, 2, 1, 1, 1, 3, 1, 2, 1, 1, 1, 1, 2, 2, 1, 1, 1, 1, 1, 2, 1, 1, 1, 1, 4, 2, 1, 2, 1, 3, 1, 1, 1, 1, 1, 1, 1, 2, 1, 1, 1, 1, 2, 1, 3, 1, 1, 2, 1, 1, 1, 1, 3, 1, 4, 2, 1, 2, 1, 1, 1, 1, 2, 1, 1, 1, 1, 5, 1, 4, 2, 1, 1, 1, 1, 1, 2, 1, 2, 1, 1, 2, 4, 1, 2, 1, 1, 1, 1, 1, 1, 2, 1, 1, 1, 2, 1, 1, 2, 1, 1, 1, 2, 4, 2, 1, 1, 2, 1, 1, 1, 1, 1, 1, 1, 1, 1, 1, 1, 2, 1, 2, 1, 1, 1, 3, 1, 3, 1, 1, 2, 1, 1, 1, 3, 1, 1, 4, 1, 1, 1, 1, 2, 1, 1, 1, 1, 2, 1, 4, 1, 2, 1, 1, 1, 1, 2, 2, 1, 1, 1, 1, 1, 1, 1, 3, 1, 1, 1, 1, 1, 1, 1, 1, 1, 3, 1, 1, 1, 1, 1, 1, 1, 1, 1, 2, 1, 2, 1, 1, 1, 1, 1, 1, 1, 1, 1, 1, 1, 3, 1, 1, 2, 1, 2, 1, 1, 2, 1, 1, 1, 1, 2, 1, 1, 2, 1, 1, 1, 1, 3, 1, 2, 1, 1, 1, 1, 1, 2, 1, 1, 1, 1, 1, 3, 1, 3, 1, 1, 1, 1, 1, 3, 1, 1, 1, 1, 2, 1, 1, 1, 1, 2, 1, 1, 1, 3, 1, 1, 1, 1, 5, 1, 2, 1, 1, 1, 1, 1, 1, 1, 1, 2, 2, 1, 2, 2, 1, 1, 1, 1, 2, 2, 1, 1, 7, 8, 4, 3, 1, 1, 2, 2, 1, 1, 1, 2, 2, 1, 1, 1, 5, 1, 5, 1, 1, 1, 1, 1, 1, 2, 3, 1, 1, 1, 1, 1, 3, 1, 1, 1, 1, 1, 1, 1, 1, 3, 3, 2, 1, 4, 1, 1, 2, 1, 1, 1, 4, 2, 1, 1, 1, 1, 5, 1, 1, 1, 4, 1, 1, 1, 1, 1, 1, 1, 2, 1, 3, 1, 1, 1, 2, 1, 1, 1, 1, 1, 1, 1, 1, 3, 4, 1, 2, 1, 1, 2, 2, 1, 1, 1, 1, 1, 2, 2, 1, 3, 1, 1, 1, 1, 1, 1, 1, 3, 1, 1, 1, 6, 1, 1, 1, 1, 1, 1, 1, 2, 1, 2, 2, 1, 2, 1, 3, 3, 2, 1, 1, 1, 1, 1, 1, 1, 1, 2, 4, 1, 2, 1, 1, 1, 1, 1, 2, 1, 1, 1, 1, 2, 1, 1, 2, 2, 1, 1, 1, 1, 1, 1, 1, 1, 2, 1, 1, 1, 1, 4, 1, 4, 1, 3, 1, 2, 1, 1, 1, 2, 2, 1, 1, 1, 1, 2, 2, 1, 2, 4, 1, 1, 8, 1, 1, 1, 1, 1, 1, 1, 3, 5, 3, 2, 1, 1, 2, 1, 1, 1, 1, 1, 3, 1, 1, 1, 2, 1, 1, 4, 1, 1, 2, 1, 2, 3, 1, 1, 1, 1, 1, 1, 1, 4, 1, 1, 1, 1, 2, 1, 1, 3, 3, 1, 2, 7, 1, 1, 1, 4, 1, 1, 1, 1, 1, 1, 1, 1, 2, 1, 7, 1, 1, 2, 1, 2, 3, 1, 2, 1, 2, 1, 2, 6, 1, 1, 1, 3, 7, 1, 1, 9, 1, 1, 1, 1, 7, 1, 1, 1, 1, 1, 1, 1, 1, 1, 1, 1, 1, 1, 1, 2, 1, 1, 2, 1, 1, 2, 10, 2, 1, 3, 1, 2, 1, 2, 1, 1, 2, 5, 1, 1, 1, 1, 2, 1, 1, 1, 1, 1, 1, 3, 4, 2, 1, 1, 1, 2, 1, 2, 1, 3, 1, 1, 1, 1, 2, 1, 1, 1, 1, 1, 1, 1, 1, 3, 1, 1, 2, 10, 1, 1, 2, 1, 1, 1, 1, 1, 1, 1, 1, 1, 1, 2, 1, 1, 1, 1, 2, 1, 1, 1, 1, 1, 1, 1, 1, 1, 1, 1, 1, 2, 1, 1, 1, 1, 1, 1, 1, 3, 1, 2, 2, 1, 1, 1, 2, 1, 2, 3, 1, 2, 1, 1, 3, 4, 1, 1, 1, 3, 3, 1, 1, 1, 2, 1, 1, 1, 1, 3, 1, 1, 1, 1, 1, 1, 1, 1, 2, 1, 1, 1, 1, 2, 1, 1, 3, 1, 2, 1, 4, 1, 3, 1, 1, 2, 1, 3, 1, 3, 1, 2, 2, 1, 2, 7, 1, 1, 1, 1, 2, 1, 1, 2, 2, 3, 2, 1, 2, 1, 1, 1, 1, 1, 1, 1, 3, 1, 1, 4, 1, 1, 1, 2, 1, 1, 2, 1, 1, 5, 1, 2, 1, 1, 3, 1, 1, 3, 1, 1, 1, 1, 1, 1, 2, 1, 2, 1, 1, 1, 1, 1, 1, 2, 1, 1, 1, 1, 2, 2, 1, 1, 2, 2, 1, 1, 3, 1, 1, 1, 1, 1, 1, 1, 2, 4, 2, 4, 1, 1, 1, 1, 1, 1, 1, 2, 2, 1, 3, 3, 1, 2, 1, 2, 2, 1, 1, 1, 3, 1, 1, 1, 1, 1, 1, 1, 2, 2, 1, 1, 2, 1, 1, 2, 1, 1, 1, 3, 1, 2, 1, 1, 2, 2, 1, 1, 2, 1, 1, 1, 1, 1, 1, 1, 3, 1, 1, 2, 3, 1, 1, 1, 1, 1, 1, 1, 1, 1, 1, 1, 1, 2, 2, 2, 1, 3, 2, 1, 1, 1, 1, 1, 1, 1, 2, 1, 1, 4, 1, 2, 1, 1, 1, 2, 1, 1, 1, 1, 1, 1, 1, 1, 2, 1, 1, 4, 1, 1, 2, 3, 1, 1, 1, 2, 1, 1, 1, 1, 1, 1, 1, 1, 1, 1, 1, 2, 2, 1, 2, 1, 1, 2, 1, 1, 1, 1, 1, 1, 1, 1, 1, 1, 1, 2, 1, 1, 1, 1, 1, 1, 1, 2, 2, 1, 1, 1, 4, 3, 1, 3, 1, 1, 1, 1, 4, 1, 1, 2, 1, 1, 1, 1, 1, 1, 1, 1, 1, 1, 1, 1, 1, 4, 1, 1, 1, 1, 1, 2, 1, 1, 1, 1, 1, 1, 1, 1, 3, 1, 1, 1, 4, 1, 1, 1, 1, 1, 5, 1, 1, 1, 1, 2, 1, 1, 1, 2, 2, 1, 3, 1, 1, 4, 1, 1, 2, 2, 1, 1, 1, 3, 1, 1, 2, 2, 1, 1, 2, 1, 1, 2, 3, 1, 1, 1, 1, 3, 1, 2, 3, 3, 5, 1, 1, 1, 1, 1, 1, 1, 1, 1, 2, 1, 1, 5, 1, 1, 1, 5, 4, 1, 1, 1, 1, 2, 5, 4, 1, 1, 1, 1, 2, 2, 1, 1, 5, 1, 1, 1, 1, 2, 4, 1, 5, 2, 2, 1, 1, 2, 2, 1, 2, 1, 1, 1, 1, 4, 1, 1, 1, 1, 1, 1, 1, 1, 2, 1, 3, 1, 2, 1, 1, 2, 5, 1, 1, 2, 1, 1, 1, 1, 1, 1, 1, 1, 1, 1, 1, 3, 1, 1, 1, 1, 1, 1, 1, 1, 1, 1, 1, 1, 1, 1, 2, 2, 1, 1, 1, 1, 5, 1, 1, 1, 1, 2, 1, 1, 1, 2, 1, 3, 2, 1, 1, 1, 1, 1, 2, 2, 1, 1, 1, 1, 2, 1, 5, 1, 1, 1, 1, 4, 1, 1, 1, 2, 1, 1, 1, 1, 2, 1, 5, 1, 2, 7, 1, 1, 1, 3, 1, 1, 2, 3, 1, 1, 1, 1, 6, 1, 1, 3, 1, 1, 2, 2, 1, 2, 1, 1, 1, 2, 1, 1, 1, 1, 2, 1, 1, 1, 1, 1, 1, 1, 1, 1, 1, 1, 3, 1, 1, 1, 2, 1, 1, 1, 1, 1, 1, 1, 1, 2, 1, 5, 1, 1, 1, 2, 1, 1, 1, 1, 2, 1, 1, 1, 1, 1, 2, 1, 1, 1, 4, 2, 1, 2, 1, 3, 1, 2, 3, 3, 1, 1, 1, 1, 1, 1, 1, 1, 1, 1, 1, 2, 1, 1, 1, 1, 1, 4, 1, 1, 1, 1, 5, 2, 1, 2, 1, 1, 1, 1, 2, 2, 1, 1, 1, 1, 3, 1, 2, 1, 1, 1, 6, 1, 1, 1, 1, 1, 1, 2, 7, 1, 1, 1, 1, 1, 1, 1, 1, 1, 1, 2, 2, 1, 2, 2, 1, 2, 1, 1, 1, 2, 3, 10, 1, 1, 1, 1, 1, 1, 3, 1, 1, 2, 1, 1, 1, 4, 1, 1, 1, 1, 1, 2, 2, 1, 1, 1, 1, 1, 3, 2, 3, 1, 1, 2, 1, 1, 1, 1, 1, 1, 1, 1, 1, 2, 1, 2, 3, 4, 1, 1, 1, 3, 1, 1, 2, 2, 1, 1, 2, 2, 1, 3, 1, 1, 4, 1, 2, 1, 1, 1, 1, 1, 1, 2, 1, 1, 1, 2, 1, 4, 1, 3, 1, 1, 4, 1, 1, 1, 2, 1, 1, 1, 1, 1, 1, 2, 1, 3, 1, 2, 1, 1, 1, 1, 4, 1, 3, 1, 1, 1, 1, 1, 1, 2, 1, 1, 2, 1, 1, 1, 1, 1, 2, 1, 1, 1, 1, 1, 3, 1, 1, 2, 1, 1, 1, 2, 1, 1, 1, 1, 2, 1, 2, 3, 1, 3, 3, 1, 2, 1, 1, 1, 1, 3, 1, 3, 1, 1, 2, 3, 1, 4, 2, 4, 2, 2, 2, 2, 1, 1, 3, 1, 2, 1, 2, 3, 1, 2, 1, 1, 1, 1, 1, 1, 1, 1, 1, 1, 1, 2, 1, 1, 1, 1, 3, 1, 1, 1, 1, 1, 1, 1, 1, 1, 1, 1, 1, 1, 2, 2, 1, 1, 1, 8, 2, 1, 1, 2, 2, 1, 1, 1, 1, 2, 1, 1, 1, 1, 1, 1, 1, 1, 1, 1, 1, 1, 1, 4, 1, 1, 3, 2, 2, 4, 1, 2, 2, 3, 1, 1, 1, 1, 1, 1, 4, 1, 2, 1, 1, 1, 1, 1, 1, 1, 2, 2, 2, 5, 1, 1, 1, 1, 1, 1, 1, 1, 1, 1, 4, 1, 1, 1, 1, 1, 1, 1, 2, 1, 1, 2, 1, 1, 1, 1, 1, 1, 3, 3, 1, 2, 1, 1, 1, 1, 1, 1, 2, 1, 3, 2, 1, 1, 1, 3, 1, 1, 2, 2, 1, 1, 1, 1, 1, 1, 1, 1, 1, 1, 1, 1, 1, 1, 4, 3, 3, 1, 1, 1, 1, 1, 1, 1, 1, 1, 1, 1, 3, 1, 3, 1, 2, 1, 1, 3, 1, 1, 1, 1, 1, 1, 1, 1, 1, 1, 1, 1, 2, 1, 2, 2, 1, 1, 1, 2, 1, 1, 2, 5, 1, 1, 2, 2, 1, 1, 1, 1, 2, 1, 1, 1, 1, 1, 1, 1, 2, 1, 2, 1, 1, 1, 1, 1, 2, 1, 2, 1, 2, 1, 1, 2, 1, 4, 1, 2, 2, 1, 3, 2, 2, 1, 1, 1, 1, 1, 1, 1, 2, 1, 2, 1, 1, 4, 4, 1, 1, 2, 2, 1, 2, 1, 4, 2, 2, 1, 1, 1, 1, 1, 1, 5, 1, 8, 2, 2, 5, 1, 3, 1, 4, 1, 2, 2, 3, 1, 1, 1, 1, 2, 1, 1, 1, 2, 2, 1, 1, 1, 1, 6, 2, 1, 1, 1, 1, 1, 2, 1, 2, 1, 1, 1, 4, 1, 1, 1, 2, 2, 2, 1, 1, 1, 2, 1, 1, 1, 1, 1, 2, 1, 1, 2, 3, 3, 1, 2, 1, 1, 2, 1, 1, 1, 1, 1, 1, 1, 1, 1, 1, 1, 1, 1, 1, 1, 1, 1, 1, 1, 1, 1, 1, 1, 1, 1, 1, 1, 2, 1, 1, 5, 4, 1, 2, 1, 1, 1, 1, 1, 1, 1, 1, 1, 1, 2, 1, 3, 1, 3, 1, 1, 1, 1, 3, 2, 1, 1, 1, 1, 3, 4, 4, 2, 1, 1, 1, 1, 2, 1, 1, 3, 1, 1, 1, 1, 1, 2, 1, 2, 2, 1, 1, 1, 2, 1, 1, 1, 6, 1, 1, 1, 1, 1, 1, 1, 1, 1, 1, 2, 1, 1, 1, 1, 1, 1, 1, 1, 1, 1, 1, 4, 1, 1, 2, 1, 2, 2, 1, 1, 4, 1, 1, 1, 1, 1, 1, 3, 1, 1, 1, 1, 1, 1, 1, 1, 1, 1, 1, 1, 1, 1, 1, 2, 1, 1, 1, 1, 1, 1, 1, 1, 1, 5, 2, 1, 1, 1, 1, 1, 1, 1, 1, 1, 2, 1, 1, 1, 2, 1, 1, 3, 3, 1, 1, 2, 1, 1, 1, 1, 1, 2, 2, 1, 1, 1, 1, 1, 1, 1, 1, 2, 2, 1, 1, 1, 1, 2, 1, 1, 1, 2, 2, 1, 1, 1, 2, 1, 1, 1, 1, 1, 1, 1, 1, 1, 1, 1, 1, 2, 1, 3, 1, 5, 1, 1, 1, 1, 2, 2, 2, 1, 2, 1, 1, 1, 2, 1, 1, 1, 3, 1, 1, 1, 1, 1, 2, 1, 1, 1, 2, 2, 1, 1, 1, 1, 1, 1, 1, 1, 1, 2, 1, 1, 1, 1, 2, 2, 1, 1, 2, 1, 1, 1, 1, 1, 1, 2, 1, 1, 1, 1, 1, 2, 1, 5, 2, 1, 3, 3, 1, 1, 1, 4, 2, 1, 1, 1, 1, 1, 1, 4, 1, 1, 2, 3, 1, 1, 1, 1, 1, 1, 1, 1, 3, 1, 1, 1, 2, 2, 1, 1, 1, 1, 1, 4, 1, 1, 1, 2, 1, 1, 1, 1, 2, 1, 1, 2, 1, 1, 2, 1, 1, 1, 1, 1, 1, 1, 1, 2, 4, 1, 1, 1, 1, 1, 1, 1, 4, 3, 1, 1, 1, 1, 3, 1, 1, 1, 1, 1, 1, 2, 4, 2, 1, 1, 1, 1, 1, 1, 1, 1, 1, 1, 2, 1, 1, 1, 1, 3, 1, 1, 3, 2, 1, 3, 1, 1, 1, 2, 1, 2, 1, 1, 1, 1, 1, 2, 2, 1, 1, 1, 2, 1, 1, 1, 1, 1, 1, 1, 1, 1, 2, 1, 3, 1, 1, 1, 1, 4, 1, 1, 2, 3, 1, 1, 2, 1, 1, 1, 1, 1, 1, 1, 1, 1, 3, 1, 2, 1, 1, 2, 1, 2, 1, 1, 1, 1, 1, 4, 2, 1, 4, 1, 1, 1, 1, 1, 1, 1, 1, 1, 2, 3, 1, 4, 1, 1, 1, 1, 1, 1, 1, 1, 2, 1, 3, 1, 2, 2, 1, 1, 1, 2, 1, 1, 1, 1, 2, 1, 1, 1, 1, 1, 1, 1, 1, 1, 1, 2, 2, 3, 2, 1, 1, 1, 2, 1, 1, 2, 2, 1, 1, 1, 1, 1, 7, 2, 3, 1, 1, 2, 2, 1, 11, 2, 3, 1, 3, 1, 1, 1, 1, 1, 1, 4, 1, 1, 1, 2, 3, 2, 1, 1, 1, 2, 2, 1, 1, 1, 1, 1, 1, 1, 2, 1, 2, 1, 1, 1, 1, 1, 1, 1, 1, 1, 1, 1, 1, 1, 2, 1, 1, 1, 1, 1, 3, 1, 1, 1, 1, 1, 3, 1, 1, 1, 1, 2, 1, 3, 1, 1, 1, 1, 1, 1, 1, 2, 2, 2, 1, 1, 1, 1, 1, 1, 2, 1, 1, 3, 1, 1, 1, 4, 2, 1, 2, 3, 1, 1, 1, 1, 1, 1, 1, 1, 1, 4, 1, 1, 2, 1, 1, 1, 1, 1, 1, 1, 1, 1, 1, 2, 1, 1, 1, 1, 1, 1, 1, 1, 2, 1, 1, 1, 1, 1, 1, 1, 1, 1, 2, 2, 1, 1, 1, 1, 2, 1, 1, 1, 1, 1, 1, 1, 1, 1, 1, 1, 1, 1, 1, 1, 1, 1, 1, 1, 3, 1, 2, 2, 6, 12, 5, 3, 6, 4, 2, 2, 1, 1, 2, 1, 2, 1, 2, 1, 1, 5, 1, 2, 2, 1, 1, 1, 5, 1, 1, 1, 1, 1, 1, 1, 1, 3, 2, 1, 1, 1, 1, 1, 1, 1, 1, 1, 1, 1, 1, 2, 3, 1, 4, 1, 1, 1, 1, 2, 2, 1, 1, 1, 2, 1, 1, 1, 1, 2, 1, 1, 1, 1, 1, 1, 1, 1, 1, 4, 1, 1, 2, 1, 1, 1, 1, 2, 1, 2, 1, 1, 1, 2, 1, 2, 1, 1, 2, 1, 1, 2, 1, 1, 2, 1, 1, 1, 1, 1, 1, 1, 2, 1, 1, 1, 1, 2, 2, 1, 1, 1, 1, 3, 1, 1, 1, 1, 1, 1, 1, 3, 3, 2, 1, 2, 1, 1, 2, 1, 1, 1, 1, 1, 1, 2, 2, 1, 1, 1, 1, 1, 1, 1, 1, 2, 1, 1, 2, 1, 1, 1, 1, 1, 1, 1, 1, 1, 2, 1, 1, 2, 1, 1, 1, 2, 3, 2, 2, 1, 2, 1, 1, 1, 1, 1, 1, 1, 1, 2, 2, 1, 3, 1, 3, 1, 3, 4, 3, 2, 1, 2, 2, 1, 1, 1, 1, 1, 1, 2, 1, 1, 5, 1, 1, 1, 1, 1, 2, 1, 2, 1, 1, 1, 1, 1, 1, 2, 1, 1, 1, 1, 1, 1, 2, 1, 1, 1, 1, 1, 1, 1, 1, 1, 1, 1, 1, 1, 1, 1, 4, 1, 1, 1, 1, 3, 4, 1, 1, 2, 2, 2, 2, 1, 1, 1, 1, 1, 1, 1, 1, 1, 1, 3, 1, 1, 1, 1, 1, 2, 1, 1, 1, 1, 1, 1, 1, 3, 1, 1, 1, 3, 1, 1, 1, 1, 1, 1, 1, 1, 1, 1, 1, 1, 1, 1, 1, 1, 1, 1, 1, 1, 1, 1, 1, 1, 1, 1, 1, 1, 1, 1, 2, 2, 1, 2, 1, 1, 2, 1, 1, 1, 1, 1, 1, 1, 1, 1, 1, 1, 1, 2, 1, 1, 1, 1, 1, 1, 1, 1, 1, 1, 1, 1, 2, 1, 1, 1, 1, 1, 1, 1, 2, 2, 1, 1, 1, 1, 1, 1, 1, 2, 1, 1, 1, 1, 1, 1, 1, 1, 1, 1, 1, 1, 1, 1, 2, 4, 1, 1, 2, 1, 2, 1, 1, 3, 1, 5, 3, 2, 1, 1, 1, 1, 3, 1, 1, 1, 1, 1, 1, 2, 1, 1, 2, 3, 2, 1, 1, 1, 1, 2, 1, 2, 2, 1, 1, 1, 1, 1, 2, 1, 1, 2, 1, 1, 2, 1, 1, 1, 1, 2, 2, 1, 1, 1, 1, 2, 2, 1, 1, 1, 1, 1, 1, 1, 1, 1, 1, 1, 1, 1, 1, 1, 1, 2, 1, 2, 1, 1, 1, 1, 1, 1, 5, 1, 1, 2, 1, 1, 1, 1, 1, 1, 1, 1, 1, 1, 1, 1, 1, 1, 2, 1, 1, 6, 4, 4, 1, 1, 1, 2, 1, 1, 1, 1, 1, 3, 1, 1, 1, 2, 1, 1, 3, 2, 1, 1, 1, 1, 1, 1, 1, 1, 2, 1, 1, 2, 4, 1, 2, 2, 2, 2, 1, 1, 2, 1, 1, 1, 1, 1, 1, 1, 1, 1, 1, 2, 3, 1, 1, 1, 1, 1, 1, 1, 2, 1, 1, 1, 1, 1, 2, 1, 5, 1, 1, 2, 4, 1, 1, 1, 1, 1, 1, 1, 1, 1, 1, 1, 2, 1, 1, 1, 1, 1, 3, 3, 3, 1, 1, 1, 1, 2, 1, 1, 1, 1, 1, 3, 1, 1, 1, 1, 1, 1, 3, 1, 1, 1, 1, 2, 2, 2, 1, 1, 1, 1, 1, 1, 1, 1, 1, 1, 2, 1, 1, 1, 1, 1, 1, 2, 3, 1, 1, 1, 1, 1, 2, 1, 1, 1, 1, 3, 1, 1, 1, 1, 1, 1, 1, 1, 1, 4, 1, 1, 1, 1, 1, 1, 1, 1, 1, 1, 1, 1, 1, 1, 1, 1, 1, 1, 1, 1, 1, 1, 2, 2, 1, 1, 1, 1, 1, 1, 6, 4, 1, 1, 1, 1, 1, 1, 1, 1, 1, 1, 2, 1, 2, 1, 3, 2, 1, 1, 3, 2, 1, 1, 1, 2, 5, 1, 1, 1, 1, 1, 1, 1, 1, 1, 1, 1, 1, 1, 1, 1, 1, 1, 1, 1, 1, 1, 1, 1, 1, 1, 1, 1, 1, 1, 1, 1, 1, 1, 1, 1, 1, 1, 1, 1, 1, 1, 1, 1, 1, 1, 2, 1, 2, 2, 1, 3, 1, 1, 2, 1, 1, 1, 1, 1, 1, 1, 1, 1, 1, 2, 1, 1, 1, 1, 1, 1, 2, 2, 1, 1, 1, 1, 1, 1, 1, 1, 1, 1, 1, 1, 1, 1, 1, 1, 1, 1, 1, 1, 1, 1, 1, 1, 1, 1, 1, 1, 1, 1, 1, 1, 1, 1, 1, 1, 1, 1, 1, 1, 1, 1, 1, 1, 1, 1, 1, 3, 2, 1, 2, 2, 1, 1, 1, 1, 3, 1, 2, 1, 1, 1, 1, 3, 1, 2, 1, 1, 2, 3, 1, 1, 1, 1, 1, 1, 2, 1, 1, 1, 2, 1, 5, 1, 1, 2, 1, 1, 2, 2, 1, 1, 1, 1, 1, 1, 1, 1, 1, 1, 1, 2, 2, 1, 1, 1, 3, 1, 1, 1, 1, 1, 1, 1, 1, 2, 1, 1, 1, 1, 1, 1, 2, 1, 1, 1, 1, 2, 2, 1, 1, 1, 1, 1, 1, 1, 1, 1, 1, 1, 3, 2, 1, 1, 1, 1, 1, 1, 1, 1, 1, 1, 1, 1, 1, 1, 1, 1, 1, 1, 1, 1, 1, 4, 1, 1, 1, 1, 1, 1, 1, 1, 1, 1, 2, 1, 1, 1, 1, 1, 4, 3, 2, 2, 2, 1, 1, 2, 1, 1, 1, 1, 1, 1, 1, 1, 1, 1, 1, 1, 1, 1, 4, 1, 1, 1, 1, 1, 1, 1, 1, 1, 1, 1, 2, 2, 1, 1, 1, 2, 1, 1, 1, 1, 1, 1, 1, 1, 1, 1, 1, 2, 1, 1, 2, 1, 1, 1, 1, 2, 1, 2, 1, 1, 1, 4, 1, 1, 1, 2, 2, 2, 1, 2, 1, 1, 1, 1, 1, 1, 1, 1, 1, 1, 1, 1, 2, 1, 1, 2, 1, 2, 2, 1, 1, 3, 1, 1, 1, 1, 1, 1, 1, 1, 2, 1, 1, 1, 1, 1, 1, 3, 1, 1, 1, 1, 1, 1, 2, 2, 1, 2, 1, 1, 3, 1, 1, 1, 2, 1, 1, 1, 2, 8, 2, 3, 1, 1, 1, 1, 1, 1, 1, 2, 1, 1, 1, 1, 1, 1, 1, 1, 4, 1, 1, 1, 1, 1, 1, 1, 1, 1, 1, 6, 3, 2, 1, 1, 1, 1, 1, 1, 1, 1, 1, 1, 1, 1, 1, 1, 1, 1, 1, 2, 1, 3, 1, 1, 1, 1, 1, 1, 3, 4, 1, 2, 2, 1, 1, 2, 1, 1, 2, 1, 1, 1, 2, 1, 1, 1, 2, 1, 2, 1, 1, 1, 1, 1, 1, 2, 1, 1, 1, 1, 2, 1, 1, 1, 2, 1, 1, 2, 1, 1, 1, 1, 1, 1, 1, 2, 1, 1, 1, 2, 1, 1, 1, 2, 2, 2, 2, 2, 1, 1, 2, 3, 1, 1, 1, 1, 1, 5, 7, 2, 1, 1, 2, 1, 1, 1, 1, 1, 1, 1, 5, 1, 1, 1, 1, 1, 1, 1, 1, 1, 1, 1, 4, 1, 1, 1, 1, 1, 1, 1, 4, 1, 1, 1, 2, 1, 1, 1, 1, 1, 1, 1, 1, 1, 1, 1, 2, 1, 2, 2, 1, 3, 1, 1, 1, 1, 1, 1, 1, 1, 2, 1, 1, 1, 1, 1, 1, 1, 4, 1, 1, 2, 1, 1, 1, 1, 1, 1, 1, 1, 1, 1, 2, 1, 1, 1, 3, 1, 1, 1, 1, 1, 1, 1, 1, 1, 1, 1, 1, 1, 1, 1, 1, 1, 1, 1, 1, 3, 1, 1, 1, 2, 1, 1, 1, 1, 1, 1, 2, 1, 1, 1, 1, 2, 1, 1, 1, 1, 1, 3, 4, 1, 1, 1, 1, 1, 1, 1, 1, 1, 3, 2, 1, 1, 1, 1, 1, 4, 1, 1, 1, 1, 1, 1, 1, 1, 1, 1, 2, 2, 1, 1, 2, 2, 2, 1, 1, 2, 1, 1, 2, 3, 1, 1, 1, 1, 1, 2, 1, 1, 3, 2, 1, 1, 1, 1, 1, 1, 1, 1, 1, 1, 1, 1, 1, 1, 6, 1, 1, 2, 1, 1, 1, 1, 1, 1, 1, 1, 1, 1, 1, 1, 1, 1, 1, 1, 3, 1, 1, 1, 1, 4, 1, 1, 1, 2, 1, 1, 1, 1, 3, 1, 1, 1, 1, 1, 1, 1, 1, 1, 1, 1, 1, 1, 1, 1, 1, 1, 1, 1, 1, 2, 1, 1, 1, 1, 1, 3, 1, 1, 1, 2, 1, 2, 1, 1, 1, 1, 1, 1, 1, 1, 1, 1, 1, 1, 2, 1, 1, 2, 1, 1, 1, 2, 1, 2, 1, 1, 3, 1, 1, 1, 1, 1, 2, 1, 1, 1, 1, 4, 2, 1, 1, 1, 1, 1, 1, 1, 1, 1, 1, 1, 1, 1, 1, 1, 3, 1])\n"
          ],
          "name": "stdout"
        }
      ]
    },
    {
      "cell_type": "code",
      "metadata": {
        "id": "-EUOIzwRYkVh"
      },
      "source": [
        ""
      ],
      "execution_count": null,
      "outputs": []
    }
  ]
}